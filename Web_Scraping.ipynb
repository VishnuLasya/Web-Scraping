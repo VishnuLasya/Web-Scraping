{
 "cells": [
  {
   "cell_type": "code",
   "execution_count": 234,
   "metadata": {},
   "outputs": [
    {
     "data": {
      "text/plain": [
       "'D:\\\\Spring_2021\\\\AIT 580_Prof.Harry Foxwell\\\\9. week 9_web scraping'"
      ]
     },
     "execution_count": 234,
     "metadata": {},
     "output_type": "execute_result"
    }
   ],
   "source": [
    "import pandas as pd\n",
    "import numpy as np\n",
    "import matplotlib.pyplot as plt\n",
    "\n",
    "from urllib.request import urlopen\n",
    "from bs4 import BeautifulSoup\n",
    "import re\n",
    "\n",
    "import os\n",
    "os.getcwd()\n",
    "os.chdir('D:/Spring_2021/AIT 580_Prof.Harry Foxwell/9. week 9_web scraping')\n",
    "os.getcwd()"
   ]
  },
  {
   "cell_type": "code",
   "execution_count": 235,
   "metadata": {},
   "outputs": [],
   "source": [
    "url=\"https://top500.org/statistics/sublist/\"\n",
    "html=urlopen(url)\n",
    "soup=BeautifulSoup(html)"
   ]
  },
  {
   "cell_type": "code",
   "execution_count": 236,
   "metadata": {},
   "outputs": [
    {
     "name": "stdout",
     "output_type": "stream",
     "text": [
      "[<td>500</td>, <td>\n",
      "<a href=\"/system/179351\">\n",
      "<b>Internet Company T FF1</b> - Lenovo HR650x, Xeon Gold 6133 20C 2.5GHz, 25G Ethernet,\n",
      "                </a> Lenovo\n",
      "                <br/>\n",
      "<a href=\"/site/50329\">Service Provider T</a><br/>China\n",
      "                \n",
      "            </td>, <td style=\"text-align: right;\">29,920</td>, <td style=\"text-align: right;\">1,316.8</td>, <td style=\"text-align: right;\">2,393.6</td>, <td></td>]\n"
     ]
    }
   ],
   "source": [
    "all_rows=soup.find_all(\"tr\")\n",
    "\n",
    "for row in all_rows:\n",
    "    row_list=row.find_all('td')\n",
    "print(row_list)    #prints last row\n",
    "\n"
   ]
  },
  {
   "cell_type": "code",
   "execution_count": 237,
   "metadata": {},
   "outputs": [
    {
     "name": "stdout",
     "output_type": "stream",
     "text": [
      "[['1', 'Supercomputer Fugaku - Supercomputer Fugaku, A64FX 48C 2.2GHz, Tofu interconnect D,\\n                 Fujitsu\\n                \\nRIKEN Center for Computational ScienceJapan', '7,630,848', '442,010.0', '537,212.0', '29,899'], ['2', 'Summit - IBM Power System AC922, IBM POWER9 22C 3.07GHz, NVIDIA Volta GV100, Dual-rail Mellanox EDR Infiniband,\\n                 IBM\\n                \\nDOE/SC/Oak Ridge National LaboratoryUnited States', '2,414,592', '148,600.0', '200,794.9', '10,096'], ['3', 'Sierra - IBM Power System AC922, IBM POWER9 22C 3.1GHz, NVIDIA Volta GV100, Dual-rail Mellanox EDR Infiniband,\\n                 IBM / NVIDIA / Mellanox\\n                \\nDOE/NNSA/LLNLUnited States', '1,572,480', '94,640.0', '125,712.0', '7,438'], ['4', 'Sunway TaihuLight - Sunway MPP, Sunway SW26010 260C 1.45GHz, Sunway,\\n                 NRCPC\\n                \\nNational Supercomputing Center in WuxiChina', '10,649,600', '93,014.6', '125,435.9', '15,371'], ['5', 'Selene - NVIDIA DGX A100, AMD EPYC 7742 64C 2.25GHz, NVIDIA A100, Mellanox HDR Infiniband,\\n                 Nvidia\\n                \\nNVIDIA CorporationUnited States', '555,520', '63,460.0', '79,215.0', '2,646'], ['6', 'Tianhe-2A - TH-IVB-FEP Cluster, Intel Xeon E5-2692v2 12C 2.2GHz, TH Express-2, Matrix-2000,\\n                 NUDT\\n                \\nNational Super Computer Center in GuangzhouChina', '4,981,760', '61,444.5', '100,678.7', '18,482'], ['7', 'JUWELS Booster Module - Bull Sequana XH2000 , AMD EPYC 7402 24C 2.8GHz, NVIDIA A100, Mellanox HDR InfiniBand/ParTec ParaStation ClusterSuite,\\n                 Atos\\n                \\nForschungszentrum Juelich (FZJ)Germany', '449,280', '44,120.0', '70,980.0', '1,764'], ['8', 'HPC5 - PowerEdge C4140, Xeon Gold 6252 24C 2.1GHz, NVIDIA Tesla V100, Mellanox HDR Infiniband,\\n                 Dell EMC\\n                \\nEni S.p.A.Italy', '669,760', '35,450.0', '51,720.8', '2,252'], ['9', 'Frontera - Dell C6420, Xeon Platinum 8280 28C 2.7GHz, Mellanox InfiniBand HDR,\\n                 Dell EMC\\n                \\nTexas Advanced Computing Center/Univ. of TexasUnited States', '448,448', '23,516.4', '38,745.9', ''], ['10', 'Dammam-7 - Cray CS-Storm, Xeon Gold 6248 20C 2.5GHz, NVIDIA Tesla V100 SXM2, InfiniBand HDR 100,\\n                 HPE\\n                \\nSaudi AramcoSaudi Arabia', '672,520', '22,400.0', '55,423.6', ''], ['11', 'Marconi-100 - IBM Power System AC922, IBM POWER9 16C 3GHz, Nvidia Volta V100, Dual-rail Mellanox EDR Infiniband,\\n                 IBM\\n                \\nCINECAItaly', '347,776', '21,640.0', '29,354.0', '1,476'], ['12', 'Piz Daint - Cray XC50, Xeon E5-2690v3 12C 2.6GHz, Aries interconnect , NVIDIA Tesla P100,\\n                 Cray/HPE\\n                \\nSwiss National Supercomputing Centre (CSCS)Switzerland', '387,872', '21,230.0', '27,154.3', '2,384'], ['13', 'Trinity - Cray XC40, Xeon E5-2698v3 16C 2.3GHz, Intel Xeon Phi 7250 68C 1.4GHz, Aries interconnect,\\n                 Cray/HPE\\n                \\nDOE/NNSA/LANL/SNLUnited States', '979,072', '20,158.7', '41,461.2', '7,578'], ['14', 'AI Bridging Cloud Infrastructure (ABCI) - PRIMERGY CX2570 M4, Xeon Gold 6148 20C 2.4GHz, NVIDIA Tesla V100 SXM2, Infiniband EDR,\\n                 Fujitsu\\n                \\nNational Institute of Advanced Industrial Science and Technology (AIST)Japan', '391,680', '19,880.0', '32,576.6', '1,649'], ['15', 'SuperMUC-NG - ThinkSystem SD650, Xeon Platinum 8174 24C 3.1GHz, Intel Omni-Path,\\n                 Lenovo\\n                \\nLeibniz RechenzentrumGermany', '305,856', '19,476.6', '26,873.9', ''], ['16', 'Hawk - Apollo 9000, AMD EPYC 7742 64C 2.25GHz, Mellanox HDR Infiniband,\\n                 HPE\\n                \\nHLRS - Höchstleistungsrechenzentrum StuttgartGermany', '698,880', '19,334.0', '25,159.7', '3,906'], ['17', 'Lassen - IBM Power System AC922, IBM POWER9 22C 3.1GHz, Dual-rail Mellanox EDR Infiniband, NVIDIA Tesla V100,\\n                 IBM / NVIDIA / Mellanox\\n                \\nDOE/NNSA/LLNLUnited States', '288,288', '18,200.0', '23,047.2', ''], ['18', 'PANGEA III - IBM Power System AC922, IBM POWER9 18C 3.45GHz, Dual-rail Mellanox EDR Infiniband, NVIDIA Volta GV100,\\n                 IBM\\n                \\nTotal Exploration ProductionFrance', '291,024', '17,860.0', '25,025.8', '1,367'], ['19', 'TOKI-SORA - PRIMEHPC FX1000, A64FX 48C 2.2GHz, Tofu interconnect D,\\n                 Fujitsu\\n                \\nJapan Aerospace eXploration AgencyJapan', '276,480', '16,592.0', '19,464.2', ''], ['20', 'Cori - Cray XC40, Intel Xeon Phi 7250 68C 1.4GHz, Aries interconnect ,\\n                 Cray/HPE\\n                \\nDOE/SC/LBNL/NERSCUnited States', '622,336', '14,014.7', '27,880.7', '3,939'], ['21', 'Nurion - Cray CS500, Intel Xeon Phi 7250 68C 1.4GHz, Intel Omni-Path,\\n                 Cray/HPE\\n                \\nKorea Institute of Science and Technology InformationSouth Korea', '570,020', '13,929.3', '25,705.9', ''], ['22', 'Oakforest-PACS - PRIMERGY CX1640 M1, Intel Xeon Phi 7250 68C 1.4GHz, Intel Omni-Path,\\n                 Fujitsu\\n                \\nJoint Center for Advanced High Performance ComputingJapan', '556,104', '13,554.6', '24,913.5', '2,719'], ['23', 'HPC4 - Proliant DL380 Gen10, Xeon Platinum 8160  24C 2.1GHz, Mellanox InfiniBand EDR, NVIDIA Tesla P100,\\n                 HPE\\n                \\nEni S.p.A.Italy', '253,600', '12,210.0', '18,621.1', '1,320'], ['24', \"Tera-1000-2 - Bull Sequana X1000, Intel Xeon Phi 7250 68C 1.4GHz, Bull BXI 1.2,\\n                 Atos\\n                \\nCommissariat a l'Energie Atomique (CEA)France\", '561,408', '11,965.5', '23,396.4', '3,178'], ['25', 'Stampede2 - PowerEdge C6320P/C6420, Intel Xeon Phi 7250 68C 1.4GHz/Platinum 8160, Intel Omni-Path,\\n                 Dell EMC\\n                \\nTexas Advanced Computing Center/Univ. of TexasUnited States', '367,024', '10,680.7', '18,309.2', ''], ['26', 'DGX SuperPOD - NVIDIA DGX-2H, Xeon Platinum 8174 24C 3.1GHz, NVIDIA Tesla V100, Mellanox InfiniBand EDR,\\n                 Nvidia\\n                \\nNVIDIA CorporationUnited States', '127,488', '9,444.0', '11,209.1', ''], ['27', 'Gadi - PRIMERGY CX2570 M5, ThinkSystem SD650, Xeon Platinum 8274/8268, NVIDIA Tesla V100 SXM2, Mellanox HDR Infiniband,\\n                 Fujitsu / Lenovo\\n                \\nNational Computational Infrastructure (NCI Australia)Australia', '204,032', '9,264.3', '15,142.2', ''], ['28', 'Taiwania 2 - QCT QuantaGrid D52G-4U/LC, Xeon Gold 6154 18C 3GHz, Mellanox InfiniBand EDR, NVIDIA Tesla V100 SXM2,\\n                 Quanta Computer / Taiwan Fixed Network / ASUS Cloud\\n                \\nNational Center for High Performance ComputingTaiwan', '170,352', '9,000.0', '15,208.2', '798'], ['29', 'AiMOS - IBM Power System AC922, IBM POWER9 20C 3.45GHz, NVIDIA Volta GV100, Dual-rail Mellanox EDR Infiniband,\\n                 IBM\\n                \\nRensselaer Polytechnic Institute Center for Computational Innovations (CCI)United States', '130,000', '8,339.0', '11,032.0', '512'], ['30', 'Taranis - Bull Sequana XH2000 , AMD EPYC 7742 64C 2.25GHz, Mellanox InfiniBand HDR100,\\n                 Atos\\n                \\nMeteo FranceFrance', '294,912', '8,191.0', '10,321.9', '1,672'], ['31', 'TSUBAME3.0 - SGI ICE XA, IP139-SXM2, Xeon E5-2680v4 14C 2.4GHz, Intel Omni-Path, NVIDIA Tesla P100 SXM2,\\n                 HPE\\n                \\nGSIC Center, Tokyo Institute of TechnologyJapan', '135,828', '8,125.0', '12,127.1', '792'], ['32', 'Roxy - Apollo 2000, Xeon Gold 6248 20C 2.5GHz, Infiniband EDR,\\n                 HPE\\n                \\nGovernmentUnited States', '174,720', '8,124.5', '13,977.6', ''], ['33', 'Plasma Simulator - SX-Aurora TSUBASA A412-8, Vector Engine Type10AE 8C 1.58GHz, Infiniband HDR 200,\\n                 NEC\\n                \\nNational Institute for Fusion Science (NIFS)Japan', '34,560', '7,892.7', '10,510.7', '1,550'], ['34', 'Belenos - Bull Sequana XH2000 , AMD EPYC 7742 64C 2.25GHz, Mellanox HDR100,\\n                 Atos\\n                \\nMeteo FranceFrance', '294,912', '7,683.4', '10,469.4', '1,655'], ['35', 'PupMaya - Apollo 2000, Xeon Gold 6148 20C 2.4GHz, Infiniband EDR,\\n                 HPE\\n                \\nGovernmentUnited States', '169,920', '7,483.7', '12,902.4', ''], ['36', 'Artemis - NVIDIA DGX-2, Xeon Platinum 8168 24C 2.7GHz, Infiniband EDR, NVIDIA Tesla V100,\\n                 Nvidia\\n                \\nGroup 42United Arab Emirates', '107,568', '7,257.0', '9,492.2', '673'], ['37', 'Cray XC40, Xeon E5-2695v4 18C 2.1GHz, Aries interconnect ,\\n                 Cray/HPE\\n                \\nUnited Kingdom Meteorological OfficeUnited Kingdom', '241,920', '7,038.9', '8,128.5', ''], ['38', 'JOLIOT-CURIE ROME - Bull Sequana XH2000 , AMD Rome 7H12 64C 2.6GHz, Mellanox HDR100,\\n                 Atos\\n                \\nCEA/TGCC-GENCIFrance', '197,120', '6,988.0', '12,039.4', '1,436'], ['39', 'Theta - Cray XC40, Intel Xeon Phi 7230 64C 1.3GHz, Aries interconnect ,\\n                 Cray/HPE\\n                \\nDOE/SC/Argonne National LaboratoryUnited States', '280,320', '6,920.9', '11,661.3', ''], ['40', 'Christofari - NVIDIA DGX-2, Xeon Platinum 8168 24C 2.7GHz, Mellanox InfiniBand EDR, NVIDIA Tesla V100,\\n                 Nvidia\\n                \\nSberCloudRussia', '99,600', '6,669.0', '8,789.8', ''], ['41', 'Flow - PRIMEHPC FX1000, A64FX 48C 2.2GHz, Tofu interconnect D,\\n                 Fujitsu\\n                \\nInformation Technology Center, Nagoya UniversityJapan', '110,592', '6,617.8', '7,785.7', ''], ['42', 'MareNostrum - Lenovo SD530, Xeon Platinum 8160 24C 2.1GHz, Intel Omni-Path,\\n                 Lenovo\\n                \\nBarcelona Supercomputing CenterSpain', '153,216', '6,470.8', '10,296.1', '1,632'], ['43', 'ONYX - Cray XC40, Xeon E5-2699v4  22C 2.2GHz, Aries interconnect ,\\n                 Cray/HPE\\n                \\nERDC DSRCUnited States', '211,816', '6,316.0', '7,455.9', ''], ['44', 'JUWELS Module 1 - Bull Sequana X1000, Xeon Platinum 8168 24C 2.7GHz, Mellanox EDR InfiniBand/ParTec ParaStation ClusterSuite,\\n                 Atos\\n                \\nForschungszentrum Juelich (FZJ)Germany', '114,480', '6,177.7', '9,891.1', '1,361'], ['45', 'HPE SGI 8600, Xeon Gold 6248R 24C 3GHz, NVIDIA Tesla V100 SXM2, Infiniband EDR,\\n                 HPE\\n                \\nJapan Atomic Energy Agency(JAEA) / Quantum and Radiological Science and Technology(QST)Japan', '100,096', '6,162.0', '8,439.6', ''], ['46', 'Pleiades - SGI ICE X, Intel Xeon E5-2670/E5-2680v2/E5-2680v3/E5-2680v4  2.6/2.8/2.5/2.4 GHz, Infiniband FDR,\\n                 HPE\\n                \\nNASA/Ames Research Center/NASUnited States', '241,108', '5,951.6', '7,107.1', '4,407'], ['47', 'Emmy+ - BullSequana X, Intel Xeon Platinum 9242/Gold 6148, Intel Omni-Path,\\n                 Atos\\n                \\nHLRN+ at GWDG/University of GöttingenGermany', '120,296', '5,948.8', '8,911.3', ''], ['48', 'Sawtooth - HPE SGI 8600, Xeon Platinum 8268 24C 2.9GHz, Infiniband EDR/HDR ,\\n                 HPE\\n                \\nIdaho National LaboratoryUnited States', '99,792', '5,780.6', '9,220.6', '1,432'], ['49', 'Cray XC50, Xeon Platinum 8160  24C 2.1GHz, Aries interconnect ,\\n                 Cray Inc./Hitachi\\n                \\nJapan Meteorological AgencyJapan', '135,792', '5,730.5', '9,125.2', '1,354'], ['50', 'Cray XC50, Xeon Platinum 8160  24C 2.1GHz, Aries interconnect ,\\n                 Cray Inc./Hitachi\\n                \\nJapan Meteorological AgencyJapan', '135,792', '5,730.5', '9,125.2', '1,354'], ['51', 'COBRA - Intel Compute Module HNS2600BP, Xeon Gold 6148 20C 2.4GHz, Intel Omni-Path,\\n                 Intel\\n                \\nMax-Planck-Gesellschaft MPI/IPPGermany', '127,520', '5,612.8', '9,793.5', '1,635'], ['52', 'Shaheen II - Cray XC40, Xeon E5-2698v3 16C 2.3GHz, Aries interconnect ,\\n                 Cray/HPE\\n                \\nKing Abdullah University of Science and TechnologySaudi Arabia', '196,608', '5,537.0', '7,235.2', '2,834'], ['53', 'Electra - HPE SGI 8600/SGI ICE-X, E5-2680V4/ Xeon Gold 6148 20C 2.4GHz, Infiniband EDR/FDR-56 IB,\\n                 HPE\\n                \\nNASA/Ames Research Center/NASUnited States', '124,416', '5,444.6', '8,316.5', '1,686'], ['54', 'MAHTI - Bull Sequana XH2000 , AMD Rome 7H12 64C 2.6GHz, Mellanox HDR100,\\n                 Atos\\n                \\nCSC (Center for Scientific Computing)Finland', '169,728', '5,388.5', '7,060.7', '1,070'], ['55', 'Lise - Bull intel Cluster, Intel Xeon Platinum 9242 48C 2.3GHz, Intel Omni-Path,\\n                 Atos\\n                \\nHLRN at ZIB/Konrad Zuse-Zentrum BerlinGermany', '103,680', '5,355.9', '7,630.8', '1,258'], ['56', 'Pangea - SGI ICE X, Xeon Xeon E5-2670/ E5-2680v3 12C 2.5GHz, Infiniband FDR,\\n                 HPE\\n                \\nTotal Exploration ProductionFrance', '220,800', '5,283.1', '6,712.3', '4,150'], ['57', 'TX-GAIA (Green AI Accelerator) - Apollo 2000, Xeon Gold 6248 20C 2.5GHz, NVIDIA Tesla V100, Intel Omni-Path,\\n                 HPE\\n                \\nMIT Lincoln Laboratory Supercomputing CenterUnited States', '88,400', '5,161.0', '6,981.5', '1,436'], ['58', 'Flow Type II subsystem - PRIMERGY CX2570 M5, Xeon Gold 6230 20C 2.1GHz, NVIDIA Tesla V100 SXM2, Infiniband EDR,\\n                 Fujitsu\\n                \\nInformation Technology Center, Nagoya UniversityJapan', '79,560', '4,880.5', '7,519.3', ''], ['59', 'Eagle - HPE SGI 8600, Xeon Gold 6154 18C 3GHz, EDR Infiniband/ 8D Hypercube,\\n                 HPE\\n                \\nNational Renewable Energy LaboratoryUnited States', '75,600', '4,850.7', '7,257.6', ''], ['60', 'Cheyenne - SGI ICE XA, Xeon E5-2697v4 18C 2.3GHz, Infiniband EDR,\\n                 HPE\\n                \\nNational Center for Atmospheric Research (NCAR)United States', '144,900', '4,788.2', '5,332.3', '1,727'], ['61', 'Betzy - Bull Sequana XH2000 , AMD EPYC 7742 64C 2.25GHz, Mellanox HDR Infiniband,\\n                 Atos\\n                \\nUNINETT Sigma2 ASNorway', '172,032', '4,724.8', '6,193.1', ''], ['62', 'PARAM Siddhi-AI - NVIDIA DGX A100, AMD EPYC 7742 64C 2.25GHz, NVIDIA A100, Mellanox HDR Infiniband,\\n                 Atos\\n                \\nCenter for Development of Advanced Computing (C-DAC)India', '41,664', '4,619.0', '5,267.1', ''], ['63', 'ITO - Subsystem A - Fujitsu PRIMERGY CX2550/CX2560 M4, Xeon Gold 6154 18C 3GHz, Mellanox InfiniBand EDR,\\n                 Fujitsu\\n                \\nResearch Institute for Information Technology, Kyushu UniversityJapan', '72,000', '4,540.7', '6,912.0', ''], ['64', 'Jean Zay - HPE SGI 8600, Xeon Gold 6248 20C 2.5GHz, NVIDIA Tesla V100 SXM2, Intel Omni-Path,\\n                 HPE\\n                \\nCNRS/IDRIS-GENCIFrance', '93,960', '4,478.0', '7,345.6', ''], ['65', 'Atlas - Bull 4029GP-TVRT, Xeon Gold 6240 18C 2.6GHz, NVIDIA Tesla V100, Infiniband EDR,\\n                 Atos\\n                \\nPetróleo Brasileiro S.ABrazil', '91,936', '4,376.0', '8,848.5', '547'], ['66', 'Advanced Computing System(PreE) - Sugon TC8600, Hygon Dhyana  32C 2GHz, Deep Computing Processor, 200Gb 6D-Torus,\\n                 Sugon\\n                \\nSugonChina', '163,840', '4,325.0', '6,134.2', '380'], ['67', 'CRONOS - BullSequana X, Xeon Platinum 8260 24C 2.4GHz, Infiniband HDR,\\n                 Atos\\n                \\nEDFFrance', '81,600', '4,299.3', '7,136.9', '1,226'], ['68', 'Oakbridge-CX - Fujitsu PRIMERGY CX2550/CX2560 M5, Xeon Platinum 8280 28C 2.7GHz, Intel Omni-Path,\\n                 Fujitsu\\n                \\nInformation Technology Center, The University of TokyoJapan', '76,608', '4,289.9', '6,618.9', '845'], ['69', 'SNL/NNSA CTS-1 Manzano - Tundra Extreme Scale, Xeon Platinum 8268 24C 2.9GHz, Intel Omni-Path,\\n                 Penguin Computing, Inc.\\n                \\nSandia National LaboratoriesUnited States', '71,424', '4,281.0', '6,628.1', '960'], ['70', 'Apollo 6500 XL270d Gen10, Xeon Gold 6140 18C 2.3GHz, Mellanox InfiniBand EDR, NVIDIA Tesla V100 SXM2,\\n                 HPE\\n                \\nResearch InstituteJapan', '70,416', '4,128.0', '5,783.8', ''], ['71', 'Aitken 2 - Apollo 9000, AMD EPYC 7742 64C 2.25GHz, Mellanox HDR Infiniband,\\n                 HPE\\n                \\nNASA/Ames Research Center/NASUnited States', '131,072', '4,101.0', '4,718.6', ''], ['72', 'JOLIOT-CURIE SKL - Bull Sequana X1000, Xeon Platinum 8168 24C 2.7GHz, Mellanox EDR,\\n                 Atos\\n                \\nCEA/TGCC-GENCIFrance', '79,488', '4,065.6', '6,635.5', '917'], ['73', 'Abel - Cray XC30, Xeon E5-2698v3 16C 2.3GHz, Aries interconnect ,\\n                 Cray/HPE\\n                \\nPetroleum Geo-ServicesUnited States', '145,920', '4,042.5', '5,369.9', '1,800'], ['74', 'Cray XC40, Xeon E5-2695v4 18C 2.1GHz, Aries interconnect ,\\n                 Cray/HPE\\n                \\nECMWFUnited Kingdom', '126,468', '3,944.7', '4,249.3', '1,897'], ['75', 'Cray XC40, Xeon E5-2695v4 18C 2.1GHz, Aries interconnect ,\\n                 Cray/HPE\\n                \\nECMWFUnited Kingdom', '126,468', '3,944.7', '4,249.3', '1,897'], ['76', 'JURECA - T-Platforms V-Class/Dell C6320P, E5-2680v3/Phi 7250-F, EDR/Intel Omni-Path/ParTec ParaStation, Tesla K80/K40,\\n                 T-Platforms, Intel, Dell\\n                \\nForschungszentrum Juelich (FZJ)Germany', '155,150', '3,782.6', '6,563.8', '1,345'], ['77', 'Pratyush - Cray XC40, Xeon E5-2695v4 18C 2.1GHz, Aries interconnect ,\\n                 Cray/HPE\\n                \\nIndian Institute of Tropical MeteorologyIndia', '119,232', '3,763.9', '4,006.2', '1,353'], ['78', 'Apollo 6500 XL270d Gen10, Xeon Gold 6150/6152 18C 2.7GHz, Mellanox InfiniBand EDR, NVIDIA Tesla V100 SXM2,\\n                 HPE\\n                \\nSAKURA Internet Inc. / Prunus Solutions Inc.Japan', '65,208', '3,712.0', '5,365.1', ''], ['79', 'LLNL Ruby - Supermicro SYS-2029TP-HTR, Xeon Platnium 8276L 28C 2.2GHz, Cornelis Networks Omni-Path,\\n                 Supermicro\\n                \\nLawrence Livermore National LaboratoryUnited States', '85,568', '3,700.2', '6,024.0', ''], ['80', 'Orion - PowerEdge C6420, Xeon Gold 6148 20C 2.4GHz, Infiniband HDR,\\n                 Dell EMC\\n                \\nMississippi State UniversityUnited States', '70,560', '3,665.7', '5,419.0', ''], ['81', 'Joule 2.0 - HP ProLiant XL170r/XL190r/DL360 Gen10, Xeon Gold 6148 20C 2.4GHz, Intel Omni-Path, NVIDIA Tesla P100,\\n                 HPE\\n                \\nDOE/National Energy Technology LaboratoryUnited States', '86,400', '3,608.6', '5,750.8', ''], ['82', 'Niagara - ThinkSystem SD530, Xeon Gold 6248 20C 2.5GHz, InfiniBand HDR100,\\n                 Lenovo\\n                \\nSciNet/University of Toronto/Compute CanadaCanada', '80,640', '3,599.7', '6,253.1', '919'], ['83', 'Cray CS-Storm, Intel Xeon E5-2660v2 10C 2.2GHz, Infiniband FDR, Nvidia K40,\\n                 Cray/HPE\\n                \\nGovernmentUnited States', '72,800', '3,577.0', '6,131.8', '1,499'], ['84', 'Cray CS-Storm, Intel Xeon E5-2660v2 10C 2.2GHz, Infiniband FDR, Nvidia K40,\\n                 Cray/HPE\\n                \\nGovernmentUnited States', '72,800', '3,577.0', '6,131.8', '1,499'], ['85', 'Altair - CH121L V5 Liquid-Cooled, Xeon Platinum 8268 24C 2.9GHz, Infiniband EDR,\\n                 Huawei Technologies Co., Ltd.\\n                \\nPCSS PoznanPoland', '63,360', '3,533.6', '5,879.8', '829'], ['86', 'Unizah-II - Cray CS500, Xeon Gold 6248 20C 2.5GHz, 10G Ethernet,\\n                 HPE\\n                \\nSaudi AramcoSaudi Arabia', '85,560', '3,487.9', '6,844.8', ''], ['87', 'Ohtaka - PowerEdge C6525, AMD EPYC 7702 64C 2GHz, Mellanox HDR Infiniband,\\n                 Dell EMC\\n                \\nThe Institute for Solid State Physics, The University of TokyoJapan', '215,040', '3,486.1', '5,120.0', ''], ['88', 'davinci-1 - BullSequana X, AMD EPYC 7402 24C 2.8GHz, NVIDIA A100, Mellanox HDR Infiniband,\\n                 Atos\\n                \\nLeonardo SpAItaly', '38,400', '3,449.0', '6,412.0', ''], ['89', 'Cedar (GPU) - PowerEdge C6420, Xeon Silver 4216 16C 2.1GHz, NVIDIA Tesla V100, Intel Omni-Path,\\n                 ACTION\\n                \\nSimon Fraser University/Compute CanadaCanada', '67,584', '3,371.0', '5,834.4', '310'], ['90', 'Topaz - SGI ICE X, Xeon E5-2699v3 18C 2.3GHz, Infiniband FDR,\\n                 HPE\\n                \\nERDC DSRCUnited States', '124,200', '3,318.9', '4,570.6', '5,175'], ['91', 'NVIDIA DGX-1/Relion 2904GT, Xeon E5-2698v4 20C 2.2GHz/ E5-2650v4, Infiniband EDR, NVIDIA Tesla P100/Quadro GP100,\\n                 Self-made\\n                \\nFacebookUnited States', '60,512', '3,307.0', '4,896.5', '350'], ['92', 'DGX Saturn V - NVIDIA DGX-1, Xeon E5-2698v4 20C 2.2GHz, Infiniband EDR, NVIDIA Tesla P100,\\n                 Nvidia\\n                \\nNVIDIA CorporationUnited States', '60,512', '3,307.0', '4,896.5', '350'], ['93', 'Damson - Bull Sequana X1000, Xeon E5-2697v4 18C 2.3GHz, Infiniband EDR,\\n                 Atos\\n                \\nAWEUnited Kingdom', '113,832', '3,243.4', '3,791.6', '1,134'], ['94', 'LLNL/NNSA CTS-1 MAGMA - Relion Cluster, Intel Xeon Platinum 9242 48C 2.3GHz, Intel Omni-Path,\\n                 Penguin Computing, Inc.\\n                \\nLawrence Livermore National LaboratoryUnited States', '62,400', '3,241.2', '4,592.6', '887'], ['95', 'Mustang - HPE SGI 8600, Xeon Platinum 8168 24C 2.7GHz, Intel Omni-Path,\\n                 HPE\\n                \\nAir Force Research LaboratoryUnited States', '55,296', '3,221.4', '4,777.6', ''], ['96', 'HPC2 - iDataPlex DX360M4, Intel Xeon E5-2680v2  10C 2.8GHz, Infiniband FDR, NVIDIA K20x,\\n                 IBM\\n                \\nEni S.p.A.Italy', '72,000', '3,188.0', '4,605.0', '1,227'], ['97', 'Fênix - Bull 4029GP-TVRT, Xeon Gold 5122 4C 3.6GHz, NVIDIA Tesla V100, Infiniband EDR,\\n                 Atos\\n                \\nPetróleo Brasileiro S.ABrazil', '60,480', '3,161.0', '5,371.8', '390'], ['98', 'Toubkal - PowerEdge C6420, CRC-StackHPC, Xeon Platnium 8276L 28C 2.2GHz, Mellanox InfiniBand HDR100,\\n                 Dell EMC\\n                \\nMohammed VI Polytechnic University - African Supercomputing CentreMorocco', '71,232', '3,158.1', '5,014.7', ''], ['99', 'SORA-MA - Fujitsu PRIMEHPC FX100, SPARC64 XIfx  32C 1.98GHz, Tofu interconnect 2,\\n                 Fujitsu\\n                \\nJapan Aerospace eXploration AgencyJapan', '110,160', '3,157.0', '3,481.1', '1,652'], ['100', 'Lichtenberg II (Phase 1) - MEGWARE MiriQuid, Intel Xeon Platinum 9242 48C 2.3GHz, Mellanox InfiniBand HDR100,\\n                 MEGWARE\\n                \\nTechnische Universitaet DarmstadtGermany', '59,136', '3,148.4', '4,352.4', '690'], ['101', 'Cray XC30, Intel Xeon E5-2697v2 12C 2.7GHz, Aries interconnect ,\\n                 Cray/HPE\\n                \\nGovernmentUnited States', '225,984', '3,143.5', '4,881.3', '6,328'], ['102', 'Thunder - SGI ICE X, Xeon E5-2699v3/E5-2697 v3, Infiniband FDR, NVIDIA Tesla K40, Intel Xeon Phi 7120P,\\n                 HPE\\n                \\nAir Force Research LaboratoryUnited States', '152,692', '3,126.2', '5,610.5', '4,820'], ['103', 'Lenovo HR650x, Xeon Gold 6133 20C 2.5GHz, 25G Ethernet,\\n                 Lenovo\\n                \\nService Provider TChina', '76,000', '3,088.6', '6,080.0', ''], ['104', 'Alps - HPE Cray EX, AMD EPYC 7742 64C 2.25GHz, Slingshot-10,\\n                 HPE\\n                \\nSwiss National Supercomputing Centre (CSCS)Switzerland', '128,000', '3,088.6', '4,608.0', '638'], ['105', 'Numerical Materials Simulator - HPE SGI 8600, Xeon Platinum 8268 24C 2.9GHz, Dual-rail Intel Omni-Path,\\n                 HPE\\n                \\nNational Institute for Materials ScienceJapan', '53,568', '3,082.1', '4,971.1', '691'], ['106', 'Hera - Cray CS500, Xeon Gold 6148 20C 2.4GHz, Infiniband HDR,\\n                 Cray/HPE\\n                \\nNOAA Environmental Security Computer CenterUnited States', '63,840', '3,080.8', '4,884.5', ''], ['107', 'Camphor 2 - Cray XC40, Intel Xeon Phi 7250 68C 1.4GHz, Aries interconnect ,\\n                 Cray/HPE\\n                \\nAcademic Center for Computing and Media Studies (ACCMS),  Kyoto UniversityJapan', '122,400', '3,057.3', '5,483.5', '748'], ['108', 'Jean Zay - HPE SGI 8600, Xeon Gold 6248 20C 2.5GHz, Intel Omni-Path,\\n                 HPE\\n                \\nCNRS/IDRIS-GENCIFrance', '61,120', '3,054.3', '4,867.2', ''], ['109', 'Mistral - bullx DLC 720, Xeon E5-2680v3 12C 2.5GHz/E5-2695V4 18C  2.1Ghz, Infiniband FDR,\\n                 Atos\\n                \\nDKRZ - Deutsches KlimarechenzentrumGermany', '99,072', '3,010.7', '3,962.9', '1,116'], ['110', 'Lenovo HR650x, Xeon Gold 6133 20C 2.5GHz, 25G Ethernet,\\n                 Lenovo\\n                \\nService Provider TChina', '73,600', '2,994.0', '5,888.0', ''], ['111', 'Tetralith - Intel H2204XXLRE, Xeon Gold 6130 16C 2.1GHz, Intel Omni-Path,\\n                 ClusterVision / Hammer\\n                \\nNational Supercomputer Centre (NSC)Sweden', '64,512', '2,969.2', '4,335.2', ''], ['112', 'Lenovo HR650x, Xeon Gold 6133 20C 2.5GHz, 25G Ethernet,\\n                 Lenovo\\n                \\nService Provider TChina', '72,000', '2,931.8', '5,760.0', ''], ['113', 'Inspur TS10000 HPC Server, Xeon Gold 6248R 24C 3GHz, InfiniBand HDR 100,\\n                 Inspur\\n                \\nCentral South UniversityChina', '49,056', '2,889.4', '4,709.4', ''], ['114', 'ThinkSystem SR650, Xeon Gold 6238 22C 2.1GHz, 10G Ethernet,\\n                 Lenovo\\n                \\nFinancial Services PChina', '94,160', '2,867.6', '6,327.6', ''], ['115', 'Freeman - Cray CS500, AMD EPYC 7542 32C 2.9GHz, Mellanox InfiniBand HDR100,\\n                 HPE\\n                \\nERDC DSRCUnited States', '79,104', '2,829.0', '3,670.4', ''], ['116', 'SuperMUC Phase 2 - NeXtScale nx360M5, Xeon E5-2697v3 14C 2.6GHz, Infiniband FDR14,\\n                 Lenovo/IBM\\n                \\nLeibniz RechenzentrumGermany', '86,016', '2,813.6', '3,578.3', '1,481'], ['117', 'Cray XC40, Xeon E5-2695v4 18C 2.1GHz, Aries interconnect ,\\n                 Cray/HPE\\n                \\nUnited Kingdom Meteorological OfficeUnited Kingdom', '89,856', '2,801.8', '3,019.2', '1,348'], ['118', 'Cray XC40, Xeon E5-2695v4 18C 2.1GHz, Aries interconnect ,\\n                 Cray/HPE\\n                \\nUnited Kingdom Meteorological OfficeUnited Kingdom', '89,856', '2,801.8', '3,019.2', '1,348'], ['119', 'JFRS-1 - Cray XC50, Xeon Gold 6148 20C 2.4GHz, Aries interconnect ,\\n                 Cray/HPE\\n                \\nRokkasho Fusion Institute, National Institutes for Quantum and Radiological Science and TechnologyJapan', '54,560', '2,787.1', '4,190.2', '698'], ['120', 'Lenovo HR650x, Xeon Gold 6133 20C 2.5GHz, 25G Ethernet,\\n                 Lenovo\\n                \\nService Provider TChina', '68,000', '2,779.8', '5,440.0', ''], ['121', 'ZZ2 - ThinkSystem HR650X, Xeon Gold 6133 20C 2.5GHz, 10G Ethernet,\\n                 Lenovo\\n                \\nService Provider TChina', '67,200', '2,749.3', '5,376.0', ''], ['122', 'ThinkSystem SR650, Xeon Gold 6248 20C 2.5GHz, 25G Ethernet,\\n                 Lenovo\\n                \\nService Provider TChina', '66,400', '2,746.3', '5,312.0', ''], ['123', 'ThinkSystem SR650, Xeon Gold 6240 18C 2.6GHz, NVIDIA Tesla V100, Infiniband EDR,\\n                 Lenovo\\n                \\nGovernmentChina', '59,976', '2,744.8', '5,354.9', ''], ['124', 'VSC-4 - ThinkSystem SD650, Xeon Platinum 8174 24C 3.1GHz, Intel Omni-Path,\\n                 Lenovo\\n                \\nVienna Scientific ClusterAustria', '37,920', '2,726.1', '3,761.7', ''], ['125', 'SNL/NNSA CTS-1 Attaway - Tundra Extreme Scale, Xeon Gold 6140 18C 2.3GHz, Intel Omni-Path,\\n                 Penguin Computing, Inc.\\n                \\nSandia National LaboratoriesUnited States', '52,920', '2,724.5', '3,894.9', '750'], ['126', 'ZZ3 - ThinkSystem HR650X, Xeon Gold 6133 20C 2.5GHz, 10G Ethernet,\\n                 Lenovo\\n                \\nService Provider TChina', '66,400', '2,721.3', '5,312.0', ''], ['127', 'ZZ4 - ThinkSystem HR650X, Xeon Gold 6133 20C 2.5GHz, 10G Ethernet,\\n                 Lenovo\\n                \\nService Provider TChina', '65,600', '2,691.7', '5,248.0', ''], ['128', 'Banting - Cray XC50, Xeon Gold 6148 20C 2.4GHz, Aries interconnect ,\\n                 Cray/HPE\\n                \\nShared Services CanadaCanada', '53,200', '2,676.7', '4,085.8', ''], ['129', 'Hypercluster - NVIDIA DGX-2, Xeon Platinum 8168 24C 2.7GHz, NVIDIA Tesla V100, Mellanox InfiniBand EDR,\\n                 Nvidia\\n                \\nMicrosoft Research United States', '47,808', '2,666.0', '4,219.1', ''], ['130', 'ZZ5 - ThinkSystem HR650X, Xeon Gold 6133 20C 2.5GHz, 10G Ethernet,\\n                 Lenovo\\n                \\nService Provider TChina', '64,800', '2,661.5', '5,184.0', ''], ['131', 'ZZ6 - ThinkSystem HR650X, Xeon Gold 6233 24C 2.5GHz, 10G Ethernet,\\n                 Lenovo\\n                \\nService Provider TChina', '69,120', '2,654.0', '5,529.6', ''], ['132', 'ThinkSystem SR590, Xeon Gold 5218 16C 2.3GHz, 10G Ethernet,\\n                 Lenovo\\n                \\nCloud CompanyChina', '128,000', '2,651.9', '4,710.4', ''], ['133', 'Grace - PowerEdge R640/R740/R840, Xeon Gold 6248R/6248R/6248, 24C 3.0GHz, InfiniBand HDR100,\\n                 Dell EMC\\n                \\nTexas A&M UniversityUnited States', '43,200', '2,638.5', '4,829.3', ''], ['134', 'LLNL/NNSA CTS-1 Jade - Tundra Extreme Scale, Xeon E5-2695v4 18C 2.1GHz, Intel Omni-Path,\\n                 Penguin Computing, Inc.\\n                \\nLawrence Livermore National LaboratoryUnited States', '95,472', '2,632.5', '3,207.9', '13,620'], ['135', 'LLNL CTS-1 Quartz - Tundra Extreme Scale, Xeon E5-2695v4 18C 2.1GHz, Intel Omni-Path,\\n                 Penguin Computing, Inc.\\n                \\nLawrence Livermore National LaboratoryUnited States', '95,472', '2,632.5', '3,207.9', '13,620'], ['136', 'Lenovo HR650x, Xeon Gold 6133 20C 2.5GHz, 25G Ethernet,\\n                 Lenovo\\n                \\nService Provider TChina', '64,000', '2,621.4', '5,120.0', ''], ['137', 'Inspur TS10000, Xeon Gold 6258R 28C 2.7GHz, InfiniBand HDR100,\\n                 Inspur\\n                \\nTsinghua UniversityChina', '50,400', '2,610.0', '4,354.6', ''], ['138', 'Cedar (CPU) - PowerEdge C6420, Xeon Platinum 8160  24C 2.1GHz, Intel Omni-Path,\\n                 ACTION\\n                \\nSimon Fraser University/Compute CanadaCanada', '67,584', '2,608.0', '4,895.5', '792'], ['139', 'Daley - Cray XC50, Xeon Gold 6148 20C 2.4GHz, Aries interconnect ,\\n                 Cray/HPE\\n                \\nShared Services CanadaCanada', '53,200', '2,598.3', '4,085.8', ''], ['140', 'SX-Aurora TSUBASA A412-8, Vector Engine Type10AE 8C 1.58GHz, InfiniBand HDR 100,\\n                 NEC\\n                \\nDeutscher WetterdienstGermany', '14,848', '2,595.6', '4,360.0', '457'], ['141', 'HPC3 - Lenovo NeXtScale nx360M5, Xeon E5-2697v4 18C 2.3GHz, Infiniband EDR, NVIDIA Tesla K80,\\n                 Lenovo\\n                \\nEnergy Company (A)Italy', '66,000', '2,592.0', '3,798.6', ''], ['142', 'ThinkSystem SR650, Xeon Gold 6248 20C 2.5GHz, 25G Ethernet,\\n                 Lenovo\\n                \\nService Provider TChina', '62,400', '2,590.8', '4,992.0', ''], ['143', 'ThinkSystem HR650X, Xeon Gold 6233 24C 2.5GHz, 25G Ethernet,\\n                 Lenovo\\n                \\nService Provider TChina', '64,320', '2,583.1', '5,145.6', ''], ['144', 'Mihir - Cray XC40, Xeon E5-2695v4 18C 2.1GHz, Aries interconnect ,\\n                 Cray/HPE\\n                \\nNational Centre for Medium Range Weather ForecastingIndia', '83,592', '2,570.4', '2,808.7', '955'], ['145', 'Tianhe-1A - NUDT YH MPP, Xeon X5670 6C 2.93 GHz, NVIDIA 2050,\\n                 NUDT\\n                \\nNational Supercomputing Center in TianjinChina', '186,368', '2,566.0', '4,701.0', '4,040'], ['146', 'Spartan2 - Bull Sequana XH2000 , AMD EPYC 7402 24C 2.8GHz, NVIDIA A100, Mellanox HDR Infiniband,\\n                 Atos\\n                \\nAtosFrance', '23,040', '2,566.0', '3,847.2', '106'], ['147', 'PAI-BSystem - Sugon TC4600LP/W740I, Xeon Gold 6142 16C 2.6GHz, Infiniband EDR, NVIDIA Tesla P100,\\n                 Sugon\\n                \\nChina Meteorological AdministrationChina', '50,816', '2,547.0', '4,229.8', '710'], ['148', 'cascade - Atipa Visione IF442 Blade Server, Xeon E5-2670 8C 2.600GHz, Infiniband FDR, Intel Xeon Phi 5110P,\\n                 Atipa Technology\\n                \\nDOE/SC/Pacific Northwest National LaboratoryUnited States', '194,616', '2,539.1', '3,388.0', '1,384'], ['149', \"occigen2 - bullx DLC 720, Xeon E5-2690v4 14C 2.6GHz, Infiniband FDR,\\n                 Atos\\n                \\nGrand Equipement National de Calcul Intensif - Centre Informatique National de l'Enseignement Suprieur (GENCI-CINES)France\", '85,824', '2,494.7', '3,570.3', '1,430'], ['150', 'ThinkSystem HR650X, Xeon Gold 6233 24C 2.5GHz, 25G Ethernet,\\n                 Lenovo\\n                \\nService Provider TChina', '61,440', '2,487.1', '4,915.2', ''], ['151', 'Excalibur - Cray XC40, Xeon E5-2698v3 16C 2.3GHz, Aries interconnect ,\\n                 Cray/HPE\\n                \\nArmy Research Laboratory DoD Supercomputing Resource Center (ARL DSRC)United States', '100,064', '2,485.0', '3,682.4', '1,466'], ['152', 'CLAIX (2018) - INTEL-HNS2600BPB, Xeon Platinum 8160  24C 2.1GHz, Intel Omni-Path,\\n                 NEC\\n                \\nUniversitaet Aachen/RWTH - IT CenterGermany', '61,200', '2,483.6', '4,112.6', '692'], ['153', 'Expanse - PowerEdge R6525/C6525, AMD EPYC 7742, AMD EPYC 7742 64C, Mellanox HDR Infiniband,\\n                 Dell EMC\\n                \\nUCSD/San Diego Supercomputer CenterUnited States', '91,648', '2,480.6', '3,299.3', ''], ['154', 'Inspur NF5468M5, Xeon Gold 6242 16C 2.8GHz, NVIDIA Tesla V100, 100G Ethernet,\\n                 Inspur\\n                \\nManufacturing Industry (O)China', '50,400', '2,480.0', '4,680.0', ''], ['155', 'Inspur NF5468M5, Xeon Gold 6242 16C 2.8GHz, NVIDIA Tesla V100, 100G Ethernet,\\n                 Inspur\\n                \\nManufacturing Industry (O)China', '50,400', '2,480.0', '4,680.0', ''], ['156', 'Lomonosov 2 - T-Platform A-Class Cluster, Xeon E5-2697v3 14C 2.6GHz,Intel Xeon Gold 6126, Infiniband FDR, Nvidia K40m/P-100,\\n                 T-Platforms\\n                \\nMoscow State University - Research Computing CenterRussia', '64,384', '2,478.0', '4,946.8', ''], ['157', 'B1 - Lenovo HR650x, Xeon Gold 6133 20C 2.5GHz, 25G Ethernet,\\n                 Lenovo\\n                \\nService Provider TChina', '60,000', '2,462.4', '4,800.0', ''], ['158', 'Centennial - SGI ICE XA, Xeon E5-2698v4 20C 2.2GHz, Infiniband EDR,\\n                 HPE\\n                \\nUS Army Research Laboratory (ARL)United States', '73,920', '2,443.7', '2,602.0', '835'], ['159', 'PAI-ASystem - Sugon TC4600, Xeon Gold 6142 16C 2.6GHz, Infiniband EDR,\\n                 Sugon\\n                \\nChina Meteorological AdministrationChina', '48,128', '2,435.0', '4,004.2', '740'], ['160', 'C1 - Lenovo HR650x, Xeon Gold 6133 20C 2.5GHz, 25G Ethernet,\\n                 Lenovo\\n                \\nService Provider TChina', '59,200', '2,433.8', '4,736.0', ''], ['161', 'ThinkSystem SR590, Xeon Gold 5218 16C 2.3GHz, 10G Ethernet,\\n                 Lenovo\\n                \\nDJIT CompanyChina', '115,200', '2,429.2', '4,239.4', ''], ['162', 'D1 - Lenovo HR650x, Xeon Gold 6133 20C 2.5GHz, 25G Ethernet,\\n                 Lenovo\\n                \\nService Provider TChina', '58,800', '2,421.6', '4,704.0', ''], ['163', 'ThinkSystem SR590, Xeon Gold 5218 16C 2.3GHz, 10G Ethernet,\\n                 Lenovo\\n                \\nService Provider TChina', '113,600', '2,399.6', '4,180.5', ''], ['164', 'Nuri - Cray XC40, Xeon E5-2690v3 12C 2.6GHz, Aries interconnect ,\\n                 Cray/HPE\\n                \\nKorea Meteorological AdministrationSouth Korea', '69,600', '2,395.7', '2,895.4', '1,359'], ['165', 'Miri - Cray XC40, Xeon E5-2690v3 12C 2.6GHz, Aries interconnect ,\\n                 Cray/HPE\\n                \\nKorea Meteorological AdministrationSouth Korea', '69,600', '2,395.7', '2,895.4', '1,359'], ['166', 'E1 - Lenovo HR650x, Xeon Gold 6133 20C 2.5GHz, 25G Ethernet,\\n                 Lenovo\\n                \\nService Provider TChina', '58,000', '2,392.4', '4,640.0', ''], ['167', 'ThinkSystem HR650X, Xeon Gold 6233 24C 2.5GHz, 25G Ethernet,\\n                 Lenovo\\n                \\nService Provider TChina', '58,560', '2,379.9', '4,684.8', ''], ['168', 'Aitken - HPE SGI 8600, Xeon Gold 6248 20C 2.5GHz, Infiniband EDR/HDR,\\n                 HPE\\n                \\nNASA/Ames Research Center/NASUnited States', '46,080', '2,375.5', '3,686.4', '578'], ['169', 'ThinkSystem SR590, Xeon Gold 5218 16C 2.3GHz, 10G Ethernet,\\n                 Lenovo\\n                \\nService Provider TChina', '112,000', '2,374.0', '4,121.6', ''], ['170', 'NVIDIA DGX SuperPOD - NVIDIA DGX A100, AMD EPYC 7742 64C 2.25GHz, NVIDIA A100, Mellanox HDR Infiniband,\\n                 Nvidia\\n                \\nNVIDIA CorporationUnited States', '19,840', '2,356.0', '2,812.8', '90'], ['171', 'ZZ1 - ThinkSystem HR630X, Xeon Silver 4110 8C 2.1GHz, 10G Ethernet,\\n                 Lenovo\\n                \\nService Provider TChina', '153,600', '2,354.9', '10,321.9', ''], ['172', 'Inspur NF5468M5, Xeon 8260M 24C 2.4GHz, NVIDIA Tesla V100, 100G Ethernet,\\n                 Inspur\\n                \\nInternet CompanyChina', '48,160', '2,336.0', '4,368.0', ''], ['173', 'Inspur NF5468M5, Xeon 8260M 24C 2.4GHz, NVIDIA Tesla V100, 100G Ethernet,\\n                 Inspur\\n                \\nInternet CompanyChina', '48,160', '2,336.0', '4,368.0', ''], ['174', 'Inspur NF5468M5, Xeon Gold 6130 16C 2.1GHz, NVIDIA Tesla V100, 25G Ethernet,\\n                 Inspur\\n                \\nInternet Service PChina', '53,760', '2,329.0', '4,480.0', ''], ['175', 'Inspur NF5468M5, Xeon Gold 6130 16C 2.1GHz, NVIDIA Tesla V100, 25G Ethernet,\\n                 Inspur\\n                \\nInternet Service PChina', '53,760', '2,329.0', '4,480.0', ''], ['176', 'Inspur NF5468M5, Xeon Gold 6130 16C 2.1GHz, NVIDIA Tesla V100, 25G Ethernet,\\n                 Inspur\\n                \\nInternet Service PChina', '53,760', '2,329.0', '4,480.0', ''], ['177', 'Makman-3 - PowerEdge R440/C6320p, Intel Xeon Phi 7250/Xeon Gold 6130 16C 2.1GHz, Intel Omni-Path,\\n                 Dell EMC\\n                \\nSaudi AramcoSaudi Arabia', '53,300', '2,322.5', '3,581.8', '608'], ['178', 'F1 - Lenovo HR650x, Xeon Gold 6133 20C 2.5GHz, 25G Ethernet,\\n                 Lenovo\\n                \\nService Provider TChina', '56,000', '2,317.9', '4,480.0', ''], ['179', 'Inspur TS10000 HPC Server, Xeon Gold 6226R 16C 2.9GHz, NVIDIA Tesla V100, 25G Ethernet,\\n                 Inspur\\n                \\nEnergy Company BChina', '49,920', '2,316.0', '4,412.1', ''], ['180', 'ThinkSystem SR590, Xeon Gold 5218 16C 2.3GHz, 10G Ethernet,\\n                 Lenovo\\n                \\nService Provider TChina', '108,800', '2,314.2', '4,003.8', ''], ['181', 'Taiwania 3 - QCT QuantaPlex T42D-2U/4N, Xeon Platinum 8280 28C 2.7GHz, InfiniBand HDR 100,\\n                 Quanta Computer / Taiwan Fixed Network / ASUS Cloud\\n                \\nNational Center for High Performance ComputingTaiwan', '50,400', '2,297.6', '4,354.6', '564'], ['182', 'Longhorn - IBM Power System AC922, IBM POWER9 20C 3.6GHz, NVIDIA Tesla V100 SXM2, Infiniband EDR,\\n                 IBM\\n                \\nTexas Advanced Computing Center/Univ. of TexasUnited States', '37,440', '2,288.0', '2,867.4', ''], ['183', 'Inspur TS10000, Xeon Gold 6130 16C 2.1GHz, NVIDIA Tesla V100, 25G Ethernet,\\n                 Inspur\\n                \\nInternet Service PChina', '55,104', '2,287.0', '4,890.0', ''], ['184', 'Inspur NF5468M5, Xeon Gold 6240 18C 2.6GHz, NVIDIA Tesla V100, 25G Ethernet,\\n                 Inspur\\n                \\nTelecom Operator (C)China', '47,320', '2,282.0', '4,368.0', ''], ['185', 'Inspur NF5468M5, Xeon Gold 6240 18C 2.6GHz, NVIDIA Tesla V100, 25G Ethernet,\\n                 Inspur\\n                \\nTelecom Operator (C)China', '47,320', '2,282.0', '4,368.0', ''], ['186', 'Inspur NF5468M5, Xeon Gold 6240 18C 2.6GHz, NVIDIA Tesla V100, 25G Ethernet,\\n                 Inspur\\n                \\nTelecom Operator (C)China', '47,320', '2,282.0', '4,368.0', ''], ['187', 'Inspur NF5468M5, Xeon Gold 6240 18C 2.6GHz, NVIDIA Tesla V100, 25G Ethernet,\\n                 Inspur\\n                \\nTelecom Operator (C)China', '47,320', '2,282.0', '4,368.0', ''], ['188', 'Béluga - Dell EMC PowerEdge R640, Xeon Gold 6148 20C 2.4GHz, NVIDIA Tesla V100, Infiniband EDR,\\n                 Dell EMC\\n                \\nCalcul Québec/Compute CanadaCanada', '72,480', '2,278.0', '7,494.8', '240'], ['189', 'Inspur TS10000 HPC Server, Xeon Gold 6240 18C 2.6GHz, NVIDIA Tesla V100, InfiniBand HDR 100,\\n                 Inspur\\n                \\nResearch Laboratory HChina', '40,560', '2,276.0', '3,923.7', ''], ['190', 'Inspur TS10000 HPC Server, Xeon Gold 6230 20C 2.1GHz, NVIDIA Tesla V100, Infiniband HDR,\\n                 Inspur\\n                \\nAI company JChina', '40,800', '2,275.0', '3,905.3', ''], ['191', 'Cumulus - PowerEdge C6420/C6320, Intel Xeon Phi 7210/Xeon Gold 6142F 16C 2.6GHz, Intel Omni-Path,\\n                 Dell EMC\\n                \\nUniversity of CambridgeUnited Kingdom', '50,176', '2,271.4', '2,688.0', '530'], ['192', 'Makman-2 - Dell PowerEdge R630, Xeon E5-2680v3 12C 2.5GHz, Infiniband QDR,\\n                 Dell EMC\\n                \\nSaudi AramcoSaudi Arabia', '76,032', '2,249.7', '3,041.3', '1,134'], ['193', 'G1 - Lenovo HR650x, Xeon Gold 6133 20C 2.5GHz, 25G Ethernet,\\n                 Lenovo\\n                \\nService Provider TChina', '54,000', '2,242.9', '4,320.0', ''], ['194', 'Sugon TC6000, Xeon Gold 6130 16C 2.1GHz, 25G Ethernet,\\n                 Sugon\\n                \\nInternet CompanyChina', '67,200', '2,192.0', '4,515.8', '740'], ['195', 'Inspur NF5468M5, Xeon Gold 6248 20C 2.5GHz, NVIDIA Tesla V100, 25G Ethernet,\\n                 Inspur\\n                \\nBank GChina', '50,400', '2,189.0', '4,816.0', ''], ['196', 'Prolix2 - bullx DLC 720, Xeon E5-2698v4 20C 2.2GHz, Infiniband FDR,\\n                 Atos\\n                \\nMeteo FranceFrance', '72,000', '2,168.0', '2,534.4', '830'], ['197', 'H1 - Lenovo HR650x, Xeon Gold 6133 20C 2.5GHz, 25G Ethernet,\\n                 Lenovo\\n                \\nService Provider TChina', '52,000', '2,166.5', '4,160.0', ''], ['198', 'Inspur NF5468M5, Xeon Gold 6146 12C 3.2GHz, NVIDIA Tesla V100, Infiniband EDR,\\n                 Inspur\\n                \\nInternet Service (S)China', '49,800', '2,164.0', '4,423.7', ''], ['199', 'Inspur NF5468M5, Xeon Gold 6146 12C 3.2GHz, NVIDIA Tesla V100, Infiniband EDR,\\n                 Inspur\\n                \\nInternet Service (S)China', '49,800', '2,164.0', '4,423.7', ''], ['200', 'Inspur NF5468M5, Xeon Gold 6146 12C 3.2GHz, NVIDIA Tesla V100, Infiniband EDR,\\n                 Inspur\\n                \\nInternet Service (S)China', '49,800', '2,164.0', '4,423.7', ''], ['201', 'Beaufix2 - bullx DLC 720, Xeon E5-2698v4 20C 2.2GHz, Infiniband FDR,\\n                 Atos\\n                \\nMeteo FranceFrance', '73,440', '2,157.4', '2,585.1', '830'], ['202', 'ThinkSystem HR630X, Xeon Silver 4110 8C 2.1GHz, 10G Ethernet,\\n                 Lenovo\\n                \\nService Provider TChina', '128,000', '2,156.0', '4,300.8', ''], ['203', 'Sugon TC6000, Xeon Gold 5118 12C 2.3GHz, 10G Ethernet,\\n                 Sugon\\n                \\nInternet CompanyChina', '121,920', '2,152.0', '8,973.3', '1,625'], ['204', 'Betty - Cray CS500, AMD EPYC 7542 32C 2.9GHz, InfiniBand HDR100,\\n                 HPE\\n                \\nUS Army Research Laboratory (ARL)United States', '94,976', '2,133.0', '4,406.9', ''], ['205', 'ThinkSystem SR650, Xeon Gold 5218 16C 2.3GHz, 10G Ethernet,\\n                 Lenovo\\n                \\nDJIT CompanyChina', '96,640', '2,129.5', '7,112.7', ''], ['206', 'INSPUR NF5288M5, Xeon Gold 6148 20C 2.4GHz, NVIDIA Tesla V100, 25G Ethernet,\\n                 Inspur\\n                \\nBank (Z)China', '44,200', '2,121.0', '4,056.0', ''], ['207', 'Inspur NF5468M5, Xeon Platinum 8163 24C 2.5GHz, NVIDIA Tesla V100, 25G Ethernet,\\n                 Inspur\\n                \\nService Provider TChina', '44,720', '2,121.0', '4,056.0', ''], ['208', 'Inspur NF5468M5, Xeon Platinum 8163 24C 2.5GHz, NVIDIA Tesla V100, 25G Ethernet,\\n                 Inspur\\n                \\nService Provider TChina', '44,720', '2,121.0', '4,056.0', ''], ['209', 'Inspur NF5468M5, Xeon Platinum 8163 24C 2.5GHz, NVIDIA Tesla V100, 25G Ethernet,\\n                 Inspur\\n                \\nService Provider TChina', '44,720', '2,121.0', '4,056.0', ''], ['210', 'Sugon TC6000, Xeon Gold 5118 12C 2.3GHz, NVIDIA Tesla V100, Infiniband EDR,\\n                 Sugon\\n                \\nXinjiang SC CenterChina', '44,720', '2,115.0', '3,903.4', '265'], ['211', 'INSPUR NF5288M5, Xeon Gold 6130 16C 2.1GHz, NVIDIA Tesla V100, 100G Ethernet,\\n                 Inspur\\n                \\nInternet CompanyChina', '53,760', '2,109.0', '4,652.0', ''], ['212', 'MagicCube3 - Sugon TC6000, Xeon Gold 6142 16C 2.6GHz, Intel Omni-Path, NVIDIA Tesla V100,\\n                 Sugon\\n                \\nShanghai Supercomputer CenterChina', '40,960', '2,109.0', '3,434.1', '430'], ['213', 'I1 - Lenovo HR650x, Xeon Gold 6133 20C 2.5GHz, 25G Ethernet,\\n                 Lenovo\\n                \\nService Provider TChina', '50,000', '2,094.0', '4,000.0', ''], ['214', 'ATERUI II  - Cray XC50, Xeon Gold 6148 20C 2.4GHz, Aries interconnect ,\\n                 Cray/HPE\\n                \\nNational Astronomical Observatory of JapanJapan', '40,000', '2,090.0', '3,072.0', '496'], ['215', 'Greene - ThinkSystem SR650, Xeon Platinum 8268 24C 2.9GHz, NVIDIA Quadro RTX8000/V100, Infiniband HDR,\\n                 Lenovo\\n                \\nNew York UniversityUnited States', '166,304', '2,088.8', '2,846.4', '512'], ['216', 'Sugon TC6000, Xeon Gold 5118 12C 2.3GHz, NVIDIA Tesla V100, 25G Ethernet,\\n                 Sugon\\n                \\nInternet Service UChina', '44,032', '2,087.0', '3,843.4', '260'], ['217', 'Inspur NF5468M5, Xeon Platinum 8163 24C 2.5GHz, NVIDIA Tesla V100, 25G Ethernet,\\n                 Inspur\\n                \\nService Provider TChina', '48,160', '2,078.0', '4,225.2', ''], ['218', 'Inspur NF5468M5, Xeon Platinum 8163 24C 2.5GHz, NVIDIA Tesla V100, 25G Ethernet,\\n                 Inspur\\n                \\nService Provider TChina', '48,160', '2,078.0', '4,225.2', ''], ['219', 'Inspur NF5468M5, Xeon Platinum 8163 24C 2.5GHz, NVIDIA Tesla V100, 25G Ethernet,\\n                 Inspur\\n                \\nService Provider TChina', '48,160', '2,078.0', '4,225.2', ''], ['220', 'Cannon - ThinkSystem SD650, Xeon Platinum 8268 24C 2.9GHz, InfiniBand HDR100,\\n                 Lenovo\\n                \\nHarvard UniversityUnited States', '32,160', '2,076.9', '2,984.4', ''], ['221', 'Inspur NF5468M5, Xeon Gold 5118 12C 2.3GHz, NVIDIA Tesla V100, 10G Ethernet,\\n                 Inspur\\n                \\nTelecom CompanyChina', '59,760', '2,075.0', '5,245.8', ''], ['222', 'JD I1 - ThinkSystem SR650, Xeon Gold 6148 20C 2.4GHz, 10G Ethernet,\\n                 Lenovo\\n                \\nInternet CompanyChina', '52,320', '2,074.0', '4,018.2', ''], ['223', 'Tianhe-2 LvLiang Solution - Tianhe-2 LvLiang, Intel Xeon E5-2692v2 12C 2.2GHz, TH Express-2, Intel Xeon Phi 31S1P,\\n                 NUDT\\n                \\nLvLiang Cloud Computing CenterChina', '174,720', '2,071.4', '3,074.5', '997'], ['224', 'ThinkSystem SR650, Xeon Gold 6142 16C 2.6GHz, NVIDIA Tesla V100, Infiniband EDR,\\n                 Lenovo\\n                \\nGovernmentChina', '44,160', '2,059.9', '3,862.3', ''], ['225', 'ThinkSystem SR650, Xeon Gold 6248 20C 2.5GHz, 10G Ethernet,\\n                 Lenovo\\n                \\nDJIT CompanyChina', '49,200', '2,045.9', '3,936.0', ''], ['226', 'INSPUR NF5288M5, Xeon Gold 6148 20C 2.4GHz, NVIDIA Tesla V100, 10G Ethernet,\\n                 Inspur\\n                \\nInternet Service (B)China', '53,040', '2,028.0', '4,648.2', ''], ['227', 'INSPUR NF5288M5, Xeon Gold 6148 20C 2.4GHz, NVIDIA Tesla V100, 10G Ethernet,\\n                 Inspur\\n                \\nInternet Service (B)China', '53,040', '2,028.0', '4,648.2', ''], ['228', 'ThinkSystem HR650X, Xeon Gold 6133 20C 2.5GHz, 25G Ethernet,\\n                 Lenovo\\n                \\nService Provider TChina', '48,000', '2,027.5', '3,840.0', ''], ['229', 'Sugon TC6000, Xeon Gold 6140 18C 2.3GHz, 10G Ethernet,\\n                 Sugon\\n                \\nTelecom CompanyChina', '55,440', '2,026.0', '4,080.4', '590'], ['230', 'Inspur NF5468M5, Xeon Gold 5120 14C 2.2GHz, NVIDIA Tesla V100, 10G Ethernet,\\n                 Inspur\\n                \\nBank IChina', '48,880', '2,016.0', '44,982.3', ''], ['231', 'J1 - Lenovo HR650x, Xeon Gold 6133 20C 2.5GHz, 25G Ethernet,\\n                 Lenovo\\n                \\nService Provider TChina', '48,000', '2,014.5', '3,840.0', ''], ['232', 'Inspur NF5468M5, Xeon Platinum 8260M 24C 2.4GHz, NVIDIA Tesla V100, 100G Ethernet,\\n                 Inspur\\n                \\nInternet CompanyChina', '41,280', '2,011.0', '3,744.0', ''], ['233', 'Inspur NF5468M5, Xeon Gold 6230 20C 2.1GHz, NVIDIA Tesla V100, 25G Ethernet,\\n                 Inspur\\n                \\nManufacturing Company (V)China', '40,800', '2,011.0', '3,744.0', ''], ['234', 'Sugon TC6000, Xeon Gold 5118 12C 2.3GHz, 10G Ethernet,\\n                 Sugon\\n                \\nInternet CompanyChina', '110,880', '2,007.0', '8,160.8', '1,470'], ['235', 'Sugon TC6000, Xeon Gold 5118 12C 2.3GHz, NVIDIA Tesla V100, 25G Ethernet,\\n                 Sugon\\n                \\nInternet CompanyChina', '42,312', '2,003.0', '3,693.5', '250'], ['236', 'Koehr - HPE SGI 8600, Xeon Platinum 8168 24C 2.7GHz, Intel Omni-Path,\\n                 HPE\\n                \\nNavy DSRCUnited States', '34,560', '2,002.0', '2,986.0', ''], ['237', 'Gaffney - HPE SGI 8600, Xeon Platinum 8168 24C 2.7GHz, Intel Omni-Path,\\n                 HPE\\n                \\nNavy DSRCUnited States', '34,560', '2,002.0', '2,986.0', ''], ['238', 'Grand Chariot - PRIMERGY CX2550 M4 M4, Xeon Gold 6148 20C 2.4GHz, Intel Omni-Path,\\n                 Fujitsu\\n                \\nInformation Initiative Center, Hokkaido UniversityJapan', '39,760', '2,000.0', '3,053.6', ''], ['239', 'A64FX prototype - Fujitsu A64FX, Fujitsu A64FX 48C 2GHz, Tofu interconnect D,\\n                 Fujitsu\\n                \\nFujitsu Numazu PlantJapan', '36,864', '1,999.5', '2,359.3', '118'], ['240', 'TTSystem - Sugon TC6000, Xeon E5-2630v4 10C 2.2GHz, 10G Ethernet,\\n                 Sugon\\n                \\nInternet Service (B)China', '116,600', '1,997.0', '4,104.3', '1,200'], ['241', 'Sugon TC6000, Xeon Gold 6148 20C 2.4GHz, Infiniband EDR,\\n                 Sugon\\n                \\nChengdu SC CenterChina', '520,000', '1,985.0', '39,936.0', '510'], ['242', 'K1 - Lenovo HR650x, Xeon Gold 6133 20C 2.5GHz, 25G Ethernet,\\n                 Lenovo\\n                \\nService Provider TChina', '47,200', '1,983.2', '3,776.0', ''], ['243', 'Gaïa - Bull intel Cluster, Xeon Gold 6140 18C 2.3GHz, Intel Omni-Path,\\n                 Atos\\n                \\nEDFFrance', '41,472', '1,980.5', '3,052.3', '512'], ['244', 'HKVDPSystem - Sugon TC6000, Xeon E5-2620v4 8C 2.1GHz, 10G Ethernet,\\n                 Sugon\\n                \\nIT Service ProviderChina', '121,920', '1,979.0', '4,096.5', '1,216'], ['245', 'HKVDPSystem - Sugon TC6000, Xeon E5-2620v4 8C 2.1GHz, 10G Ethernet,\\n                 Sugon\\n                \\nInternet CompanyChina', '121,920', '1,979.0', '4,096.5', '1,216'], ['246', 'bsystem - Sugon TC6000, Xeon Gold 6130 16C 2.1GHz, 25G Ethernet,\\n                 Sugon\\n                \\nInternet CompanyChina', '60,800', '1,976.0', '4,085.8', '660'], ['247', 'ThinkSystem SR590, Xeon Gold 5218 16C 2.3GHz, Myrinet 10G,\\n                 Lenovo\\n                \\nDJIT CompanyChina', '89,600', '1,975.1', '6,594.6', ''], ['248', 'Inspur NF5468M5, Xeon Gold 6146 12C 3.2GHz, NVIDIA Tesla V100, Infiniband EDR,\\n                 Inspur\\n                \\nInternet Service (S)China', '45,152', '1,975.0', '4,010.5', ''], ['249', 'Inspur NF5468M5, Xeon Gold 6146 12C 3.2GHz, NVIDIA Tesla V100, 25G Ethernet,\\n                 Inspur\\n                \\nService Provider TChina', '45,152', '1,975.0', '4,010.5', ''], ['250', 'Inspur NF5468M5, Xeon Gold 6146 12C 3.2GHz, NVIDIA Tesla V100, 25G Ethernet,\\n                 Inspur\\n                \\nService Provider TChina', '45,152', '1,975.0', '4,010.5', ''], ['251', 'Mogon II - NEC Cluster, Xeon Gold 6130 16C 2.1GHz, MEGWARE MiriQuid Xeon E5-2630v4, Intel Omni-Path,\\n                 NEC/MEGWARE\\n                \\nUniversitaet MainzGermany', '49,432', '1,967.8', '2,800.9', '657'], ['252', 'Biowulf - Apollo 2000 Gen 8/9, Xeon E5-2680v4/E5-2695v3 14C 2.4GHz, Infiniband FDR,\\n                 HPE\\n                \\nNational Institutes of Health (NIH)United States', '66,304', '1,966.1', '2,491.4', ''], ['253', 'Sugon TC6000, Xeon Gold 5118 12C 2.3GHz, 25G Ethernet, NVIDIA Tesla V100,\\n                 Sugon\\n                \\nEnergy CompanyChina', '41,280', '1,963.0', '3,603.5', '245'], ['254', 'Sugon TC6000, Xeon Gold 6132 14C 2.6GHz, 25G Ethernet,\\n                 Sugon\\n                \\nTelecom CompanyChina', '47,600', '1,955.0', '3,960.3', '650'], ['255', 'Sugon TC6000, Xeon Gold 6140 18C 2.3GHz, 10G Ethernet,\\n                 Sugon\\n                \\nState Grid CorpChina', '53,280', '1,952.0', '3,921.4', '570'], ['256', 'Sugon TC6000, Xeon Gold 6130 16C 2.1GHz, 25G Ethernet,\\n                 Sugon\\n                \\nIT Service ProviderChina', '58,112', '1,934.0', '3,905.1', '630'], ['257', 'SGI ICE X, Xeon E5-2680v3 12C 2.5GHz, Infiniband FDR,\\n                 HPE\\n                \\nJapan Atomic Energy Agency (JAEA)Japan', '60,240', '1,929.4', '2,409.6', '3,012'], ['258', 'Inspur NF5468M5, Xeon Gold 6132 14C 2.6GHz, NVIDIA Tesla V100, 25G Ethernet,\\n                 Inspur\\n                \\nBank (J)China', '51,504', '1,928.0', '4,618.0', ''], ['259', 'CTcluster - Sugon TC6000, Xeon Gold 6140 18C 2.3GHz, 10G Ethernet,\\n                 Sugon\\n                \\nTelecom CompanyChina', '54,000', '1,928.0', '3,974.4', '520'], ['260', 'Amazon EC2 C5 Instance cluster us-east-1a - Amazon EC2 Instance Cluster C5, Xeon Platinum 8124M 18C 3GHz, 25G Ethernet,\\n                 Amazon Web Services\\n                \\nDescartes LabsUnited States', '41,472', '1,926.4', '3,981.3', ''], ['261', 'Inspur TS10000, Xeon Gold 6130 16C 2.1GHz, NVIDIA Tesla V100, Infiniband EDR,\\n                 Inspur\\n                \\nInternet CompanyChina', '40,320', '1,921.0', '3,520.5', ''], ['262', 'ThinkSystem SR650, Xeon Gold 6138 20C 2GHz, 10G Ethernet,\\n                 Lenovo\\n                \\nFinancial Company PChina', '57,200', '1,914.6', '3,660.8', ''], ['263', 'Huawei 2288H V5, Xeon Gold 6150 18C 2.7GHz, 10G Ethernet,\\n                 Huawei Technologies Co., Ltd.\\n                \\nEnergy CompanyChina', '49,680', '1,914.4', '4,292.4', '733'], ['264', 'ThinkSystem SR650, Xeon E5-2698v3 16C 2.3GHz, 10G Ethernet,\\n                 Lenovo\\n                \\nDJIT CompanyChina', '86,400', '1,905.5', '3,179.5', ''], ['265', 'Sugon TC6000, Xeon Gold 6132 14C 2.6GHz, 25G Ethernet,\\n                 Sugon\\n                \\nDJIT CompanyChina', '46,200', '1,901.0', '3,843.8', '630'], ['266', 'Piz Daint Multicore - Cray XC40, Xeon E5-2695v4 18C 2.1GHz, Aries interconnect ,\\n                 Cray/HPE\\n                \\nSwiss National Supercomputing Centre (CSCS)Switzerland', '65,268', '1,896.8', '2,193.0', '732'], ['267', 'Sugon TC6000, Xeon Gold 6130 16C 2.1GHz, 25G Ethernet,\\n                 Sugon\\n                \\nInternet CompanyChina', '56,800', '1,896.0', '3,817.0', '625'], ['268', 'A1 - Lenovo HR650x, Xeon Gold 6148 20C 2.4GHz, 25G Ethernet,\\n                 Lenovo\\n                \\nService Provider TChina', '47,040', '1,882.6', '3,612.7', ''], ['269', 'INSPUR SA5212M5, Xeon Gold 5117 14C 2GHz, NVIDIA Tesla V100, 10G Ethernet,\\n                 Inspur\\n                \\nInternet Service (B)China', '173,680', '1,872.0', '15,162.4', ''], ['270', 'Inspur TS10000, Xeon Gold 6130 16C 2.1GHz, NVIDIA Tesla V100, 25G Ethernet,\\n                 Inspur\\n                \\nInternet Service PChina', '40,320', '1,872.0', '3,520.5', ''], ['271', \"Tera-1000-1 - bullx DLC 720, Xeon E5-2698v3 16C 2.3GHz, Infiniband FDR,\\n                 Atos\\n                \\nCommissariat a l'Energie Atomique (CEA)France\", '70,272', '1,871.0', '2,586.0', '1,042'], ['272', 'HPE SGI 8600, Xeon Gold 6242R 20C 3.1GHz, Infiniband EDR,\\n                 HPE\\n                \\nJapan Atomic Energy Agency(JAEA) / Quantum and Radiological Science and Technology(QST)Japan', '28,240', '1,870.7', '2,801.4', ''], ['273', 'ThinkSystem SR650, Xeon Gold 6248 20C 2.5GHz, 10G Ethernet,\\n                 Lenovo\\n                \\nDJIT CompanyChina', '44,000', '1,861.4', '3,520.0', ''], ['274', 'Inspur NF5468M5, Xeon Gold 5118 12C 2.3GHz, NVIDIA Tesla V100, 25G Ethernet,\\n                 Inspur\\n                \\nInternet Service PChina', '46,480', '1,854.0', '4,080.0', ''], ['275', 'Inspur TS10000, Xeon Gold 6248 20C 2.5GHz/Platinum 8268 24C 2.9GHz, NVIDIA Tesla V100, 100G Ethernet,\\n                 Inspur\\n                \\nNanjing UniversityChina', '37,440', '1,853.0', '3,432.0', ''], ['276', 'Santos Dumont (SDumont) - Bull Sequana X1000, Xeon Gold 6252 24C 2.1GHz, Mellanox InfiniBand EDR, NVIDIA Tesla V100 SXM2,\\n                 Atos\\n                \\nLaboratório Nacional de Computação CientíficaBrazil', '33,856', '1,849.0', '2,727.0', ''], ['277', 'Phoenix - Relion XE2142/XE1114GT, Intel Xeon Gold 6226 12C 2.7GHz, NVIDIA Tesla V100, Mellanox InfiniBand HDR100,\\n                 Penguin Computing, Inc.\\n                \\nGeorgia Institute of TechnologyUnited States', '31,104', '1,840.9', '2,687.4', ''], ['278', 'bsystem - Sugon TC6000, Xeon Gold 6130 16C 2.1GHz, 25G Ethernet,\\n                 Sugon\\n                \\nInternet CompanyChina', '55,040', '1,838.0', '3,698.7', '600'], ['279', 'ThinkSystem SR570, Xeon Gold 5218 16C 2.3GHz, 10G Ethernet,\\n                 Lenovo\\n                \\nDJIT CompanyChina', '83,200', '1,835.5', '6,123.5', ''], ['280', 'Sugon TC6000, Xeon Gold 6148 20C 2.4GHz, 25G Ethernet,\\n                 Sugon\\n                \\nDJIT CompanyChina', '48,000', '1,833.0', '3,686.4', '470'], ['281', 'Astra - Apollo 70, Marvell ThunderX2 ARM CN9975-2000  28C 2GHz, 4xEDR Infiniband,\\n                 HPE\\n                \\nSandia National LaboratoriesUnited States', '143,640', '1,833.0', '2,298.2', '1,193'], ['282', 'Sugon TC6000, Xeon Gold 5117 14C 2GHz, 25G Ethernet,\\n                 Sugon\\n                \\nInternet Service (B)China', '116,200', '1,832.0', '7,436.8', '1,300'], ['283', 'Lenovo HR650x, Xeon Gold 6133 20C 2.5GHz, 25G Ethernet,\\n                 Lenovo\\n                \\nService Provider TChina', '43,200', '1,831.5', '3,456.0', ''], ['284', 'scafellpike - Bull Sequana X1000, Intel Xeon Phi 7210 64C 1.3GHz/Xeon Gold 6142, Mellanox EDR,\\n                 Atos\\n                \\nScience and Technology Facilities CouncilUnited Kingdom', '80,640', '1,829.9', '4,329.7', '529'], ['285', 'ThinkSystem SR650, Xeon Gold 6138 20C 2GHz, 10G Ethernet, NVIDIA Tesla P100,\\n                 Lenovo\\n                \\nFinancial Company PChina', '66,080', '1,828.0', '4,981.8', ''], ['286', 'JGV100System - Sugon TC6000, Xeon E5-2680v4 14C 2.4GHz, NVIDIA Tesla V100, 10G Ethernet,\\n                 Sugon\\n                \\nInternet CompanyChina', '41,760', '1,825.0', '3,353.2', '240'], ['287', 'Sugon TC6000, Xeon Gold 6132 14C 2.6GHz, 10G Ethernet,\\n                 Sugon\\n                \\nIT Service ProviderChina', '44,100', '1,824.0', '3,669.1', '600'], ['288', 'INSPUR SA5212M5, Xeon Gold 5117 14C 2GHz, NVIDIA Tesla V100, 10G Ethernet,\\n                 Inspur\\n                \\nInternet Service (B)China', '48,880', '1,820.0', '4,140.0', ''], ['289', 'INSPUR SA5212M5, Xeon Gold 5117 14C 2GHz, NVIDIA Tesla V100, 10G Ethernet,\\n                 Inspur\\n                \\nInternet Service (B)China', '48,880', '1,820.0', '4,140.0', ''], ['290', 'Sugon TC6000, Xeon Gold 6130 16C 2.1GHz, 25G Ethernet,\\n                 Sugon\\n                \\nGovernment Agency (S)China', '54,240', '1,815.0', '3,644.9', '600'], ['291', 'szaisystem - Sugon TC6000, Xeon Gold 6248 20C 2.5GHz, NVIDIA Tesla V100, Infiniband EDR,\\n                 Sugon\\n                \\nSuzhou SC centerChina', '30,600', '1,814.0', '2,674.1', '180'], ['292', 'Bank P A2 - ThinkSystem SR650, Xeon Gold 6148 20C 2.4GHz, NVIDIA Tesla V100, 10G Ethernet,\\n                 Lenovo\\n                \\nFinancial Company PChina', '36,000', '1,809.3', '3,021.6', ''], ['293', 'Bank P A2 - ThinkSystem SR650, Xeon Gold 6148 20C 2.4GHz, NVIDIA Tesla V100, 10G Ethernet,\\n                 Lenovo\\n                \\nFinancial Company PChina', '36,000', '1,809.3', '3,021.6', ''], ['294', 'JCSystem - Sugon TC6000, Xeon E5-2620v4 8C 2.1GHz, 10G Ethernet,\\n                 Sugon\\n                \\nInternet CompanyChina', '110,080', '1,807.0', '3,698.7', '1,100'], ['295', 'S1 - ThinkSystem Flex SN550, Xeon Gold 6150 18C 2.7GHz, Infiniband FDR,\\n                 Lenovo\\n                \\nGovernmentChina', '33,840', '1,804.0', '2,923.8', ''], ['296', 'Beskow - Cray XC40, Xeon E5-2695v4/E5-2698v3 16C 2.3GHz, Aries interconnect ,\\n                 Cray/HPE\\n                \\nKTH - Royal Institute of TechnologySweden', '67,456', '1,802.5', '2,438.1', '842'], ['297', 'ESSystem - Sugon TC6000, Xeon E5-2630v4 10C 2.2GHz, 10G Ethernet,\\n                 Sugon\\n                \\nState Grid CorpChina', '105,000', '1,790.0', '3,696.0', '1,100'], ['298', 'Molecular Simulator - NEC LX Cluster, Xeon Gold 6148/6154, Intel Omni-Path,\\n                 NEC\\n                \\nInstitute for Molecular ScienceJapan', '38,552', '1,785.6', '3,072.8', '544'], ['299', 'R1 - ThinkSystem Flex SN550, Xeon Gold 6150 18C 2.7GHz, Infiniband FDR,\\n                 Lenovo\\n                \\nGovernmentChina', '33,120', '1,768.6', '2,861.6', ''], ['300', 'ThinkSystem SR570, Xeon Gold 5218 16C 2.3GHz, 10G Ethernet,\\n                 Lenovo\\n                \\nDJIT CompanyChina', '80,000', '1,765.8', '5,888.0', ''], ['301', 'Sugon TC6000, Xeon Gold 5118 12C 2.3GHz, 10G Ethernet,\\n                 Sugon\\n                \\nInternet CompanyChina', '99,360', '1,765.0', '7,312.9', '1,320'], ['302', 'POD3 - Huawei Cluster, Xeon Gold 6148 20C 2.4GHz, Infiniband,\\n                 Huawei Technologies Co., Ltd.\\n                \\nGroup 42United Arab Emirates', '34,800', '1,756.8', '2,672.6', ''], ['303', 'QURIOSITY - Apollo XL230k, Xeon Gold 6148 20C 2.4GHz, Intel Omni-Path,\\n                 HPE\\n                \\nBASFGermany', '35,280', '1,750.2', '2,709.5', ''], ['304', 'CARA - NEC LX Cluster, AMD Epyc 7601 32C 2.2GHz, Infiniband HDR,\\n                 NEC\\n                \\nGerman Aerospace CenterGermany', '145,920', '1,746.0', '2,568.2', ''], ['305', 'ThinkSystem SR590, Xeon E7-4850V3 14C 2.2GHz, 10G Ethernet,\\n                 Lenovo\\n                \\nDJIT CompanyChina', '2,312,800', '1,741.0', '81,410.6', ''], ['306', 'CSystem - Sugon TC6000, Xeon Gold 5118 12C 2.3GHz, 10G Ethernet,\\n                 Sugon\\n                \\nTelecom Operator (C)China', '97,920', '1,736.0', '7,206.9', '1,000'], ['307', 'Q1 - ThinkSystem Flex SN550, Xeon Gold 6150 18C 2.7GHz, Infiniband FDR,\\n                 Lenovo\\n                \\nGovernmentChina', '32,400', '1,735.7', '2,799.4', ''], ['308', 'Inspur SA5212H5, Xeon Platinum 8163 24C 2.5GHz, 10G Ethernet,\\n                 Inspur\\n                \\nInternet Service AChina', '38,400', '1,729.0', '3,072.0', ''], ['309', 'Inspur SA5212H5, Xeon Platinum 8163 24C 2.5GHz, 10G Ethernet,\\n                 Inspur\\n                \\nInternet Service AChina', '38,400', '1,729.0', '3,072.0', ''], ['310', 'Inspur SA5212H5, Xeon Platinum 8163 24C 2.5GHz, 10G Ethernet,\\n                 Inspur\\n                \\nInternet Service AChina', '38,400', '1,729.0', '3,072.0', ''], ['311', 'Internet Company T DD1 - Lenovo RD350, Xeon E5-2620v4 8C 2.1GHz, 10G Ethernet,\\n                 Lenovo\\n                \\nService Provider TChina', '118,400', '1,728.9', '3,978.2', ''], ['312', 'Huawei X6000, Xeon Gold 6242 16C 2.8GHz, Infiniband EDR,\\n                 Huawei Technologies Co., Ltd.\\n                \\nManufacturing Company BGermany', '38,400', '1,724.5', '3,440.6', '655'], ['313', 'PRIMERGY CX2550 M4, Xeon Gold 6248 20C 2.5GHz, Intel Omni-Path,\\n                 Fujitsu\\n                \\nMeteorological Research Institute, Japan Meteorological AgencyJapan', '35,200', '1,715.8', '2,816.0', ''], ['314', 'Inspur TS10000, Xeon E5-2682v4 16C 2.5GHz, 10G Ethernet, NVIDIA Tesla P100,\\n                 Inspur\\n                \\nInternet Service AChina', '39,680', '1,714.0', '3,149.6', ''], ['315', 'Puhti - Bull Sequana X1000, Xeon Gold 6230 20C 2.1GHz, Mellanox HDR100,\\n                 Atos\\n                \\nCSC (Center for Scientific Computing)Finland', '40,000', '1,706.7', '2,688.0', '585'], ['316', 'P1 - ThinkSystem Flex SN550, Xeon Gold 6150 18C 2.7GHz, Infiniband FDR,\\n                 Lenovo\\n                \\nGovernmentChina', '31,680', '1,703.5', '2,737.2', ''], ['317', 'SwiftLucy - Cluster Platform 3000 BL460c Gen9, Xeon E5-2680v3 12C 2.5GHz, Infiniband FDR,\\n                 HPE\\n                \\nGovernmentUnited States', '57,600', '1,703.3', '2,304.0', '2,880'], ['318', 'AFI-NITY - PRIMERGY CX2550 M4, Xeon Gold 6148 20C 2.4GHz, Infiniband EDR,\\n                 Fujitsu\\n                \\nTohoku University, Institute of Fluid ScienceJapan', '35,200', '1,691.0', '2,703.4', ''], ['319', 'TaiYi - ThinkSystem SD530, Xeon Gold 6148 20C 2.4GHz, Intel Omni-Path,\\n                 Lenovo\\n                \\nSouthern University of Science and TechnologyChina', '32,400', '1,686.5', '2,488.3', ''], ['320', 'ThinkSystem SD530, Xeon Gold 6148 20C 2.4GHz, Infiniband EDR,\\n                 Lenovo\\n                \\nGovernmentChina', '35,200', '1,684.2', '2,703.4', ''], ['321', 'ThinkSystem SD650, Xeon Gold 6240 18C 2.6GHz, Infiniband EDR,\\n                 Lenovo\\n                \\nBeijing Meteorological AssociationChina', '28,800', '1,683.4', '2,695.7', ''], ['322', 'ISystem - Sugon TC6000, Xeon E5-2650v4 12C 2.2GHz, 10G Ethernet,\\n                 Sugon\\n                \\nIIT CompanyChina', '97,920', '1,683.0', '3,446.8', '1,050'], ['323', 'Internet Service D - Huawei 1288H V5, Xeon Platinum 8160  24C 2.1GHz, Infiniband EDR,\\n                 Huawei Technologies Co., Ltd.\\n                \\nInternet Service JChina', '48,960', '1,671.4', '3,290.1', '524'], ['324', 'Prometheus - HP Apollo 8000, Xeon E5-2680v3 12C 2.5GHz, Infiniband FDR, NVIDIA Tesla K40,\\n                 HPE\\n                \\nCyfronetPoland', '55,728', '1,670.1', '2,348.6', '808'], ['325', 'O1 - ThinkSystem Flex SN550, Xeon Gold 6150 18C 2.7GHz, Infiniband FDR,\\n                 Lenovo\\n                \\nGovernmentChina', '30,960', '1,668.2', '2,674.9', ''], ['326', 'ThinkSystem SR650, Xeon Gold 6148 20C 2.4GHz, 10G Ethernet,\\n                 Lenovo\\n                \\nInternet CompanyChina', '41,760', '1,667.7', '3,207.2', ''], ['327', 'Sugon TC6000, AMD Epyc 7501 32C 2GHz, AMD Vega 20, Infiniband HDR,\\n                 Sugon\\n                \\nPukou Advanced Computing CenterChina', '100,800', '1,661.0', '2,473.0', '260'], ['328', 'Endeavor - Intel Cluster, Intel Xeon 6245/8280/6230/8268/8260L/8276/9242, Intel Omni-Path,\\n                 Intel\\n                \\nIntelUnited States', '31,524', '1,653.9', '2,467.7', '559'], ['329', 'Internet Company T Y1 - Lenovo RD450, Xeon E5-2680v4 14C 2.4GHz, 10G Ethernet,\\n                 Lenovo\\n                \\nService Provider TChina', '89,600', '1,653.2', '3,440.6', ''], ['330', 'MN-3 - MN-Core Server, Xeon Platinum 8260M 24C 2.4GHz, Preferred Networks MN-Core, MN-Core DirectConnect,\\n                 Preferred Networks\\n                \\nPreferred NetworksJapan', '1,664', '1,652.9', '3,137.9', '65'], ['331', 'ThinkSystem SR570, Xeon E7-4850V3 14C 2.2GHz, 10G Ethernet,\\n                 Lenovo\\n                \\nDJIT CompanyChina', '78,400', '1,652.5', '2,759.7', ''], ['332', 'Software Company (M) AA1 - Lenovo C1040, Xeon E5-2673v4 20C 2.3GHz, 40G Ethernet,\\n                 Lenovo\\n                \\nCloud ProviderAustralia', '57,600', '1,649.1', '2,119.7', ''], ['333', 'Software Company (M) CA3 - Lenovo C1040, Xeon E5-2673v4 20C 2.3GHz, 40G Ethernet,\\n                 Lenovo\\n                \\nCloud ProviderCanada', '57,600', '1,649.1', '2,119.7', ''], ['334', 'Software Company (M) CA2 - Lenovo C1040, Xeon E5-2673v4 20C 2.3GHz, 40G Ethernet,\\n                 Lenovo\\n                \\nCloud ProviderCanada', '57,600', '1,649.1', '2,119.7', ''], ['335', 'Software Company (M) CA1 - Lenovo C1040, Xeon E5-2673v4 20C 2.3GHz, 40G Ethernet,\\n                 Lenovo\\n                \\nCloud ProviderCanada', '57,600', '1,649.1', '2,119.7', ''], ['336', 'Lenovo C1040, Xeon E5-2673v4 20C 2.3GHz, 40G Ethernet,\\n                 Lenovo\\n                \\nCloud ProviderCanada', '57,600', '1,649.1', '2,119.7', ''], ['337', 'Software Company (M) A16 - Lenovo C1040, Xeon E5-2673v4 20C 2.3GHz, 40G Ethernet,\\n                 Lenovo\\n                \\nHosting ServicesUnited States', '57,600', '1,649.1', '2,119.7', ''], ['338', 'Software Company (M) A15 - Lenovo C1040, Xeon E5-2673v4 20C 2.3GHz, 40G Ethernet,\\n                 Lenovo\\n                \\nHosting ServicesUnited States', '57,600', '1,649.1', '2,119.7', ''], ['339', 'Software Company (M) A14 - Lenovo C1040, Xeon E5-2673v4 20C 2.3GHz, 40G Ethernet,\\n                 Lenovo\\n                \\nHosting ServicesUnited States', '57,600', '1,649.1', '2,119.7', ''], ['340', 'Software Company (M) A13 - Lenovo C1040, Xeon E5-2673v4 20C 2.3GHz, 40G Ethernet,\\n                 Lenovo\\n                \\nHosting ServicesUnited States', '57,600', '1,649.1', '2,119.7', ''], ['341', 'Software Company (M) A11 - Lenovo C1040, Xeon E5-2673v4 20C 2.3GHz, 40G Ethernet,\\n                 Lenovo\\n                \\nHosting ServicesUnited States', '57,600', '1,649.1', '2,119.7', ''], ['342', 'Software Company (M) A10 - Lenovo C1040, Xeon E5-2673v4 20C 2.3GHz, 40G Ethernet,\\n                 Lenovo\\n                \\nHosting ServicesUnited States', '57,600', '1,649.1', '2,119.7', ''], ['343', 'Software Company (M) A9 - Lenovo C1040, Xeon E5-2673v4 20C 2.3GHz, 40G Ethernet,\\n                 Lenovo\\n                \\nHosting ServicesUnited States', '57,600', '1,649.1', '2,119.7', ''], ['344', 'Software Company (M) A8 - Lenovo C1040, Xeon E5-2673v4 20C 2.3GHz, 40G Ethernet,\\n                 Lenovo\\n                \\nHosting ServicesUnited States', '57,600', '1,649.1', '2,119.7', ''], ['345', 'Software Company (M) A7 - Lenovo C1040, Xeon E5-2673v4 20C 2.3GHz, 40G Ethernet,\\n                 Lenovo\\n                \\nHosting ServicesUnited States', '57,600', '1,649.1', '2,119.7', ''], ['346', 'Software Company (M) A6 - Lenovo C1040, Xeon E5-2673v4 20C 2.3GHz, 40G Ethernet,\\n                 Lenovo\\n                \\nHosting ServicesUnited States', '57,600', '1,649.1', '2,119.7', ''], ['347', 'Software Company (M) A4 - Lenovo C1040, Xeon E5-2673v4 20C 2.3GHz, 40G Ethernet,\\n                 Lenovo\\n                \\nHosting ServicesUnited States', '57,600', '1,649.1', '2,119.7', ''], ['348', 'Software Company (M) A3 - Lenovo C1040, Xeon E5-2673v4 20C 2.3GHz, 40G Ethernet,\\n                 Lenovo\\n                \\nHosting ServicesUnited States', '57,600', '1,649.1', '2,119.7', ''], ['349', 'Software Company (M) A2 - Lenovo C1040, Xeon E5-2673v4 20C 2.3GHz, 40G Ethernet,\\n                 Lenovo\\n                \\nHosting ServicesUnited States', '57,600', '1,649.1', '2,119.7', ''], ['350', 'Software Company (M) A1 - Lenovo C1040, Xeon E5-2673v4 20C 2.3GHz, 40G Ethernet,\\n                 Lenovo\\n                \\nHosting ServicesUnited States', '57,600', '1,649.1', '2,119.7', ''], ['351', 'Software Company (M) A12 - Lenovo C1040, Xeon E5-2673v4 20C 2.3GHz, 40G Ethernet,\\n                 Lenovo\\n                \\nHosting ServicesUnited States', '57,600', '1,649.1', '2,119.7', ''], ['352', 'Software Company (M) A5 - Lenovo C1040, Xeon E5-2673v4 20C 2.3GHz, 40G Ethernet,\\n                 Lenovo\\n                \\nHosting ServicesUnited States', '57,600', '1,649.1', '2,119.7', ''], ['353', 'Software Company (M) A26 - Lenovo C1040, Xeon E5-2673v4 20C 2.3GHz, 40G Ethernet,\\n                 Lenovo\\n                \\nHosting ServicesUnited States', '57,600', '1,649.1', '2,119.7', ''], ['354', 'Lenovo C1040, Xeon E5-2673v4 20C 2.3GHz, 40G Ethernet,\\n                 Lenovo\\n                \\nHosting ServicesUnited States', '57,600', '1,649.1', '2,119.7', ''], ['355', 'Lenovo C1040, Xeon E5-2673v4 20C 2.3GHz, 40G Ethernet,\\n                 Lenovo\\n                \\nHosting ServicesUnited States', '57,600', '1,649.1', '2,119.7', ''], ['356', 'Lenovo C1040, Xeon E5-2673v4 20C 2.3GHz, 40G Ethernet,\\n                 Lenovo\\n                \\nHosting ServicesUnited States', '57,600', '1,649.1', '2,119.7', ''], ['357', 'Lenovo C1040, Xeon E5-2673v4 20C 2.3GHz, 40G Ethernet,\\n                 Lenovo\\n                \\nHosting ServicesUnited States', '57,600', '1,649.1', '2,119.7', ''], ['358', 'Lenovo C1040, Xeon E5-2673v4 20C 2.3GHz, 40G Ethernet,\\n                 Lenovo\\n                \\nHosting ServicesUnited States', '57,600', '1,649.1', '2,119.7', ''], ['359', 'Lenovo C1040, Xeon E5-2673v4 20C 2.3GHz, 40G Ethernet,\\n                 Lenovo\\n                \\nHosting ServicesUnited States', '57,600', '1,649.1', '2,119.7', ''], ['360', 'Lenovo C1040, Xeon E5-2673v4 20C 2.3GHz, 40G Ethernet,\\n                 Lenovo\\n                \\nHosting ServicesUnited States', '57,600', '1,649.1', '2,119.7', ''], ['361', 'Lenovo C1040, Xeon E5-2673v4 20C 2.3GHz, 40G Ethernet,\\n                 Lenovo\\n                \\nHosting ServicesUnited States', '57,600', '1,649.1', '2,119.7', ''], ['362', 'Lenovo C1040, Xeon E5-2673v4 20C 2.3GHz, 40G Ethernet,\\n                 Lenovo\\n                \\nHosting ServicesUnited States', '57,600', '1,649.1', '2,119.7', ''], ['363', 'Lenovo C1040, Xeon E5-2673v4 20C 2.3GHz, 40G Ethernet,\\n                 Lenovo\\n                \\nHosting ServicesUnited States', '57,600', '1,649.1', '2,119.7', ''], ['364', 'Software Company (M) A38 - Lenovo C1040, Xeon E5-2673v4 20C 2.3GHz, 40G Ethernet,\\n                 Lenovo\\n                \\nHosting ServicesUnited States', '57,600', '1,649.1', '2,119.7', ''], ['365', 'Software Company (M) A37 - Lenovo C1040, Xeon E5-2673v4 20C 2.3GHz, 40G Ethernet,\\n                 Lenovo\\n                \\nHosting ServicesUnited States', '57,600', '1,649.1', '2,119.7', ''], ['366', 'Software Company (M) A36 - Lenovo C1040, Xeon E5-2673v4 20C 2.3GHz, 40G Ethernet,\\n                 Lenovo\\n                \\nHosting ServicesUnited States', '57,600', '1,649.1', '2,119.7', ''], ['367', 'Software Company (M) A35 - Lenovo C1040, Xeon E5-2673v4 20C 2.3GHz, 40G Ethernet,\\n                 Lenovo\\n                \\nHosting ServicesUnited States', '57,600', '1,649.1', '2,119.7', ''], ['368', 'Software Company (M) A34 - Lenovo C1040, Xeon E5-2673v4 20C 2.3GHz, 40G Ethernet,\\n                 Lenovo\\n                \\nHosting ServicesUnited States', '57,600', '1,649.1', '2,119.7', ''], ['369', 'Software Company (M) A33 - Lenovo C1040, Xeon E5-2673v4 20C 2.3GHz, 40G Ethernet,\\n                 Lenovo\\n                \\nHosting ServicesUnited States', '57,600', '1,649.1', '2,119.7', ''], ['370', 'Software Company (M) A32 - Lenovo C1040, Xeon E5-2673v4 20C 2.3GHz, 40G Ethernet,\\n                 Lenovo\\n                \\nHosting ServicesUnited States', '57,600', '1,649.1', '2,119.7', ''], ['371', 'Software Company (M) A31 - Lenovo C1040, Xeon E5-2673v4 20C 2.3GHz, 40G Ethernet,\\n                 Lenovo\\n                \\nHosting ServicesUnited States', '57,600', '1,649.1', '2,119.7', ''], ['372', 'Software Company (M) A30 - Lenovo C1040, Xeon E5-2673v4 20C 2.3GHz, 40G Ethernet,\\n                 Lenovo\\n                \\nHosting ServicesUnited States', '57,600', '1,649.1', '2,119.7', ''], ['373', 'Software Company (M) A29 - Lenovo C1040, Xeon E5-2673v4 20C 2.3GHz, 40G Ethernet,\\n                 Lenovo\\n                \\nHosting ServicesUnited States', '57,600', '1,649.1', '2,119.7', ''], ['374', 'Software Company (M) A28 - Lenovo C1040, Xeon E5-2673v4 20C 2.3GHz, 40G Ethernet,\\n                 Lenovo\\n                \\nHosting ServicesUnited States', '57,600', '1,649.1', '2,119.7', ''], ['375', 'Lenovo C1040, Xeon E5-2673v4 20C 2.3GHz, 10G Ethernet,\\n                 Lenovo\\n                \\nHosting ServicesUnited States', '57,600', '1,649.1', '2,119.7', ''], ['376', 'Lenovo C1040, Xeon E5-2673v4 20C 2.3GHz, 10G Ethernet,\\n                 Lenovo\\n                \\nHosting ServicesUnited States', '57,600', '1,649.1', '2,119.7', ''], ['377', 'Lenovo C1040, Xeon E5-2673v4 20C 2.3GHz, 10G Ethernet,\\n                 Lenovo\\n                \\nHosting ServicesUnited States', '57,600', '1,649.1', '2,119.7', ''], ['378', 'Lenovo C1040, Xeon E5-2673v4 20C 2.3GHz, 10G Ethernet,\\n                 Lenovo\\n                \\nHosting ServicesUnited States', '57,600', '1,649.1', '2,119.7', ''], ['379', 'Lenovo C1040, Xeon E5-2673v4 20C 2.3GHz, 10G Ethernet,\\n                 Lenovo\\n                \\nHosting ServicesUnited States', '57,600', '1,649.1', '2,119.7', ''], ['380', 'Lenovo C1040, Xeon E5-2673v4 20C 2.3GHz, 10G Ethernet,\\n                 Lenovo\\n                \\nHosting ServicesUnited States', '57,600', '1,649.1', '2,119.7', ''], ['381', 'NA5 - Lenovo C1040, Xeon E5-2673v4 20C 2.3GHz, 40G Ethernet,\\n                 Lenovo\\n                \\nSoftware Company (M)Netherlands', '57,600', '1,649.1', '2,119.7', ''], ['382', 'NA4 - Lenovo C1040, Xeon E5-2673v4 20C 2.3GHz, 40G Ethernet,\\n                 Lenovo\\n                \\nSoftware Company (M)Netherlands', '57,600', '1,649.1', '2,119.7', ''], ['383', 'NA3 - Lenovo C1040, Xeon E5-2673v4 20C 2.3GHz, 40G Ethernet,\\n                 Lenovo\\n                \\nSoftware Company (M)Netherlands', '57,600', '1,649.1', '2,119.7', ''], ['384', 'NA2 - Lenovo C1040, Xeon E5-2673v4 20C 2.3GHz, 40G Ethernet,\\n                 Lenovo\\n                \\nSoftware Company (M)Netherlands', '57,600', '1,649.1', '2,119.7', ''], ['385', 'NA1 - Lenovo C1040, Xeon E5-2673v4 20C 2.3GHz, 40G Ethernet,\\n                 Lenovo\\n                \\nSoftware Company (M)Netherlands', '57,600', '1,649.1', '2,119.7', ''], ['386', 'IA4 - Lenovo C1040, Xeon E5-2673v4 20C 2.3GHz, 40G Ethernet,\\n                 Lenovo\\n                \\nSoftware Company (M)Ireland', '57,600', '1,649.1', '2,119.7', ''], ['387', 'IA3 - Lenovo C1040, Xeon E5-2673v4 20C 2.3GHz, 40G Ethernet,\\n                 Lenovo\\n                \\nSoftware Company (M)Ireland', '57,600', '1,649.1', '2,119.7', ''], ['388', 'IA2 - Lenovo C1040, Xeon E5-2673v4 20C 2.3GHz, 40G Ethernet,\\n                 Lenovo\\n                \\nSoftware Company (M)Ireland', '57,600', '1,649.1', '2,119.7', ''], ['389', 'IA1 - Lenovo C1040, Xeon E5-2673v4 20C 2.3GHz, 40G Ethernet,\\n                 Lenovo\\n                \\nSoftware Company (M)Ireland', '57,600', '1,649.1', '2,119.7', ''], ['390', 'SB3 - Lenovo C1040, Xeon E5-2673v4 20C 2.3GHz, 40G Ethernet,\\n                 Lenovo\\n                \\nSoftware Company (M)Singapore', '57,600', '1,649.1', '2,119.7', ''], ['391', 'SB2 - Lenovo C1040, Xeon E5-2673v4 20C 2.3GHz, 40G Ethernet,\\n                 Lenovo\\n                \\nSoftware Company (M)Singapore', '57,600', '1,649.1', '2,119.7', ''], ['392', 'Lenovo C1040, Xeon E5-2673v4 20C 2.3GHz, 40G Ethernet,\\n                 Lenovo\\n                \\nSoftware Company (M)Ireland', '57,600', '1,649.1', '2,119.7', ''], ['393', 'Lenovo C1040, Xeon E5-2673v4 20C 2.3GHz, 40G Ethernet,\\n                 Lenovo\\n                \\nSoftware Company (M)Ireland', '57,600', '1,649.1', '2,119.7', ''], ['394', 'Lenovo C1040, Xeon E5-2673v4 20C 2.3GHz, 40G Ethernet,\\n                 Lenovo\\n                \\nSoftware Company (M)Ireland', '57,600', '1,649.1', '2,119.7', ''], ['395', 'Lenovo C1040, Xeon E5-2673v4 20C 2.3GHz, 40G Ethernet,\\n                 Lenovo\\n                \\nSoftware Company (M)Ireland', '57,600', '1,649.1', '2,119.7', ''], ['396', 'Lenovo C1040, Xeon E5-2673v4 20C 2.3GHz, 40G Ethernet,\\n                 Lenovo\\n                \\nSoftware Company (M)Ireland', '57,600', '1,649.1', '2,119.7', ''], ['397', 'Lenovo C1040, Xeon E5-2673v4 20C 2.3GHz, 40G Ethernet,\\n                 Lenovo\\n                \\nSoftware Company (M)Ireland', '57,600', '1,649.1', '2,119.7', ''], ['398', 'Lenovo C1040, Xeon E5-2673v4 20C 2.3GHz, 40G Ethernet,\\n                 Lenovo\\n                \\nSoftware Company (M)Ireland', '57,600', '1,649.1', '2,119.7', ''], ['399', 'Lenovo C1040, Xeon E5-2673v4 20C 2.3GHz, 40G Ethernet,\\n                 Lenovo\\n                \\nSoftware Company (M)Ireland', '57,600', '1,649.1', '2,119.7', ''], ['400', 'Lenovo C1040, Xeon E5-2673v4 20C 2.3GHz, 40G Ethernet,\\n                 Lenovo\\n                \\nSoftware Company (M)Singapore', '57,600', '1,649.1', '2,119.7', ''], ['401', 'NA12 - Lenovo C1040, Xeon E5-2673v4 20C 2.3GHz, 40G Ethernet,\\n                 Lenovo\\n                \\nSoftware Company (M)Netherlands', '57,600', '1,649.1', '2,119.7', ''], ['402', 'NA11 - Lenovo C1040, Xeon E5-2673v4 20C 2.3GHz, 40G Ethernet,\\n                 Lenovo\\n                \\nSoftware Company (M)Netherlands', '57,600', '1,649.1', '2,119.7', ''], ['403', 'NA10 - Lenovo C1040, Xeon E5-2673v4 20C 2.3GHz, 40G Ethernet,\\n                 Lenovo\\n                \\nSoftware Company (M)Netherlands', '57,600', '1,649.1', '2,119.7', ''], ['404', 'NA9 - Lenovo C1040, Xeon E5-2673v4 20C 2.3GHz, 40G Ethernet,\\n                 Lenovo\\n                \\nSoftware Company (M)Netherlands', '57,600', '1,649.1', '2,119.7', ''], ['405', 'NA8 - Lenovo C1040, Xeon E5-2673v4 20C 2.3GHz, 40G Ethernet,\\n                 Lenovo\\n                \\nSoftware Company (M)Netherlands', '57,600', '1,649.1', '2,119.7', ''], ['406', 'NA7 - Lenovo C1040, Xeon E5-2673v4 20C 2.3GHz, 40G Ethernet,\\n                 Lenovo\\n                \\nSoftware Company (M)Netherlands', '57,600', '1,649.1', '2,119.7', ''], ['407', 'IA13 - Lenovo C1040, Xeon E5-2673v4 20C 2.3GHz, 40G Ethernet,\\n                 Lenovo\\n                \\nSoftware Company (M)Ireland', '57,600', '1,649.1', '2,119.7', ''], ['408', 'HKA1 - Lenovo C1040, Xeon E5-2673v4 20C 2.3GHz, 40G Ethernet,\\n                 Lenovo\\n                \\nSoftware Company (M)Hong Kong', '57,600', '1,649.1', '2,119.7', ''], ['409', 'NA6 - Lenovo C1040, Xeon E5-2673v4 20C 2.3GHz, 40G Ethernet,\\n                 Lenovo\\n                \\nSoftware Company (M)Netherlands', '57,600', '1,649.1', '2,119.7', ''], ['410', 'SB5 - Lenovo C1040, Xeon E5-2673v4 20C 2.3GHz, 40G Ethernet,\\n                 Lenovo\\n                \\nSoftware Company (M)Singapore', '57,600', '1,649.1', '2,119.7', ''], ['411', 'IA14 - Lenovo C1040, Xeon E5-2673v4 20C 2.3GHz, 10G Ethernet,\\n                 Lenovo\\n                \\nSoftware Company (M)Ireland', '57,600', '1,649.1', '2,119.7', ''], ['412', 'NA15 - Lenovo C1040, Xeon E5-2673v4 20C 2.3GHz, 10G Ethernet,\\n                 Lenovo\\n                \\nSoftware Company (M)Netherlands', '57,600', '1,649.1', '2,119.7', ''], ['413', 'J2 - Lenovo C1040, Xeon E5-2673v4 20C 2.3GHz, 10G Ethernet,\\n                 Lenovo\\n                \\nSoftware Company (M)Japan', '57,600', '1,649.1', '2,119.7', ''], ['414', 'NA14 - Lenovo C1040, Xeon E5-2673v4 20C 2.3GHz, 10G Ethernet,\\n                 Lenovo\\n                \\nSoftware Company (M)Netherlands', '57,600', '1,649.1', '2,119.7', ''], ['415', 'NA13 - Lenovo C1040, Xeon E5-2673v4 20C 2.3GHz, 10G Ethernet,\\n                 Lenovo\\n                \\nSoftware Company (M)Netherlands', '57,600', '1,649.1', '2,119.7', ''], ['416', 'NY A2 - Lenovo C1040, Xeon E5-2673v4 20C 2.3GHz, 10G Ethernet,\\n                 Lenovo\\n                \\nSoftware Company (M)Norway', '57,600', '1,649.1', '2,119.7', ''], ['417', 'NY A1 - Lenovo C1040, Xeon E5-2673v4 20C 2.3GHz, 10G Ethernet,\\n                 Lenovo\\n                \\nSoftware Company (M)Norway', '57,600', '1,649.1', '2,119.7', ''], ['418', 'Inspur TS10000, Xeon Gold 6130 16C 2.1GHz, NVIDIA Tesla V100, 100G Ethernet,\\n                 Inspur\\n                \\nInternet Service UChina', '40,320', '1,646.0', '3,520.5', ''], ['419', 'Cumulus-Cascadelake - PowerEdge C6420, CRC-StackHPC,Xeon Platinum 8276 28C 2.2GHz, Mellanox InfiniBand HDR100,\\n                 Dell EMC\\n                \\nUniversity of CambridgeUnited Kingdom', '37,632', '1,644.4', '2,649.3', ''], ['420', 'INSPUR NF5288M5, Xeon Gold 6133 20C 2.5GHz, NVIDIA Tesla V100, 25G Ethernet,\\n                 Inspur\\n                \\nNetwork CompanyChina', '43,520', '1,643.0', '3,788.8', ''], ['421', 'INSPUR NF5288M5, Xeon Gold 6132 14C 2.6GHz, NVIDIA Tesla V100, Infiniband EDR,\\n                 Inspur\\n                \\nInternet CompanyChina', '42,752', '1,643.0', '3,766.4', ''], ['422', 'INSPUR NF5288M5, Xeon Gold 6132 14C 2.6GHz, NVIDIA Tesla V100, Infiniband EDR,\\n                 Inspur\\n                \\nInternet CompanyChina', '42,752', '1,643.0', '3,766.4', ''], ['423', 'ARCHER - Cray XC30, Intel Xeon E5 v2 12C 2.700GHz, Aries interconnect ,\\n                 Cray/HPE\\n                \\nEPSRC/University of EdinburghUnited Kingdom', '118,080', '1,642.5', '2,550.5', '3,306'], ['424', 'Lenovo HR650x, Xeon Gold 6133 20C 2.5GHz, 25G Ethernet,\\n                 Lenovo\\n                \\nService Provider TChina', '38,400', '1,639.3', '3,072.0', ''], ['425', 'Surge - Cray XC40, Xeon E5-2690v3 12C 2.6GHz, Aries interconnect ,\\n                 Cray/HPE\\n                \\nNOAAUnited States', '48,960', '1,635.0', '2,036.7', '956'], ['426', 'Luna - Cray XC40, Xeon E5-2690v3 12C 2.6GHz, Aries interconnect ,\\n                 Cray/HPE\\n                \\nNOAAUnited States', '48,960', '1,635.0', '2,036.7', '956'], ['427', 'Cedar-2 - PowerEdge C6320/C6420, Xeon E5-2683 v4  16C 2.1GHz/Xeon Platinum 8160, Intel Omni-Path,\\n                 Dell EMC\\n                \\nSimon Fraser University/Compute CanadaCanada', '55,296', '1,633.0', '3,715.9', '601'], ['428', 'ThinkSystem SR650, Xeon Gold 6140 18C 2.3GHz, NVIDIA Tesla V100, Infiniband EDR,\\n                 Lenovo\\n                \\nGovernmentChina', '32,144', '1,630.1', '2,637.7', ''], ['429', 'Bell - PowerEdge C6525, AMD EPYC 7662 64C 2GHz, Mellanox InfiniBand HDR100,\\n                 Dell EMC\\n                \\nPurdue UniversityUnited States', '59,520', '1,623.7', '1,904.6', '315'], ['430', 'Lenovo HR650x, Xeon Gold 6133 20C 2.5GHz, 25G Ethernet,\\n                 Lenovo\\n                \\nService Provider TChina', '37,600', '1,608.2', '3,008.0', ''], ['431', 'Ogbon Cimatec/Petrobras - Bull Sequana X1000, Xeon Gold 6240 18C 2.6GHz, Mellanox InfiniBand EDR, NVIDIA Tesla V100 SXM2,\\n                 Atos\\n                \\nSENAI CIMATECBrazil', '27,768', '1,605.0', '2,323.3', ''], ['432', 'Internet Company T X2 - Lenovo RD450, Xeon E5-2680v4 14C 2.4GHz, 10G Ethernet,\\n                 Lenovo\\n                \\nService Provider TChina', '86,800', '1,603.2', '3,333.1', ''], ['433', 'HOKUSAI BigWaterfall\\t - PRIMERGY CX2550 M4, Xeon Gold 6148 20C 2.4GHz, Infiniband EDR,\\n                 Fujitsu\\n                \\nInformation Systems Division, RIKENJapan', '33,600', '1,601.0', '2,580.5', ''], ['434', 'U3 - ThinkSystem SR650, Xeon Gold 6140 18C 2.3GHz, NVIDIA Tesla V100, Infiniband EDR,\\n                 Lenovo\\n                \\nGovernmentChina', '31,360', '1,593.0', '2,573.4', ''], ['435', 'Sugon TC6000, Xeon Gold 6130 16C 2.1GHz, 25G Ethernet,\\n                 Sugon\\n                \\nInternet CompanyChina', '48,000', '1,590.0', '3,225.6', '530'], ['436', 'Power 775, POWER7 8C 3.836GHz, Custom Interconnect,\\n                 IBM\\n                \\nIBM Development EngineeringUnited States', '62,944', '1,587.0', '1,931.6', '3,576'], ['437', 'Cygnus - NEC LX Cluster, Xeon Gold 6126 12C 2.6GHz, NVIDIA Tesla V100, InfiniBand HDR100,\\n                 NEC\\n                \\nCenter for Computational Sciences, University of TsukubaJapan', '27,520', '1,582.0', '2,399.7', ''], ['438', 'Lenovo HR650x, Xeon Gold 6133 20C 2.5GHz, 25G Ethernet,\\n                 Lenovo\\n                \\nService Provider TChina', '36,800', '1,580.0', '2,944.0', ''], ['439', 'Sugon TC6000, Xeon Gold 5118 12C 2.3GHz, 10G Ethernet,\\n                 Sugon\\n                \\nInternet CompanyChina', '88,800', '1,569.0', '6,535.7', '1,150'], ['440', 'SGSystem - Sugon TC6000, Xeon E5-2630v4 10C 2.2GHz, 10G Ethernet,\\n                 Sugon\\n                \\nState Grid CorpChina', '92,000', '1,562.0', '3,238.4', '960'], ['441', 'Inspur TS10000, Xeon Platinum 8160  24C 2.1GHz, NVIDIA Tesla V100, 10G Ethernet,\\n                 Inspur\\n                \\nService Provider TChina', '34,400', '1,560.0', '2,987.5', ''], ['442', 'Inspur TS10000, Xeon Platinum 8160  24C 2.1GHz, NVIDIA Tesla V100, 10G Ethernet,\\n                 Inspur\\n                \\nService Provider TChina', '34,400', '1,560.0', '2,987.5', ''], ['443', 'Inspur TS10000, Xeon Platinum 8160  24C 2.1GHz, NVIDIA Tesla V100, 10G Ethernet,\\n                 Inspur\\n                \\nService Provider TChina', '34,400', '1,560.0', '2,987.5', ''], ['444', 'U2 - ThinkSystem SR650, Xeon Gold 6140 18C 2.3GHz, NVIDIA Tesla V100, Infiniband EDR,\\n                 Lenovo\\n                \\nGovernmentChina', '30,576', '1,558.4', '2,509.0', ''], ['445', 'ThinkSystem HR650X, Xeon Gold 6148 20C 2.4GHz, 10G Ethernet,\\n                 Lenovo\\n                \\nInternet Company SChina', '38,880', '1,556.0', '2,986.0', ''], ['446', 'Lenovo HR650x, Xeon Gold 6133 20C 2.5GHz, 25G Ethernet,\\n                 Lenovo\\n                \\nService Provider TChina', '36,000', '1,552.4', '2,880.0', ''], ['447', 'Internet Company T Z1 - Lenovo RD450, Xeon E5-2680v4 14C 2.4GHz, 10G Ethernet,\\n                 Lenovo\\n                \\nService Provider TChina', '84,000', '1,551.5', '3,225.6', ''], ['448', 'Internet Company T X1 - Lenovo RD450, Xeon E5-2680v4 14C 2.4GHz, 10G Ethernet,\\n                 Lenovo\\n                \\nService Provider TChina', '82,880', '1,537.2', '3,182.6', ''], ['449', 'LANL CTS-1 Grizzly - Tundra Extreme Scale, Xeon E5-2695v4 18C 2.1GHz, Intel Omni-Path,\\n                 Penguin Computing, Inc.\\n                \\nLos Alamos National LaboratoryUnited States', '53,352', '1,524.7', '1,792.6', '603'], ['450', 'Lenovo HR650x, Xeon Gold 6133 20C 2.5GHz, 25G Ethernet,\\n                 Lenovo\\n                \\nService Provider TChina', '35,200', '1,521.9', '2,816.0', ''], ['451', 'U1 - ThinkSystem SR650, Xeon Gold 6140 18C 2.3GHz, NVIDIA Tesla V100, Infiniband EDR,\\n                 Lenovo\\n                \\nGovernmentChina', '29,792', '1,521.0', '2,444.7', ''], ['452', 'Inspur TS10000, Xeon Platinum 8160  24C 2.1GHz, NVIDIA Tesla V100, 100G Ethernet,\\n                 Inspur\\n                \\nService Provider TChina', '34,400', '1,511.0', '2,987.5', ''], ['453', 'TaiYi GPU - ThinkSystem SD530, Xeon Gold 6140 18C 2.3GHz, NVIDIA Tesla V100, Infiniband EDR,\\n                 Lenovo\\n                \\nSouthern University of Science and TechnologyChina', '29,400', '1,498.3', '2,412.5', ''], ['454', 'Lenovo HR650x, Xeon Gold 6133 20C 2.5GHz, 25G Ethernet,\\n                 Lenovo\\n                \\nService Provider TChina', '34,400', '1,492.8', '2,752.0', ''], ['455', 'Internet Company T AA1 - Lenovo RD450, Xeon E5-2680v4 14C 2.4GHz, 10G Ethernet,\\n                 Lenovo\\n                \\nService Provider TChina', '79,520', '1,477.9', '3,053.6', ''], ['456', 'Jade2 - Nvidia DGX1-MaxQ, Xeon E5-2698v4 20C 2.2GHz, NVIDIA Tesla V100 SXM2, Mellanox HDR Infiniband,\\n                 Atos\\n                \\nUniversity of OxfordUnited Kingdom', '42,840', '1,473.0', '3,931.2', '113'], ['457', 'Inspur TS10000, Xeon Silver 4114 10C 2.2GHz, NVIDIA Tesla V100, Infiniband FDR,\\n                 Inspur\\n                \\nInternet Service AChina', '33,000', '1,471.0', '3,000.0', ''], ['458', 'Satori - IBM Power System AC922, IBM POWER9  20C 2.4GHz, Infiniband EDR, NVIDIA Tesla V100 SXM2,\\n                 IBM\\n                \\nMIT/MGHPCC Holyoke, MAUnited States', '23,040', '1,464.0', '1,739.8', '94'], ['459', 'Lenovo HR650x, Xeon Gold 6133 20C 2.5GHz, 25G Ethernet,\\n                 Lenovo\\n                \\nService Provider TChina', '33,600', '1,462.3', '2,688.0', ''], ['460', 'Salomon - SGI ICE X, Xeon E5-2680v3 12C 2.5GHz, Infiniband FDR, Intel Xeon Phi 7120P,\\n                 HPE\\n                \\nIT4Innovations National Supercomputing Center, VSB-Technical University of OstravaCzechia', '76,896', '1,457.7', '2,011.6', '4,806'], ['461', 'ThinkSystem SD530, Xeon Gold 6140 18C 2.3GHz, Infiniband EDR, NVIDIA Tesla V100,\\n                 Lenovo\\n                \\nGovernmentChina', '28,224', '1,443.6', '2,316.0', ''], ['462', 'N1 - ThinkSystem SD530, Xeon Gold 6140 18C 2.3GHz, NVIDIA Tesla V100, Infiniband EDR,\\n                 Lenovo\\n                \\nGovernmentChina', '28,224', '1,443.6', '2,316.0', ''], ['463', 'Huawei G5500, Xeon E5-2680v4 14C 2.4GHz, NVIDIA Tesla P100, 100G Ethernet,\\n                 Huawei Technologies Co., Ltd.\\n                \\nChinese Bank AChina', '26,180', '1,432.9', '2,153.5', '160'], ['464', 'HSystem19 - Sugon TC6000, Xeon Silver 4114 10C 2.2GHz, 25G Ethernet,\\n                 Sugon\\n                \\nInternet CompanyChina', '82,000', '1,432.0', '5,772.8', '1,310'], ['465', 'Lenovo HR650x, Xeon Gold 6133 20C 2.5GHz, 25G Ethernet,\\n                 Lenovo\\n                \\nService Provider TChina', '32,800', '1,432.0', '2,624.0', ''], ['466', 'Blue Joule - BlueGene/Q, Power BQC 16C 1.60GHz, Custom,\\n                 IBM\\n                \\nScience and Technology Facilities Council - Daresbury LaboratoryUnited Kingdom', '131,072', '1,431.1', '1,677.7', '657'], ['467', 'Pre Earth Simulatorv2 - Sugon Si-Cube, Xeon E5-2680v3 12C 2.5GHz, 56Gb 3D-Torus,\\n                 Sugon\\n                \\nInstitute of Atmospheric Physics, Chinese Academy of SciencesChina', '48,000', '1,428.0', '1,920.0', '600'], ['468', 'XJSCSystem - Sugon TC6000, Xeon E5-2680v4 14C 2.4GHz, NVIDIA Tesla P100, Infiniband FDR,\\n                 Sugon\\n                \\nXinjiang SC CenterChina', '30,240', '1,418.0', '2,413.8', '240'], ['469', 'HKVSSystem - Sugon TC6000, Xeon E5-2630v4 10C 2.2GHz, 10G Ethernet,\\n                 Sugon\\n                \\nInternet CompanyChina', '82,800', '1,417.0', '2,914.6', '850'], ['470', 'BtACC - Sugon TC6000, Xeon E5-2680v4 14C 2.4GHz, Infiniband FDR,\\n                 Sugon\\n                \\nBaotou Advanced Computing CenterChina', '52,080', '1,416.0', '1,999.9', '560'], ['471', 'Spirit - SGI ICE X, Xeon E5-2670 8C 2.600GHz, Infiniband FDR,\\n                 HPE\\n                \\nAir Force Research LaboratoryUnited States', '73,584', '1,415.5', '1,530.5', '1,606'], ['472', 'Inspur TS10000, Xeon Gold 6130 16C 2.1GHz, NVIDIA Tesla V100, 10G Ethernet,\\n                 Inspur\\n                \\nInternet Service KChina', '46,080', '1,412.0', '3,907.6', ''], ['473', 'Inspur NF5588M4, Xeon E5-2682v4 16C 2.5GHz, NVIDIA Tesla V100, 25G Ethernet,\\n                 Inspur\\n                \\nInternet Service AChina', '33,600', '1,411.0', '2,890.2', ''], ['474', 'Inspur TS10000 HPC Server, Xeon Gold 6226 12C 2.7GHz, Infiniband HDR, NVIDIA Tesla V100,\\n                 Inspur\\n                \\nCentral China Normal UniversityChina', '25,232', '1,411.0', '2,226.6', '130'], ['475', 'Bsystem - Sugon TC6000, Xeon Gold 5118 12C 2.3GHz, 10G Ethernet,\\n                 Sugon\\n                \\nInternet CompanyChina', '78,720', '1,407.0', '5,793.8', '1,050'], ['476', 'TSystem - Sugon TC6000, Xeon Gold 5118 12C 2.3GHz, 10G Ethernet,\\n                 Sugon\\n                \\nInternet CompanyChina', '78,000', '1,405.0', '5,740.8', '800'], ['477', 'Palmetto2 - HP SL250s /Lenovo NX360M5, Dell C4130, XL190r/R740 , Xeon 6148G/2665 8C 2.4G/2670v2, FDR, K20m/K40/K20/P100/V100,\\n                 HPE\\n                \\nClemson UniversityUnited States', '44,016', '1,405.0', '3,553.2', ''], ['478', 'GSACC - Sugon TC6000, Xeon Gold 6132 14C 2.6GHz, 100Gb 6D-Torus,\\n                 Sugon\\n                \\nGanSu Advanced Computing CenterChina', '28,000', '1,405.0', '2,329.6', '350'], ['479', 'SWARM - C4130/1028GQ, Xeon E5-2640v4 10C 2.4GHz, Intel Omni-Path 100G, NVIDIA Tesla V100 SXM2,\\n                 SuperMicro/DellEMC\\n                \\nWuhan UniversityChina', '32,640', '1,403.0', '3,068.9', ''], ['480', 'Lenovo HR650x, Xeon Gold 6133 20C 2.5GHz, 25G Ethernet,\\n                 Lenovo\\n                \\nService Provider TChina', '32,000', '1,400.9', '2,560.0', ''], ['481', 'MN-1 - SuperServer 4028GR-TR2, Xeon E5-2667v4 8C 3.2GHz, Infiniband FDR, NVIDIA Tesla P100,\\n                 NTT Communications / NTT PC Communications\\n                \\nNTT Communications Tokyo No.4 Data CenterJapan', '59,392', '1,391.0', '4,917.7', ''], ['482', 'INSPUR NF5288M5, Xeon Gold 6148 20C 2.4GHz, NVIDIA Tesla V100, 100G Ethernet,\\n                 Inspur\\n                \\nTelecommunication CompanyChina', '34,000', '1,389.0', '2,953.6', ''], ['483', 'GCloud - Sugon TC6000, Xeon E5-2680v4 14C 2.4GHz, NVIDIA Tesla V100, 10G Ethernet,\\n                 Sugon\\n                \\nMCloud CompanyChina', '30,624', '1,389.0', '2,459.0', '176'], ['484', 'Bsystem - Sugon TC6000, Xeon Gold 6130 16C 2.1GHz, 25G Ethernet,\\n                 Sugon\\n                \\nInternet CompanyChina', '43,200', '1,379.0', '2,903.0', '480'], ['485', 'Sid - bullx DLC 720, Xeon E5-2695v4 18C 2.1GHz, Infiniband FDR,\\n                 Atos\\n                \\nAtosFrance', '49,896', '1,363.5', '1,676.5', '543'], ['486', 'SNL/NNSA CTS-1 Eclipse - Tundra Extreme Scale, Xeon E5-2695v4 18C 2.1GHz, Intel Omni-Path,\\n                 Penguin Computing, Inc.\\n                \\nSandia National LaboratoriesUnited States', '54,648', '1,361.8', '1,836.2', ''], ['487', 'Curie thin nodes - Bullx B510, Xeon E5-2680 8C 2.700GHz, Infiniband QDR,\\n                 Atos\\n                \\nCEA/TGCC-GENCIFrance', '77,184', '1,359.0', '1,667.2', '2,132'], ['488', 'Inspur TS10000, Xeon Gold 6248 20C 2.5GHz, Intel Omni-Path,\\n                 Inspur\\n                \\nShanghai Jiao Tong UniversityChina', '25,920', '1,353.9', '2,073.6', ''], ['489', 'Inspur NF5280M, Xeon E5-2682v4 16C 2.5GHz, NVIDIA Tesla P100, 25G Ethernet,\\n                 Inspur\\n                \\nInternet Service AChina', '31,680', '1,352.0', '2,332.0', ''], ['490', 'JD B1 - Lenovo x3650, Xeon E5-2683 v4  16C 2.1GHz, 10G Ethernet,\\n                 Lenovo\\n                \\nInternet CompanyChina', '82,752', '1,348.6', '2,780.5', ''], ['491', 'Lenovo HR650x, Xeon Gold 6148 20C 2.4GHz, 25G Ethernet,\\n                 Lenovo\\n                \\nService Provider TChina', '32,000', '1,346.8', '2,457.6', ''], ['492', 'INSPUR NF5288M5, Xeon Gold 6130 16C 2.1GHz, NVIDIA Tesla V100, 25G Ethernet,\\n                 Inspur\\n                \\nInternet Service PChina', '40,320', '1,346.0', '3,489.0', ''], ['493', 'SGSystem - Sugon TC6000, Xeon E5-2650v4 12C 2.2GHz, 10G Ethernet,\\n                 Sugon\\n                \\nSPGridChina', '78,720', '1,345.0', '2,770.9', '810'], ['494', 'Earth Bigdata - Sugon TC6000, Xeon Gold 6248 20C 2.5GHz, Infiniband EDR,\\n                 Sugon\\n                \\nComputer Network Information Center, Chinese Academy of ScienceChina', '24,000', '1,344.0', '1,920.0', '230'], ['495', 'Cedar - Dell C4130, Xeon E5-2650v4 12C 2.2GHz, Intel Omni-Path, NVIDIA Tesla P100,\\n                 Dell EMC\\n                \\nSimon Fraser University/Compute CanadaCanada', '35,712', '1,337.0', '2,863.4', '167'], ['496', 'HPE SGI 8600, Xeon Gold 6148 20C 2.4GHz, 4xEDR Infiniband,\\n                 HPE\\n                \\nCentral Research Institute of Electric Power Industry/CRIEPIJapan', '26,400', '1,326.2', '2,027.5', '358'], ['497', 'Taiwania - PRIMERGY CX2550 M4/CX2560 M4/CX2570 M4, Xeon Gold 6148 20C 2.4GHz, Intel Omni-Path,\\n                 Fujitsu\\n                \\nNational Center for High Performance ComputingTaiwan', '27,200', '1,325.2', '2,089.0', '332'], ['498', 'Internet Company T EE2 - Lenovo HR650x, Xeon Gold 6133 20C 2.5GHz, 25G Ethernet,\\n                 Lenovo\\n                \\nService Provider TChina', '30,000', '1,319.5', '2,400.0', ''], ['499', 'Internet Company T EE1 - Lenovo HR650x, Xeon Gold 6133 20C 2.5GHz, 25G Ethernet,\\n                 Lenovo\\n                \\nService Provider TChina', '30,000', '1,319.5', '2,400.0', ''], ['500', 'Internet Company T FF1 - Lenovo HR650x, Xeon Gold 6133 20C 2.5GHz, 25G Ethernet,\\n                 Lenovo\\n                \\nService Provider TChina', '29,920', '1,316.8', '2,393.6', '']]\n"
     ]
    }
   ],
   "source": [
    "data=[]\n",
    "for row in all_rows:\n",
    "    row_list=row.find_all('td')\n",
    "    data_row =[]\n",
    "    for cell in row_list:\n",
    "        data_row.append(cell.text.strip())\n",
    "       # data_row = data_row.replace('\\n','')\n",
    "    data.append(data_row)\n",
    "data=data[1:]    \n",
    "print(data)    "
   ]
  },
  {
   "cell_type": "code",
   "execution_count": 238,
   "metadata": {},
   "outputs": [
    {
     "data": {
      "text/html": [
       "<div>\n",
       "<style scoped>\n",
       "    .dataframe tbody tr th:only-of-type {\n",
       "        vertical-align: middle;\n",
       "    }\n",
       "\n",
       "    .dataframe tbody tr th {\n",
       "        vertical-align: top;\n",
       "    }\n",
       "\n",
       "    .dataframe thead th {\n",
       "        text-align: right;\n",
       "    }\n",
       "</style>\n",
       "<table border=\"1\" class=\"dataframe\">\n",
       "  <thead>\n",
       "    <tr style=\"text-align: right;\">\n",
       "      <th></th>\n",
       "      <th>0</th>\n",
       "      <th>1</th>\n",
       "      <th>2</th>\n",
       "      <th>3</th>\n",
       "      <th>4</th>\n",
       "      <th>5</th>\n",
       "    </tr>\n",
       "  </thead>\n",
       "  <tbody>\n",
       "    <tr>\n",
       "      <th>0</th>\n",
       "      <td>1</td>\n",
       "      <td>Supercomputer Fugaku - Supercomputer Fugaku, A...</td>\n",
       "      <td>7,630,848</td>\n",
       "      <td>442,010.0</td>\n",
       "      <td>537,212.0</td>\n",
       "      <td>29,899</td>\n",
       "    </tr>\n",
       "    <tr>\n",
       "      <th>1</th>\n",
       "      <td>2</td>\n",
       "      <td>Summit - IBM Power System AC922, IBM POWER9 22...</td>\n",
       "      <td>2,414,592</td>\n",
       "      <td>148,600.0</td>\n",
       "      <td>200,794.9</td>\n",
       "      <td>10,096</td>\n",
       "    </tr>\n",
       "    <tr>\n",
       "      <th>2</th>\n",
       "      <td>3</td>\n",
       "      <td>Sierra - IBM Power System AC922, IBM POWER9 22...</td>\n",
       "      <td>1,572,480</td>\n",
       "      <td>94,640.0</td>\n",
       "      <td>125,712.0</td>\n",
       "      <td>7,438</td>\n",
       "    </tr>\n",
       "    <tr>\n",
       "      <th>3</th>\n",
       "      <td>4</td>\n",
       "      <td>Sunway TaihuLight - Sunway MPP, Sunway SW26010...</td>\n",
       "      <td>10,649,600</td>\n",
       "      <td>93,014.6</td>\n",
       "      <td>125,435.9</td>\n",
       "      <td>15,371</td>\n",
       "    </tr>\n",
       "    <tr>\n",
       "      <th>4</th>\n",
       "      <td>5</td>\n",
       "      <td>Selene - NVIDIA DGX A100, AMD EPYC 7742 64C 2....</td>\n",
       "      <td>555,520</td>\n",
       "      <td>63,460.0</td>\n",
       "      <td>79,215.0</td>\n",
       "      <td>2,646</td>\n",
       "    </tr>\n",
       "  </tbody>\n",
       "</table>\n",
       "</div>"
      ],
      "text/plain": [
       "   0                                                  1           2  \\\n",
       "0  1  Supercomputer Fugaku - Supercomputer Fugaku, A...   7,630,848   \n",
       "1  2  Summit - IBM Power System AC922, IBM POWER9 22...   2,414,592   \n",
       "2  3  Sierra - IBM Power System AC922, IBM POWER9 22...   1,572,480   \n",
       "3  4  Sunway TaihuLight - Sunway MPP, Sunway SW26010...  10,649,600   \n",
       "4  5  Selene - NVIDIA DGX A100, AMD EPYC 7742 64C 2....     555,520   \n",
       "\n",
       "           3          4       5  \n",
       "0  442,010.0  537,212.0  29,899  \n",
       "1  148,600.0  200,794.9  10,096  \n",
       "2   94,640.0  125,712.0   7,438  \n",
       "3   93,014.6  125,435.9  15,371  \n",
       "4   63,460.0   79,215.0   2,646  "
      ]
     },
     "execution_count": 238,
     "metadata": {},
     "output_type": "execute_result"
    }
   ],
   "source": [
    "df=pd.DataFrame(data)\n",
    "df.head()"
   ]
  },
  {
   "cell_type": "code",
   "execution_count": 239,
   "metadata": {},
   "outputs": [
    {
     "data": {
      "text/plain": [
       "[<th>Rank</th>,\n",
       " <th>System</th>,\n",
       " <th>Cores</th>,\n",
       " <th>Rmax (TFlop/s)</th>,\n",
       " <th>Rpeak (TFlop/s)</th>,\n",
       " <th>Power (kW)</th>]"
      ]
     },
     "execution_count": 239,
     "metadata": {},
     "output_type": "execute_result"
    }
   ],
   "source": [
    "column_headers=soup.find_all('th')\n",
    "column_headers"
   ]
  },
  {
   "cell_type": "code",
   "execution_count": 240,
   "metadata": {},
   "outputs": [
    {
     "name": "stdout",
     "output_type": "stream",
     "text": [
      "['Rank', 'System', 'Cores', 'Rmax (TFlop/s)', 'Rpeak (TFlop/s)', 'Power (kW)']\n"
     ]
    }
   ],
   "source": [
    "header_list=[]\n",
    "for header in column_headers:\n",
    "    header_list.append(header.text)\n",
    "print(header_list)    "
   ]
  },
  {
   "cell_type": "code",
   "execution_count": 242,
   "metadata": {},
   "outputs": [
    {
     "data": {
      "text/html": [
       "<div>\n",
       "<style scoped>\n",
       "    .dataframe tbody tr th:only-of-type {\n",
       "        vertical-align: middle;\n",
       "    }\n",
       "\n",
       "    .dataframe tbody tr th {\n",
       "        vertical-align: top;\n",
       "    }\n",
       "\n",
       "    .dataframe thead th {\n",
       "        text-align: right;\n",
       "    }\n",
       "</style>\n",
       "<table border=\"1\" class=\"dataframe\">\n",
       "  <thead>\n",
       "    <tr style=\"text-align: right;\">\n",
       "      <th></th>\n",
       "      <th>Rank</th>\n",
       "      <th>System</th>\n",
       "      <th>Cores</th>\n",
       "      <th>Rmax (TFlop/s)</th>\n",
       "      <th>Rpeak (TFlop/s)</th>\n",
       "      <th>Power (kW)</th>\n",
       "    </tr>\n",
       "  </thead>\n",
       "  <tbody>\n",
       "    <tr>\n",
       "      <th>490</th>\n",
       "      <td>491</td>\n",
       "      <td>Lenovo HR650x, Xeon Gold 6148 20C 2.4GHz, 25G ...</td>\n",
       "      <td>32,000</td>\n",
       "      <td>1,346.8</td>\n",
       "      <td>2,457.6</td>\n",
       "      <td></td>\n",
       "    </tr>\n",
       "    <tr>\n",
       "      <th>491</th>\n",
       "      <td>492</td>\n",
       "      <td>INSPUR NF5288M5, Xeon Gold 6130 16C 2.1GHz, NV...</td>\n",
       "      <td>40,320</td>\n",
       "      <td>1,346.0</td>\n",
       "      <td>3,489.0</td>\n",
       "      <td></td>\n",
       "    </tr>\n",
       "    <tr>\n",
       "      <th>492</th>\n",
       "      <td>493</td>\n",
       "      <td>SGSystem - Sugon TC6000, Xeon E5-2650v4 12C 2....</td>\n",
       "      <td>78,720</td>\n",
       "      <td>1,345.0</td>\n",
       "      <td>2,770.9</td>\n",
       "      <td>810</td>\n",
       "    </tr>\n",
       "    <tr>\n",
       "      <th>493</th>\n",
       "      <td>494</td>\n",
       "      <td>Earth Bigdata - Sugon TC6000, Xeon Gold 6248 2...</td>\n",
       "      <td>24,000</td>\n",
       "      <td>1,344.0</td>\n",
       "      <td>1,920.0</td>\n",
       "      <td>230</td>\n",
       "    </tr>\n",
       "    <tr>\n",
       "      <th>494</th>\n",
       "      <td>495</td>\n",
       "      <td>Cedar - Dell C4130, Xeon E5-2650v4 12C 2.2GHz,...</td>\n",
       "      <td>35,712</td>\n",
       "      <td>1,337.0</td>\n",
       "      <td>2,863.4</td>\n",
       "      <td>167</td>\n",
       "    </tr>\n",
       "    <tr>\n",
       "      <th>495</th>\n",
       "      <td>496</td>\n",
       "      <td>HPE SGI 8600, Xeon Gold 6148 20C 2.4GHz, 4xEDR...</td>\n",
       "      <td>26,400</td>\n",
       "      <td>1,326.2</td>\n",
       "      <td>2,027.5</td>\n",
       "      <td>358</td>\n",
       "    </tr>\n",
       "    <tr>\n",
       "      <th>496</th>\n",
       "      <td>497</td>\n",
       "      <td>Taiwania - PRIMERGY CX2550 M4/CX2560 M4/CX2570...</td>\n",
       "      <td>27,200</td>\n",
       "      <td>1,325.2</td>\n",
       "      <td>2,089.0</td>\n",
       "      <td>332</td>\n",
       "    </tr>\n",
       "    <tr>\n",
       "      <th>497</th>\n",
       "      <td>498</td>\n",
       "      <td>Internet Company T EE2 - Lenovo HR650x, Xeon G...</td>\n",
       "      <td>30,000</td>\n",
       "      <td>1,319.5</td>\n",
       "      <td>2,400.0</td>\n",
       "      <td></td>\n",
       "    </tr>\n",
       "    <tr>\n",
       "      <th>498</th>\n",
       "      <td>499</td>\n",
       "      <td>Internet Company T EE1 - Lenovo HR650x, Xeon G...</td>\n",
       "      <td>30,000</td>\n",
       "      <td>1,319.5</td>\n",
       "      <td>2,400.0</td>\n",
       "      <td></td>\n",
       "    </tr>\n",
       "    <tr>\n",
       "      <th>499</th>\n",
       "      <td>500</td>\n",
       "      <td>Internet Company T FF1 - Lenovo HR650x, Xeon G...</td>\n",
       "      <td>29,920</td>\n",
       "      <td>1,316.8</td>\n",
       "      <td>2,393.6</td>\n",
       "      <td></td>\n",
       "    </tr>\n",
       "  </tbody>\n",
       "</table>\n",
       "</div>"
      ],
      "text/plain": [
       "    Rank                                             System   Cores  \\\n",
       "490  491  Lenovo HR650x, Xeon Gold 6148 20C 2.4GHz, 25G ...  32,000   \n",
       "491  492  INSPUR NF5288M5, Xeon Gold 6130 16C 2.1GHz, NV...  40,320   \n",
       "492  493  SGSystem - Sugon TC6000, Xeon E5-2650v4 12C 2....  78,720   \n",
       "493  494  Earth Bigdata - Sugon TC6000, Xeon Gold 6248 2...  24,000   \n",
       "494  495  Cedar - Dell C4130, Xeon E5-2650v4 12C 2.2GHz,...  35,712   \n",
       "495  496  HPE SGI 8600, Xeon Gold 6148 20C 2.4GHz, 4xEDR...  26,400   \n",
       "496  497  Taiwania - PRIMERGY CX2550 M4/CX2560 M4/CX2570...  27,200   \n",
       "497  498  Internet Company T EE2 - Lenovo HR650x, Xeon G...  30,000   \n",
       "498  499  Internet Company T EE1 - Lenovo HR650x, Xeon G...  30,000   \n",
       "499  500  Internet Company T FF1 - Lenovo HR650x, Xeon G...  29,920   \n",
       "\n",
       "    Rmax (TFlop/s) Rpeak (TFlop/s) Power (kW)  \n",
       "490        1,346.8         2,457.6             \n",
       "491        1,346.0         3,489.0             \n",
       "492        1,345.0         2,770.9        810  \n",
       "493        1,344.0         1,920.0        230  \n",
       "494        1,337.0         2,863.4        167  \n",
       "495        1,326.2         2,027.5        358  \n",
       "496        1,325.2         2,089.0        332  \n",
       "497        1,319.5         2,400.0             \n",
       "498        1,319.5         2,400.0             \n",
       "499        1,316.8         2,393.6             "
      ]
     },
     "execution_count": 242,
     "metadata": {},
     "output_type": "execute_result"
    }
   ],
   "source": [
    "df.columns=header_list\n",
    "df.tail(10)"
   ]
  },
  {
   "cell_type": "code",
   "execution_count": 9,
   "metadata": {},
   "outputs": [
    {
     "name": "stdout",
     "output_type": "stream",
     "text": [
      "<class 'pandas.core.frame.DataFrame'>\n",
      "RangeIndex: 500 entries, 0 to 499\n",
      "Data columns (total 6 columns):\n",
      " #   Column           Non-Null Count  Dtype \n",
      "---  ------           --------------  ----- \n",
      " 0   Rank             500 non-null    object\n",
      " 1   System           500 non-null    object\n",
      " 2   Cores            500 non-null    object\n",
      " 3   Rmax (TFlop/s)   500 non-null    object\n",
      " 4   Rpeak (TFlop/s)  500 non-null    object\n",
      " 5   Power (kW)       500 non-null    object\n",
      "dtypes: object(6)\n",
      "memory usage: 23.6+ KB\n"
     ]
    }
   ],
   "source": [
    "df.info()"
   ]
  },
  {
   "cell_type": "code",
   "execution_count": 10,
   "metadata": {},
   "outputs": [
    {
     "data": {
      "text/plain": [
       "'Sunway TaihuLight - Sunway MPP, Sunway SW26010 260C 1.45GHz, Sunway,\\n                 NRCPC\\n                \\nNational Supercomputing Center in WuxiChina'"
      ]
     },
     "execution_count": 10,
     "metadata": {},
     "output_type": "execute_result"
    }
   ],
   "source": [
    "df.iloc[3,1]"
   ]
  },
  {
   "cell_type": "code",
   "execution_count": 11,
   "metadata": {},
   "outputs": [
    {
     "data": {
      "text/html": [
       "<div>\n",
       "<style scoped>\n",
       "    .dataframe tbody tr th:only-of-type {\n",
       "        vertical-align: middle;\n",
       "    }\n",
       "\n",
       "    .dataframe tbody tr th {\n",
       "        vertical-align: top;\n",
       "    }\n",
       "\n",
       "    .dataframe thead th {\n",
       "        text-align: right;\n",
       "    }\n",
       "</style>\n",
       "<table border=\"1\" class=\"dataframe\">\n",
       "  <thead>\n",
       "    <tr style=\"text-align: right;\">\n",
       "      <th></th>\n",
       "      <th>Rank</th>\n",
       "      <th>System</th>\n",
       "      <th>Cores</th>\n",
       "      <th>Rmax (TFlop/s)</th>\n",
       "      <th>Rpeak (TFlop/s)</th>\n",
       "      <th>Power (kW)</th>\n",
       "    </tr>\n",
       "  </thead>\n",
       "  <tbody>\n",
       "    <tr>\n",
       "      <th>0</th>\n",
       "      <td>1</td>\n",
       "      <td>Supercomputer Fugaku - Supercomputer Fugaku, A...</td>\n",
       "      <td>7,630,848</td>\n",
       "      <td>442,010.0</td>\n",
       "      <td>537,212.0</td>\n",
       "      <td>29,899</td>\n",
       "    </tr>\n",
       "    <tr>\n",
       "      <th>1</th>\n",
       "      <td>2</td>\n",
       "      <td>Summit - IBM Power System AC922, IBM POWER9 22...</td>\n",
       "      <td>2,414,592</td>\n",
       "      <td>148,600.0</td>\n",
       "      <td>200,794.9</td>\n",
       "      <td>10,096</td>\n",
       "    </tr>\n",
       "    <tr>\n",
       "      <th>2</th>\n",
       "      <td>3</td>\n",
       "      <td>Sierra - IBM Power System AC922, IBM POWER9 22...</td>\n",
       "      <td>1,572,480</td>\n",
       "      <td>94,640.0</td>\n",
       "      <td>125,712.0</td>\n",
       "      <td>7,438</td>\n",
       "    </tr>\n",
       "    <tr>\n",
       "      <th>3</th>\n",
       "      <td>4</td>\n",
       "      <td>Sunway TaihuLight - Sunway MPP, Sunway SW26010...</td>\n",
       "      <td>10,649,600</td>\n",
       "      <td>93,014.6</td>\n",
       "      <td>125,435.9</td>\n",
       "      <td>15,371</td>\n",
       "    </tr>\n",
       "    <tr>\n",
       "      <th>4</th>\n",
       "      <td>5</td>\n",
       "      <td>Selene - NVIDIA DGX A100, AMD EPYC 7742 64C 2....</td>\n",
       "      <td>555,520</td>\n",
       "      <td>63,460.0</td>\n",
       "      <td>79,215.0</td>\n",
       "      <td>2,646</td>\n",
       "    </tr>\n",
       "  </tbody>\n",
       "</table>\n",
       "</div>"
      ],
      "text/plain": [
       "  Rank                                             System       Cores  \\\n",
       "0    1  Supercomputer Fugaku - Supercomputer Fugaku, A...   7,630,848   \n",
       "1    2  Summit - IBM Power System AC922, IBM POWER9 22...   2,414,592   \n",
       "2    3  Sierra - IBM Power System AC922, IBM POWER9 22...   1,572,480   \n",
       "3    4  Sunway TaihuLight - Sunway MPP, Sunway SW26010...  10,649,600   \n",
       "4    5  Selene - NVIDIA DGX A100, AMD EPYC 7742 64C 2....     555,520   \n",
       "\n",
       "  Rmax (TFlop/s) Rpeak (TFlop/s) Power (kW)  \n",
       "0      442,010.0       537,212.0     29,899  \n",
       "1      148,600.0       200,794.9     10,096  \n",
       "2       94,640.0       125,712.0      7,438  \n",
       "3       93,014.6       125,435.9     15,371  \n",
       "4       63,460.0        79,215.0      2,646  "
      ]
     },
     "execution_count": 11,
     "metadata": {},
     "output_type": "execute_result"
    }
   ],
   "source": [
    "df = df.replace('\\n','', regex=True)\n",
    "df.head()"
   ]
  },
  {
   "cell_type": "code",
   "execution_count": 12,
   "metadata": {},
   "outputs": [
    {
     "name": "stdout",
     "output_type": "stream",
     "text": [
      "<class 'pandas.core.frame.DataFrame'>\n",
      "RangeIndex: 500 entries, 0 to 499\n",
      "Data columns (total 6 columns):\n",
      " #   Column           Non-Null Count  Dtype \n",
      "---  ------           --------------  ----- \n",
      " 0   Rank             500 non-null    object\n",
      " 1   System           500 non-null    object\n",
      " 2   Cores            500 non-null    object\n",
      " 3   Rmax (TFlop/s)   500 non-null    object\n",
      " 4   Rpeak (TFlop/s)  500 non-null    object\n",
      " 5   Power (kW)       500 non-null    object\n",
      "dtypes: object(6)\n",
      "memory usage: 23.6+ KB\n"
     ]
    }
   ],
   "source": [
    "df.iloc[3,1]\n",
    "df.info()"
   ]
  },
  {
   "cell_type": "code",
   "execution_count": 13,
   "metadata": {},
   "outputs": [
    {
     "data": {
      "text/html": [
       "<div>\n",
       "<style scoped>\n",
       "    .dataframe tbody tr th:only-of-type {\n",
       "        vertical-align: middle;\n",
       "    }\n",
       "\n",
       "    .dataframe tbody tr th {\n",
       "        vertical-align: top;\n",
       "    }\n",
       "\n",
       "    .dataframe thead th {\n",
       "        text-align: right;\n",
       "    }\n",
       "</style>\n",
       "<table border=\"1\" class=\"dataframe\">\n",
       "  <thead>\n",
       "    <tr style=\"text-align: right;\">\n",
       "      <th></th>\n",
       "      <th>Rank</th>\n",
       "      <th>System</th>\n",
       "      <th>Cores</th>\n",
       "      <th>Rmax (TFlop/s)</th>\n",
       "      <th>Rpeak (TFlop/s)</th>\n",
       "      <th>Power (kW)</th>\n",
       "    </tr>\n",
       "  </thead>\n",
       "  <tbody>\n",
       "    <tr>\n",
       "      <th>0</th>\n",
       "      <td>1</td>\n",
       "      <td>Supercomputer Fugaku - Supercomputer Fugaku, A...</td>\n",
       "      <td>7,630,848</td>\n",
       "      <td>442,010.0</td>\n",
       "      <td>537,212.0</td>\n",
       "      <td>29,899</td>\n",
       "    </tr>\n",
       "    <tr>\n",
       "      <th>1</th>\n",
       "      <td>2</td>\n",
       "      <td>Summit - IBM Power System AC922, IBM POWER9 22...</td>\n",
       "      <td>2,414,592</td>\n",
       "      <td>148,600.0</td>\n",
       "      <td>200,794.9</td>\n",
       "      <td>10,096</td>\n",
       "    </tr>\n",
       "    <tr>\n",
       "      <th>2</th>\n",
       "      <td>3</td>\n",
       "      <td>Sierra - IBM Power System AC922, IBM POWER9 22...</td>\n",
       "      <td>1,572,480</td>\n",
       "      <td>94,640.0</td>\n",
       "      <td>125,712.0</td>\n",
       "      <td>7,438</td>\n",
       "    </tr>\n",
       "    <tr>\n",
       "      <th>3</th>\n",
       "      <td>4</td>\n",
       "      <td>Sunway TaihuLight - Sunway MPP, Sunway SW26010...</td>\n",
       "      <td>10,649,600</td>\n",
       "      <td>93,014.6</td>\n",
       "      <td>125,435.9</td>\n",
       "      <td>15,371</td>\n",
       "    </tr>\n",
       "    <tr>\n",
       "      <th>4</th>\n",
       "      <td>5</td>\n",
       "      <td>Selene - NVIDIA DGX A100, AMD EPYC 7742 64C 2....</td>\n",
       "      <td>555,520</td>\n",
       "      <td>63,460.0</td>\n",
       "      <td>79,215.0</td>\n",
       "      <td>2,646</td>\n",
       "    </tr>\n",
       "  </tbody>\n",
       "</table>\n",
       "</div>"
      ],
      "text/plain": [
       "  Rank                                             System       Cores  \\\n",
       "0    1  Supercomputer Fugaku - Supercomputer Fugaku, A...   7,630,848   \n",
       "1    2  Summit - IBM Power System AC922, IBM POWER9 22...   2,414,592   \n",
       "2    3  Sierra - IBM Power System AC922, IBM POWER9 22...   1,572,480   \n",
       "3    4  Sunway TaihuLight - Sunway MPP, Sunway SW26010...  10,649,600   \n",
       "4    5  Selene - NVIDIA DGX A100, AMD EPYC 7742 64C 2....     555,520   \n",
       "\n",
       "  Rmax (TFlop/s) Rpeak (TFlop/s) Power (kW)  \n",
       "0      442,010.0       537,212.0     29,899  \n",
       "1      148,600.0       200,794.9     10,096  \n",
       "2       94,640.0       125,712.0      7,438  \n",
       "3       93,014.6       125,435.9     15,371  \n",
       "4       63,460.0        79,215.0      2,646  "
      ]
     },
     "execution_count": 13,
     "metadata": {},
     "output_type": "execute_result"
    }
   ],
   "source": [
    "df = df.replace('                ','', regex=True)\n",
    "df.head()"
   ]
  },
  {
   "cell_type": "code",
   "execution_count": 14,
   "metadata": {},
   "outputs": [
    {
     "data": {
      "text/plain": [
       "'Sunway TaihuLight - Sunway MPP, Sunway SW26010 260C 1.45GHz, Sunway, NRCPCNational Supercomputing Center in WuxiChina'"
      ]
     },
     "execution_count": 14,
     "metadata": {},
     "output_type": "execute_result"
    }
   ],
   "source": [
    "df.iloc[3,1]"
   ]
  },
  {
   "cell_type": "code",
   "execution_count": 245,
   "metadata": {},
   "outputs": [
    {
     "name": "stdout",
     "output_type": "stream",
     "text": [
      "   Rank                                             System      Cores  \\\n",
      "1     2  Summit - IBM Power System AC922, IBM POWER9 22...  2,414,592   \n",
      "2     3  Sierra - IBM Power System AC922, IBM POWER9 22...  1,572,480   \n",
      "4     5  Selene - NVIDIA DGX A100, AMD EPYC 7742 64C 2....    555,520   \n",
      "8     9  Frontera - Dell C6420, Xeon Platinum 8280 28C ...    448,448   \n",
      "12   13  Trinity - Cray XC40, Xeon E5-2698v3 16C 2.3GHz...    979,072   \n",
      "\n",
      "   Rmax (TFlop/s) Rpeak (TFlop/s) Power (kW)  \n",
      "1       148,600.0       200,794.9     10,096  \n",
      "2        94,640.0       125,712.0      7,438  \n",
      "4        63,460.0        79,215.0      2,646  \n",
      "8        23,516.4        38,745.9             \n",
      "12       20,158.7        41,461.2      7,578  \n",
      "    Rank                                             System       Cores  \\\n",
      "3      4  Sunway TaihuLight - Sunway MPP, Sunway SW26010...  10,649,600   \n",
      "5      6  Tianhe-2A - TH-IVB-FEP Cluster, Intel Xeon E5-...   4,981,760   \n",
      "65    66  Advanced Computing System(PreE) - Sugon TC8600...     163,840   \n",
      "102  103  Lenovo HR650x, Xeon Gold 6133 20C 2.5GHz, 25G ...      76,000   \n",
      "109  110  Lenovo HR650x, Xeon Gold 6133 20C 2.5GHz, 25G ...      73,600   \n",
      "\n",
      "    Rmax (TFlop/s) Rpeak (TFlop/s) Power (kW)  \n",
      "3         93,014.6       125,435.9     15,371  \n",
      "5         61,444.5       100,678.7     18,482  \n",
      "65         4,325.0         6,134.2        380  \n",
      "102        3,088.6         6,080.0             \n",
      "109        2,994.0         5,888.0             \n"
     ]
    },
    {
     "data": {
      "text/html": [
       "<div>\n",
       "<style scoped>\n",
       "    .dataframe tbody tr th:only-of-type {\n",
       "        vertical-align: middle;\n",
       "    }\n",
       "\n",
       "    .dataframe tbody tr th {\n",
       "        vertical-align: top;\n",
       "    }\n",
       "\n",
       "    .dataframe thead th {\n",
       "        text-align: right;\n",
       "    }\n",
       "</style>\n",
       "<table border=\"1\" class=\"dataframe\">\n",
       "  <thead>\n",
       "    <tr style=\"text-align: right;\">\n",
       "      <th></th>\n",
       "      <th>Rank</th>\n",
       "      <th>System</th>\n",
       "      <th>Cores</th>\n",
       "      <th>Rmax (TFlop/s)</th>\n",
       "      <th>Rpeak (TFlop/s)</th>\n",
       "      <th>Power (kW)</th>\n",
       "    </tr>\n",
       "  </thead>\n",
       "  <tbody>\n",
       "    <tr>\n",
       "      <th>1</th>\n",
       "      <td>2</td>\n",
       "      <td>Summit - IBM Power System AC922, IBM POWER9 22...</td>\n",
       "      <td>2,414,592</td>\n",
       "      <td>148,600.0</td>\n",
       "      <td>200,794.9</td>\n",
       "      <td>10,096</td>\n",
       "    </tr>\n",
       "    <tr>\n",
       "      <th>2</th>\n",
       "      <td>3</td>\n",
       "      <td>Sierra - IBM Power System AC922, IBM POWER9 22...</td>\n",
       "      <td>1,572,480</td>\n",
       "      <td>94,640.0</td>\n",
       "      <td>125,712.0</td>\n",
       "      <td>7,438</td>\n",
       "    </tr>\n",
       "    <tr>\n",
       "      <th>4</th>\n",
       "      <td>5</td>\n",
       "      <td>Selene - NVIDIA DGX A100, AMD EPYC 7742 64C 2....</td>\n",
       "      <td>555,520</td>\n",
       "      <td>63,460.0</td>\n",
       "      <td>79,215.0</td>\n",
       "      <td>2,646</td>\n",
       "    </tr>\n",
       "    <tr>\n",
       "      <th>8</th>\n",
       "      <td>9</td>\n",
       "      <td>Frontera - Dell C6420, Xeon Platinum 8280 28C ...</td>\n",
       "      <td>448,448</td>\n",
       "      <td>23,516.4</td>\n",
       "      <td>38,745.9</td>\n",
       "      <td></td>\n",
       "    </tr>\n",
       "    <tr>\n",
       "      <th>12</th>\n",
       "      <td>13</td>\n",
       "      <td>Trinity - Cray XC40, Xeon E5-2698v3 16C 2.3GHz...</td>\n",
       "      <td>979,072</td>\n",
       "      <td>20,158.7</td>\n",
       "      <td>41,461.2</td>\n",
       "      <td>7,578</td>\n",
       "    </tr>\n",
       "  </tbody>\n",
       "</table>\n",
       "</div>"
      ],
      "text/plain": [
       "   Rank                                             System      Cores  \\\n",
       "1     2  Summit - IBM Power System AC922, IBM POWER9 22...  2,414,592   \n",
       "2     3  Sierra - IBM Power System AC922, IBM POWER9 22...  1,572,480   \n",
       "4     5  Selene - NVIDIA DGX A100, AMD EPYC 7742 64C 2....    555,520   \n",
       "8     9  Frontera - Dell C6420, Xeon Platinum 8280 28C ...    448,448   \n",
       "12   13  Trinity - Cray XC40, Xeon E5-2698v3 16C 2.3GHz...    979,072   \n",
       "\n",
       "   Rmax (TFlop/s) Rpeak (TFlop/s) Power (kW)  \n",
       "1       148,600.0       200,794.9     10,096  \n",
       "2        94,640.0       125,712.0      7,438  \n",
       "4        63,460.0        79,215.0      2,646  \n",
       "8        23,516.4        38,745.9             \n",
       "12       20,158.7        41,461.2      7,578  "
      ]
     },
     "execution_count": 245,
     "metadata": {},
     "output_type": "execute_result"
    }
   ],
   "source": [
    "\n",
    "country=df[\"System\"].str.find('United States')\n",
    "dfusa=df[country[0:]!= -1]\n",
    "print(dfusa.head())\n",
    "\n",
    "\n",
    "country=df[\"System\"].str.find('China')\n",
    "dfchina=df[country[0:]!= -1]\n",
    "print(dfchina.head())\n",
    "\n",
    "\n",
    "country=df[\"System\"].str.find('Japan')\n",
    "dfjapan=df[country[0:]!= -1]\n",
    "dfusa.head()"
   ]
  },
  {
   "cell_type": "code",
   "execution_count": 19,
   "metadata": {},
   "outputs": [],
   "source": [
    "dfjapan.to_csv('Japan.csv')\n",
    "dfchina.to_csv('China.csv')\n",
    "dfusa.to_csv('USA.csv')"
   ]
  },
  {
   "cell_type": "code",
   "execution_count": 181,
   "metadata": {},
   "outputs": [
    {
     "data": {
      "text/html": [
       "<div>\n",
       "<style scoped>\n",
       "    .dataframe tbody tr th:only-of-type {\n",
       "        vertical-align: middle;\n",
       "    }\n",
       "\n",
       "    .dataframe tbody tr th {\n",
       "        vertical-align: top;\n",
       "    }\n",
       "\n",
       "    .dataframe thead th {\n",
       "        text-align: right;\n",
       "    }\n",
       "</style>\n",
       "<table border=\"1\" class=\"dataframe\">\n",
       "  <thead>\n",
       "    <tr style=\"text-align: right;\">\n",
       "      <th></th>\n",
       "      <th>Rank</th>\n",
       "      <th>System</th>\n",
       "      <th>Cores</th>\n",
       "      <th>Rmax (TFlop/s)</th>\n",
       "      <th>Rpeak (TFlop/s)</th>\n",
       "      <th>Power (kW)</th>\n",
       "    </tr>\n",
       "  </thead>\n",
       "  <tbody>\n",
       "    <tr>\n",
       "      <th>0</th>\n",
       "      <td>2</td>\n",
       "      <td>Summit - IBM Power System AC922, IBM POWER9 22...</td>\n",
       "      <td>2414592</td>\n",
       "      <td>148600</td>\n",
       "      <td>200795</td>\n",
       "      <td>10096.0</td>\n",
       "    </tr>\n",
       "    <tr>\n",
       "      <th>1</th>\n",
       "      <td>3</td>\n",
       "      <td>Sierra - IBM Power System AC922, IBM POWER9 22...</td>\n",
       "      <td>1572480</td>\n",
       "      <td>94640</td>\n",
       "      <td>125712</td>\n",
       "      <td>7438.0</td>\n",
       "    </tr>\n",
       "    <tr>\n",
       "      <th>2</th>\n",
       "      <td>5</td>\n",
       "      <td>Selene - NVIDIA DGX A100, AMD EPYC 7742 64C 2....</td>\n",
       "      <td>555520</td>\n",
       "      <td>63460</td>\n",
       "      <td>79215</td>\n",
       "      <td>2646.0</td>\n",
       "    </tr>\n",
       "    <tr>\n",
       "      <th>3</th>\n",
       "      <td>9</td>\n",
       "      <td>Frontera - Dell C6420, Xeon Platinum 8280 28C ...</td>\n",
       "      <td>448448</td>\n",
       "      <td>23516</td>\n",
       "      <td>38746</td>\n",
       "      <td>NaN</td>\n",
       "    </tr>\n",
       "    <tr>\n",
       "      <th>4</th>\n",
       "      <td>13</td>\n",
       "      <td>Trinity - Cray XC40, Xeon E5-2698v3 16C 2.3GHz...</td>\n",
       "      <td>979072</td>\n",
       "      <td>20159</td>\n",
       "      <td>41461</td>\n",
       "      <td>7578.0</td>\n",
       "    </tr>\n",
       "  </tbody>\n",
       "</table>\n",
       "</div>"
      ],
      "text/plain": [
       "   Rank                                             System    Cores  \\\n",
       "0     2  Summit - IBM Power System AC922, IBM POWER9 22...  2414592   \n",
       "1     3  Sierra - IBM Power System AC922, IBM POWER9 22...  1572480   \n",
       "2     5  Selene - NVIDIA DGX A100, AMD EPYC 7742 64C 2....   555520   \n",
       "3     9  Frontera - Dell C6420, Xeon Platinum 8280 28C ...   448448   \n",
       "4    13  Trinity - Cray XC40, Xeon E5-2698v3 16C 2.3GHz...   979072   \n",
       "\n",
       "   Rmax (TFlop/s)  Rpeak (TFlop/s)  Power (kW)  \n",
       "0          148600           200795     10096.0  \n",
       "1           94640           125712      7438.0  \n",
       "2           63460            79215      2646.0  \n",
       "3           23516            38746         NaN  \n",
       "4           20159            41461      7578.0  "
      ]
     },
     "execution_count": 181,
     "metadata": {},
     "output_type": "execute_result"
    }
   ],
   "source": [
    "usa=pd.read_csv('D:/Spring_2021/AIT 580_Prof.Harry Foxwell/9. week 9_web scraping/USA.csv')\n",
    "usa.head()"
   ]
  },
  {
   "cell_type": "code",
   "execution_count": 182,
   "metadata": {},
   "outputs": [
    {
     "data": {
      "text/html": [
       "<div>\n",
       "<style scoped>\n",
       "    .dataframe tbody tr th:only-of-type {\n",
       "        vertical-align: middle;\n",
       "    }\n",
       "\n",
       "    .dataframe tbody tr th {\n",
       "        vertical-align: top;\n",
       "    }\n",
       "\n",
       "    .dataframe thead th {\n",
       "        text-align: right;\n",
       "    }\n",
       "</style>\n",
       "<table border=\"1\" class=\"dataframe\">\n",
       "  <thead>\n",
       "    <tr style=\"text-align: right;\">\n",
       "      <th></th>\n",
       "      <th>Rank</th>\n",
       "      <th>System</th>\n",
       "      <th>Cores</th>\n",
       "      <th>Rmax (TFlop/s)</th>\n",
       "      <th>Rpeak (TFlop/s)</th>\n",
       "      <th>Power (kW)</th>\n",
       "    </tr>\n",
       "  </thead>\n",
       "  <tbody>\n",
       "    <tr>\n",
       "      <th>0</th>\n",
       "      <td>2</td>\n",
       "      <td>Summit - IBM Power System AC922, IBM POWER9 22...</td>\n",
       "      <td>2414592</td>\n",
       "      <td>148600</td>\n",
       "      <td>200795</td>\n",
       "      <td>10096.0</td>\n",
       "    </tr>\n",
       "    <tr>\n",
       "      <th>1</th>\n",
       "      <td>3</td>\n",
       "      <td>Sierra - IBM Power System AC922, IBM POWER9 22...</td>\n",
       "      <td>1572480</td>\n",
       "      <td>94640</td>\n",
       "      <td>125712</td>\n",
       "      <td>7438.0</td>\n",
       "    </tr>\n",
       "    <tr>\n",
       "      <th>2</th>\n",
       "      <td>5</td>\n",
       "      <td>Selene - NVIDIA DGX A100, AMD EPYC 7742 64C 2....</td>\n",
       "      <td>555520</td>\n",
       "      <td>63460</td>\n",
       "      <td>79215</td>\n",
       "      <td>2646.0</td>\n",
       "    </tr>\n",
       "    <tr>\n",
       "      <th>3</th>\n",
       "      <td>9</td>\n",
       "      <td>Frontera - Dell C6420, Xeon Platinum 8280 28C ...</td>\n",
       "      <td>448448</td>\n",
       "      <td>23516</td>\n",
       "      <td>38746</td>\n",
       "      <td>NaN</td>\n",
       "    </tr>\n",
       "    <tr>\n",
       "      <th>4</th>\n",
       "      <td>13</td>\n",
       "      <td>Trinity - Cray XC40, Xeon E5-2698v3 16C 2.3GHz...</td>\n",
       "      <td>979072</td>\n",
       "      <td>20159</td>\n",
       "      <td>41461</td>\n",
       "      <td>7578.0</td>\n",
       "    </tr>\n",
       "  </tbody>\n",
       "</table>\n",
       "</div>"
      ],
      "text/plain": [
       "   Rank                                             System    Cores  \\\n",
       "0     2  Summit - IBM Power System AC922, IBM POWER9 22...  2414592   \n",
       "1     3  Sierra - IBM Power System AC922, IBM POWER9 22...  1572480   \n",
       "2     5  Selene - NVIDIA DGX A100, AMD EPYC 7742 64C 2....   555520   \n",
       "3     9  Frontera - Dell C6420, Xeon Platinum 8280 28C ...   448448   \n",
       "4    13  Trinity - Cray XC40, Xeon E5-2698v3 16C 2.3GHz...   979072   \n",
       "\n",
       "   Rmax (TFlop/s)  Rpeak (TFlop/s)  Power (kW)  \n",
       "0          148600           200795     10096.0  \n",
       "1           94640           125712      7438.0  \n",
       "2           63460            79215      2646.0  \n",
       "3           23516            38746         NaN  \n",
       "4           20159            41461      7578.0  "
      ]
     },
     "execution_count": 182,
     "metadata": {},
     "output_type": "execute_result"
    }
   ],
   "source": [
    "usa.style.set_precision(0)\n",
    "usa.head()"
   ]
  },
  {
   "cell_type": "code",
   "execution_count": 183,
   "metadata": {},
   "outputs": [
    {
     "name": "stdout",
     "output_type": "stream",
     "text": [
      "<class 'pandas.core.frame.DataFrame'>\n",
      "RangeIndex: 113 entries, 0 to 112\n",
      "Data columns (total 6 columns):\n",
      " #   Column           Non-Null Count  Dtype  \n",
      "---  ------           --------------  -----  \n",
      " 0   Rank             113 non-null    int64  \n",
      " 1   System           113 non-null    object \n",
      " 2   Cores            113 non-null    int64  \n",
      " 3   Rmax (TFlop/s)   113 non-null    int64  \n",
      " 4   Rpeak (TFlop/s)  113 non-null    int64  \n",
      " 5   Power (kW)       40 non-null     float64\n",
      "dtypes: float64(1), int64(4), object(1)\n",
      "memory usage: 5.4+ KB\n"
     ]
    }
   ],
   "source": [
    "usa.info()"
   ]
  },
  {
   "cell_type": "code",
   "execution_count": 184,
   "metadata": {},
   "outputs": [
    {
     "data": {
      "text/plain": [
       "2803.95"
      ]
     },
     "execution_count": 184,
     "metadata": {},
     "output_type": "execute_result"
    }
   ],
   "source": [
    "#usa['Power (kW)'].max()\n",
    "avg_power= usa['Power (kW)'].mean(axis=0)\n",
    "round(avg_power,2)\n"
   ]
  },
  {
   "cell_type": "code",
   "execution_count": 185,
   "metadata": {},
   "outputs": [
    {
     "data": {
      "text/plain": [
       "'Summit - IBM Power System AC922, IBM POWER9 22C 3.07GHz, NVIDIA Volta GV100, Dual-rail Mellanox EDR Infiniband, IBMDOE/SC/Oak Ridge National LaboratoryUnited States'"
      ]
     },
     "execution_count": 185,
     "metadata": {},
     "output_type": "execute_result"
    }
   ],
   "source": [
    "usa['Power (kW)'].replace(np.nan,avg_power,inplace=True)\n",
    "usa.iloc[0,1]"
   ]
  },
  {
   "cell_type": "code",
   "execution_count": 186,
   "metadata": {},
   "outputs": [
    {
     "data": {
      "text/plain": [
       "13620.0"
      ]
     },
     "execution_count": 186,
     "metadata": {},
     "output_type": "execute_result"
    }
   ],
   "source": [
    "usa['Power (kW)'].max()"
   ]
  },
  {
   "cell_type": "code",
   "execution_count": 187,
   "metadata": {},
   "outputs": [
    {
     "data": {
      "text/html": [
       "<div>\n",
       "<style scoped>\n",
       "    .dataframe tbody tr th:only-of-type {\n",
       "        vertical-align: middle;\n",
       "    }\n",
       "\n",
       "    .dataframe tbody tr th {\n",
       "        vertical-align: top;\n",
       "    }\n",
       "\n",
       "    .dataframe thead th {\n",
       "        text-align: right;\n",
       "    }\n",
       "</style>\n",
       "<table border=\"1\" class=\"dataframe\">\n",
       "  <thead>\n",
       "    <tr style=\"text-align: right;\">\n",
       "      <th></th>\n",
       "      <th>Rank</th>\n",
       "      <th>Cores</th>\n",
       "      <th>Rmax (TFlop/s)</th>\n",
       "      <th>Rpeak (TFlop/s)</th>\n",
       "      <th>Power (kW)</th>\n",
       "    </tr>\n",
       "  </thead>\n",
       "  <tbody>\n",
       "    <tr>\n",
       "      <th>count</th>\n",
       "      <td>113.00</td>\n",
       "      <td>113.00</td>\n",
       "      <td>113.00</td>\n",
       "      <td>113.00</td>\n",
       "      <td>113.00</td>\n",
       "    </tr>\n",
       "    <tr>\n",
       "      <th>mean</th>\n",
       "      <td>235.14</td>\n",
       "      <td>136048.07</td>\n",
       "      <td>5917.76</td>\n",
       "      <td>8339.44</td>\n",
       "      <td>2803.95</td>\n",
       "    </tr>\n",
       "    <tr>\n",
       "      <th>std</th>\n",
       "      <td>147.06</td>\n",
       "      <td>285704.94</td>\n",
       "      <td>17350.44</td>\n",
       "      <td>23432.96</td>\n",
       "      <td>2019.35</td>\n",
       "    </tr>\n",
       "    <tr>\n",
       "      <th>min</th>\n",
       "      <td>2.00</td>\n",
       "      <td>19840.00</td>\n",
       "      <td>1362.00</td>\n",
       "      <td>1531.00</td>\n",
       "      <td>90.00</td>\n",
       "    </tr>\n",
       "    <tr>\n",
       "      <th>25%</th>\n",
       "      <td>90.00</td>\n",
       "      <td>57600.00</td>\n",
       "      <td>1649.00</td>\n",
       "      <td>2120.00</td>\n",
       "      <td>2803.95</td>\n",
       "    </tr>\n",
       "    <tr>\n",
       "      <th>50%</th>\n",
       "      <td>277.00</td>\n",
       "      <td>57600.00</td>\n",
       "      <td>1841.00</td>\n",
       "      <td>2602.00</td>\n",
       "      <td>2803.95</td>\n",
       "    </tr>\n",
       "    <tr>\n",
       "      <th>75%</th>\n",
       "      <td>361.00</td>\n",
       "      <td>95472.00</td>\n",
       "      <td>3319.00</td>\n",
       "      <td>4897.00</td>\n",
       "      <td>2803.95</td>\n",
       "    </tr>\n",
       "    <tr>\n",
       "      <th>max</th>\n",
       "      <td>486.00</td>\n",
       "      <td>2414592.00</td>\n",
       "      <td>148600.00</td>\n",
       "      <td>200795.00</td>\n",
       "      <td>13620.00</td>\n",
       "    </tr>\n",
       "  </tbody>\n",
       "</table>\n",
       "</div>"
      ],
      "text/plain": [
       "         Rank       Cores  Rmax (TFlop/s)  Rpeak (TFlop/s)  Power (kW)\n",
       "count  113.00      113.00          113.00           113.00      113.00\n",
       "mean   235.14   136048.07         5917.76          8339.44     2803.95\n",
       "std    147.06   285704.94        17350.44         23432.96     2019.35\n",
       "min      2.00    19840.00         1362.00          1531.00       90.00\n",
       "25%     90.00    57600.00         1649.00          2120.00     2803.95\n",
       "50%    277.00    57600.00         1841.00          2602.00     2803.95\n",
       "75%    361.00    95472.00         3319.00          4897.00     2803.95\n",
       "max    486.00  2414592.00       148600.00        200795.00    13620.00"
      ]
     },
     "execution_count": 187,
     "metadata": {},
     "output_type": "execute_result"
    }
   ],
   "source": [
    "usasummarystats=usa.describe()\n",
    "usasummarystats=usasummarystats.round(2)\n",
    "usasummarystats"
   ]
  },
  {
   "cell_type": "code",
   "execution_count": 188,
   "metadata": {},
   "outputs": [
    {
     "name": "stdout",
     "output_type": "stream",
     "text": [
      "<class 'pandas.core.frame.DataFrame'>\n",
      "RangeIndex: 214 entries, 0 to 213\n",
      "Data columns (total 6 columns):\n",
      " #   Column           Non-Null Count  Dtype  \n",
      "---  ------           --------------  -----  \n",
      " 0   Rank             214 non-null    int64  \n",
      " 1   System           214 non-null    object \n",
      " 2   Cores            214 non-null    int64  \n",
      " 3   Rmax (TFlop/s)   214 non-null    int64  \n",
      " 4   Rpeak (TFlop/s)  214 non-null    int64  \n",
      " 5   Power (kW)       59 non-null     float64\n",
      "dtypes: float64(1), int64(4), object(1)\n",
      "memory usage: 10.2+ KB\n"
     ]
    },
    {
     "data": {
      "text/html": [
       "<div>\n",
       "<style scoped>\n",
       "    .dataframe tbody tr th:only-of-type {\n",
       "        vertical-align: middle;\n",
       "    }\n",
       "\n",
       "    .dataframe tbody tr th {\n",
       "        vertical-align: top;\n",
       "    }\n",
       "\n",
       "    .dataframe thead th {\n",
       "        text-align: right;\n",
       "    }\n",
       "</style>\n",
       "<table border=\"1\" class=\"dataframe\">\n",
       "  <thead>\n",
       "    <tr style=\"text-align: right;\">\n",
       "      <th></th>\n",
       "      <th>Rank</th>\n",
       "      <th>System</th>\n",
       "      <th>Cores</th>\n",
       "      <th>Rmax (TFlop/s)</th>\n",
       "      <th>Rpeak (TFlop/s)</th>\n",
       "      <th>Power (kW)</th>\n",
       "    </tr>\n",
       "  </thead>\n",
       "  <tbody>\n",
       "    <tr>\n",
       "      <th>0</th>\n",
       "      <td>4</td>\n",
       "      <td>Sunway TaihuLight - Sunway MPP, Sunway SW26010...</td>\n",
       "      <td>10649600</td>\n",
       "      <td>93015</td>\n",
       "      <td>125436</td>\n",
       "      <td>15371.0</td>\n",
       "    </tr>\n",
       "    <tr>\n",
       "      <th>1</th>\n",
       "      <td>6</td>\n",
       "      <td>Tianhe-2A - TH-IVB-FEP Cluster, Intel Xeon E5-...</td>\n",
       "      <td>4981760</td>\n",
       "      <td>61445</td>\n",
       "      <td>100679</td>\n",
       "      <td>18482.0</td>\n",
       "    </tr>\n",
       "    <tr>\n",
       "      <th>2</th>\n",
       "      <td>66</td>\n",
       "      <td>Advanced Computing System(PreE) - Sugon TC8600...</td>\n",
       "      <td>163840</td>\n",
       "      <td>4325</td>\n",
       "      <td>6134</td>\n",
       "      <td>380.0</td>\n",
       "    </tr>\n",
       "    <tr>\n",
       "      <th>3</th>\n",
       "      <td>103</td>\n",
       "      <td>Lenovo HR650x, Xeon Gold 6133 20C 2.5GHz, 25G ...</td>\n",
       "      <td>76000</td>\n",
       "      <td>3089</td>\n",
       "      <td>6080</td>\n",
       "      <td>NaN</td>\n",
       "    </tr>\n",
       "    <tr>\n",
       "      <th>4</th>\n",
       "      <td>110</td>\n",
       "      <td>Lenovo HR650x, Xeon Gold 6133 20C 2.5GHz, 25G ...</td>\n",
       "      <td>73600</td>\n",
       "      <td>2994</td>\n",
       "      <td>5888</td>\n",
       "      <td>NaN</td>\n",
       "    </tr>\n",
       "  </tbody>\n",
       "</table>\n",
       "</div>"
      ],
      "text/plain": [
       "   Rank                                             System     Cores  \\\n",
       "0     4  Sunway TaihuLight - Sunway MPP, Sunway SW26010...  10649600   \n",
       "1     6  Tianhe-2A - TH-IVB-FEP Cluster, Intel Xeon E5-...   4981760   \n",
       "2    66  Advanced Computing System(PreE) - Sugon TC8600...    163840   \n",
       "3   103  Lenovo HR650x, Xeon Gold 6133 20C 2.5GHz, 25G ...     76000   \n",
       "4   110  Lenovo HR650x, Xeon Gold 6133 20C 2.5GHz, 25G ...     73600   \n",
       "\n",
       "   Rmax (TFlop/s)  Rpeak (TFlop/s)  Power (kW)  \n",
       "0           93015           125436     15371.0  \n",
       "1           61445           100679     18482.0  \n",
       "2            4325             6134       380.0  \n",
       "3            3089             6080         NaN  \n",
       "4            2994             5888         NaN  "
      ]
     },
     "execution_count": 188,
     "metadata": {},
     "output_type": "execute_result"
    }
   ],
   "source": [
    "china=pd.read_csv('D:/Spring_2021/AIT 580_Prof.Harry Foxwell/9. week 9_web scraping/China.csv')\n",
    "china.head()\n",
    "china.info()\n",
    "china.head()"
   ]
  },
  {
   "cell_type": "code",
   "execution_count": 189,
   "metadata": {},
   "outputs": [
    {
     "data": {
      "text/plain": [
       "1296.36"
      ]
     },
     "execution_count": 189,
     "metadata": {},
     "output_type": "execute_result"
    }
   ],
   "source": [
    "avg_power= china['Power (kW)'].mean(axis=0)\n",
    "round(avg_power,2)\n"
   ]
  },
  {
   "cell_type": "code",
   "execution_count": 190,
   "metadata": {},
   "outputs": [
    {
     "data": {
      "text/plain": [
       "18482.0"
      ]
     },
     "execution_count": 190,
     "metadata": {},
     "output_type": "execute_result"
    }
   ],
   "source": [
    "china['Power (kW)'].max()"
   ]
  },
  {
   "cell_type": "code",
   "execution_count": 191,
   "metadata": {},
   "outputs": [
    {
     "data": {
      "text/plain": [
       "'Sunway TaihuLight - Sunway MPP, Sunway SW26010 260C 1.45GHz, Sunway, NRCPCNational Supercomputing Center in WuxiChina'"
      ]
     },
     "execution_count": 191,
     "metadata": {},
     "output_type": "execute_result"
    }
   ],
   "source": [
    "china.iloc[0,1]"
   ]
  },
  {
   "cell_type": "code",
   "execution_count": 192,
   "metadata": {},
   "outputs": [
    {
     "data": {
      "text/html": [
       "<div>\n",
       "<style scoped>\n",
       "    .dataframe tbody tr th:only-of-type {\n",
       "        vertical-align: middle;\n",
       "    }\n",
       "\n",
       "    .dataframe tbody tr th {\n",
       "        vertical-align: top;\n",
       "    }\n",
       "\n",
       "    .dataframe thead th {\n",
       "        text-align: right;\n",
       "    }\n",
       "</style>\n",
       "<table border=\"1\" class=\"dataframe\">\n",
       "  <thead>\n",
       "    <tr style=\"text-align: right;\">\n",
       "      <th></th>\n",
       "      <th>Rank</th>\n",
       "      <th>Cores</th>\n",
       "      <th>Rmax (TFlop/s)</th>\n",
       "      <th>Rpeak (TFlop/s)</th>\n",
       "      <th>Power (kW)</th>\n",
       "    </tr>\n",
       "  </thead>\n",
       "  <tbody>\n",
       "    <tr>\n",
       "      <th>count</th>\n",
       "      <td>214.00</td>\n",
       "      <td>214.00</td>\n",
       "      <td>214.00</td>\n",
       "      <td>214.00</td>\n",
       "      <td>59.00</td>\n",
       "    </tr>\n",
       "    <tr>\n",
       "      <th>mean</th>\n",
       "      <td>287.52</td>\n",
       "      <td>143477.83</td>\n",
       "      <td>2647.86</td>\n",
       "      <td>5755.95</td>\n",
       "      <td>1296.36</td>\n",
       "    </tr>\n",
       "    <tr>\n",
       "      <th>std</th>\n",
       "      <td>121.54</td>\n",
       "      <td>811721.76</td>\n",
       "      <td>7432.95</td>\n",
       "      <td>12419.48</td>\n",
       "      <td>3021.33</td>\n",
       "    </tr>\n",
       "    <tr>\n",
       "      <th>min</th>\n",
       "      <td>4.00</td>\n",
       "      <td>24000.00</td>\n",
       "      <td>1317.00</td>\n",
       "      <td>1920.00</td>\n",
       "      <td>130.00</td>\n",
       "    </tr>\n",
       "    <tr>\n",
       "      <th>25%</th>\n",
       "      <td>195.50</td>\n",
       "      <td>40320.00</td>\n",
       "      <td>1632.25</td>\n",
       "      <td>3030.00</td>\n",
       "      <td>450.00</td>\n",
       "    </tr>\n",
       "    <tr>\n",
       "      <th>50%</th>\n",
       "      <td>263.50</td>\n",
       "      <td>48920.00</td>\n",
       "      <td>1910.00</td>\n",
       "      <td>3914.50</td>\n",
       "      <td>630.00</td>\n",
       "    </tr>\n",
       "    <tr>\n",
       "      <th>75%</th>\n",
       "      <td>427.00</td>\n",
       "      <td>67200.00</td>\n",
       "      <td>2183.50</td>\n",
       "      <td>4634.50</td>\n",
       "      <td>1050.00</td>\n",
       "    </tr>\n",
       "    <tr>\n",
       "      <th>max</th>\n",
       "      <td>500.00</td>\n",
       "      <td>10649600.00</td>\n",
       "      <td>93015.00</td>\n",
       "      <td>125436.00</td>\n",
       "      <td>18482.00</td>\n",
       "    </tr>\n",
       "  </tbody>\n",
       "</table>\n",
       "</div>"
      ],
      "text/plain": [
       "         Rank        Cores  Rmax (TFlop/s)  Rpeak (TFlop/s)  Power (kW)\n",
       "count  214.00       214.00          214.00           214.00       59.00\n",
       "mean   287.52    143477.83         2647.86          5755.95     1296.36\n",
       "std    121.54    811721.76         7432.95         12419.48     3021.33\n",
       "min      4.00     24000.00         1317.00          1920.00      130.00\n",
       "25%    195.50     40320.00         1632.25          3030.00      450.00\n",
       "50%    263.50     48920.00         1910.00          3914.50      630.00\n",
       "75%    427.00     67200.00         2183.50          4634.50     1050.00\n",
       "max    500.00  10649600.00        93015.00        125436.00    18482.00"
      ]
     },
     "execution_count": 192,
     "metadata": {},
     "output_type": "execute_result"
    }
   ],
   "source": [
    "chinasummarystats=china.describe()\n",
    "chinasummarystats=chinasummarystats.round(2)\n",
    "chinasummarystats"
   ]
  },
  {
   "cell_type": "code",
   "execution_count": 193,
   "metadata": {},
   "outputs": [
    {
     "name": "stdout",
     "output_type": "stream",
     "text": [
      "<class 'pandas.core.frame.DataFrame'>\n",
      "RangeIndex: 34 entries, 0 to 33\n",
      "Data columns (total 6 columns):\n",
      " #   Column           Non-Null Count  Dtype  \n",
      "---  ------           --------------  -----  \n",
      " 0   Rank             34 non-null     int64  \n",
      " 1   System           34 non-null     object \n",
      " 2   Cores            34 non-null     int64  \n",
      " 3   Rmax (TFlop/s)   34 non-null     int64  \n",
      " 4   Rpeak (TFlop/s)  34 non-null     int64  \n",
      " 5   Power (kW)       18 non-null     float64\n",
      "dtypes: float64(1), int64(4), object(1)\n",
      "memory usage: 1.7+ KB\n"
     ]
    },
    {
     "data": {
      "text/html": [
       "<div>\n",
       "<style scoped>\n",
       "    .dataframe tbody tr th:only-of-type {\n",
       "        vertical-align: middle;\n",
       "    }\n",
       "\n",
       "    .dataframe tbody tr th {\n",
       "        vertical-align: top;\n",
       "    }\n",
       "\n",
       "    .dataframe thead th {\n",
       "        text-align: right;\n",
       "    }\n",
       "</style>\n",
       "<table border=\"1\" class=\"dataframe\">\n",
       "  <thead>\n",
       "    <tr style=\"text-align: right;\">\n",
       "      <th></th>\n",
       "      <th>Rank</th>\n",
       "      <th>System</th>\n",
       "      <th>Cores</th>\n",
       "      <th>Rmax (TFlop/s)</th>\n",
       "      <th>Rpeak (TFlop/s)</th>\n",
       "      <th>Power (kW)</th>\n",
       "    </tr>\n",
       "  </thead>\n",
       "  <tbody>\n",
       "    <tr>\n",
       "      <th>0</th>\n",
       "      <td>1</td>\n",
       "      <td>Supercomputer Fugaku - Supercomputer Fugaku, A...</td>\n",
       "      <td>7630848</td>\n",
       "      <td>442010</td>\n",
       "      <td>537212</td>\n",
       "      <td>29899.0</td>\n",
       "    </tr>\n",
       "    <tr>\n",
       "      <th>1</th>\n",
       "      <td>14</td>\n",
       "      <td>AI Bridging Cloud Infrastructure (ABCI) - PRIM...</td>\n",
       "      <td>391680</td>\n",
       "      <td>19880</td>\n",
       "      <td>32577</td>\n",
       "      <td>1649.0</td>\n",
       "    </tr>\n",
       "    <tr>\n",
       "      <th>2</th>\n",
       "      <td>19</td>\n",
       "      <td>TOKI-SORA - PRIMEHPC FX1000, A64FX 48C 2.2GHz,...</td>\n",
       "      <td>276480</td>\n",
       "      <td>16592</td>\n",
       "      <td>19464</td>\n",
       "      <td>NaN</td>\n",
       "    </tr>\n",
       "    <tr>\n",
       "      <th>3</th>\n",
       "      <td>22</td>\n",
       "      <td>Oakforest-PACS - PRIMERGY CX1640 M1, Intel Xeo...</td>\n",
       "      <td>556104</td>\n",
       "      <td>13555</td>\n",
       "      <td>24914</td>\n",
       "      <td>2719.0</td>\n",
       "    </tr>\n",
       "    <tr>\n",
       "      <th>4</th>\n",
       "      <td>31</td>\n",
       "      <td>TSUBAME3.0 - SGI ICE XA, IP139-SXM2, Xeon E5-2...</td>\n",
       "      <td>135828</td>\n",
       "      <td>8125</td>\n",
       "      <td>12127</td>\n",
       "      <td>792.0</td>\n",
       "    </tr>\n",
       "  </tbody>\n",
       "</table>\n",
       "</div>"
      ],
      "text/plain": [
       "   Rank                                             System    Cores  \\\n",
       "0     1  Supercomputer Fugaku - Supercomputer Fugaku, A...  7630848   \n",
       "1    14  AI Bridging Cloud Infrastructure (ABCI) - PRIM...   391680   \n",
       "2    19  TOKI-SORA - PRIMEHPC FX1000, A64FX 48C 2.2GHz,...   276480   \n",
       "3    22  Oakforest-PACS - PRIMERGY CX1640 M1, Intel Xeo...   556104   \n",
       "4    31  TSUBAME3.0 - SGI ICE XA, IP139-SXM2, Xeon E5-2...   135828   \n",
       "\n",
       "   Rmax (TFlop/s)  Rpeak (TFlop/s)  Power (kW)  \n",
       "0          442010           537212     29899.0  \n",
       "1           19880            32577      1649.0  \n",
       "2           16592            19464         NaN  \n",
       "3           13555            24914      2719.0  \n",
       "4            8125            12127       792.0  "
      ]
     },
     "execution_count": 193,
     "metadata": {},
     "output_type": "execute_result"
    }
   ],
   "source": [
    "japan=pd.read_csv('D:/Spring_2021/AIT 580_Prof.Harry Foxwell/9. week 9_web scraping/Japan.csv')\n",
    "\n",
    "japan.info()\n",
    "japan.head()"
   ]
  },
  {
   "cell_type": "code",
   "execution_count": 194,
   "metadata": {},
   "outputs": [
    {
     "data": {
      "text/plain": [
       "2696.89"
      ]
     },
     "execution_count": 194,
     "metadata": {},
     "output_type": "execute_result"
    }
   ],
   "source": [
    "avg_power= japan['Power (kW)'].mean(axis=0)\n",
    "round(avg_power,2)"
   ]
  },
  {
   "cell_type": "code",
   "execution_count": 195,
   "metadata": {},
   "outputs": [
    {
     "data": {
      "text/plain": [
       "29899.0"
      ]
     },
     "execution_count": 195,
     "metadata": {},
     "output_type": "execute_result"
    }
   ],
   "source": [
    "japan['Power (kW)'].max()"
   ]
  },
  {
   "cell_type": "code",
   "execution_count": 196,
   "metadata": {},
   "outputs": [
    {
     "data": {
      "text/plain": [
       "'Supercomputer Fugaku - Supercomputer Fugaku, A64FX 48C 2.2GHz, Tofu interconnect D, FujitsuRIKEN Center for Computational ScienceJapan'"
      ]
     },
     "execution_count": 196,
     "metadata": {},
     "output_type": "execute_result"
    }
   ],
   "source": [
    "japan.iloc[0,1]"
   ]
  },
  {
   "cell_type": "code",
   "execution_count": 197,
   "metadata": {},
   "outputs": [
    {
     "data": {
      "text/html": [
       "<div>\n",
       "<style scoped>\n",
       "    .dataframe tbody tr th:only-of-type {\n",
       "        vertical-align: middle;\n",
       "    }\n",
       "\n",
       "    .dataframe tbody tr th {\n",
       "        vertical-align: top;\n",
       "    }\n",
       "\n",
       "    .dataframe thead th {\n",
       "        text-align: right;\n",
       "    }\n",
       "</style>\n",
       "<table border=\"1\" class=\"dataframe\">\n",
       "  <thead>\n",
       "    <tr style=\"text-align: right;\">\n",
       "      <th></th>\n",
       "      <th>Rank</th>\n",
       "      <th>Cores</th>\n",
       "      <th>Rmax (TFlop/s)</th>\n",
       "      <th>Rpeak (TFlop/s)</th>\n",
       "      <th>Power (kW)</th>\n",
       "    </tr>\n",
       "  </thead>\n",
       "  <tbody>\n",
       "    <tr>\n",
       "      <th>count</th>\n",
       "      <td>34.00</td>\n",
       "      <td>34.00</td>\n",
       "      <td>34.00</td>\n",
       "      <td>34.00</td>\n",
       "      <td>18.00</td>\n",
       "    </tr>\n",
       "    <tr>\n",
       "      <th>mean</th>\n",
       "      <td>173.47</td>\n",
       "      <td>321986.00</td>\n",
       "      <td>17461.85</td>\n",
       "      <td>22535.26</td>\n",
       "      <td>2696.89</td>\n",
       "    </tr>\n",
       "    <tr>\n",
       "      <th>std</th>\n",
       "      <td>154.56</td>\n",
       "      <td>1296275.91</td>\n",
       "      <td>75140.45</td>\n",
       "      <td>91185.08</td>\n",
       "      <td>6836.62</td>\n",
       "    </tr>\n",
       "    <tr>\n",
       "      <th>min</th>\n",
       "      <td>1.00</td>\n",
       "      <td>1664.00</td>\n",
       "      <td>1326.00</td>\n",
       "      <td>2028.00</td>\n",
       "      <td>65.00</td>\n",
       "    </tr>\n",
       "    <tr>\n",
       "      <th>25%</th>\n",
       "      <td>49.25</td>\n",
       "      <td>37286.00</td>\n",
       "      <td>1807.25</td>\n",
       "      <td>2875.50</td>\n",
       "      <td>580.75</td>\n",
       "    </tr>\n",
       "    <tr>\n",
       "      <th>50%</th>\n",
       "      <td>102.00</td>\n",
       "      <td>62724.00</td>\n",
       "      <td>3119.50</td>\n",
       "      <td>5045.50</td>\n",
       "      <td>818.50</td>\n",
       "    </tr>\n",
       "    <tr>\n",
       "      <th>75%</th>\n",
       "      <td>291.50</td>\n",
       "      <td>119448.00</td>\n",
       "      <td>5731.00</td>\n",
       "      <td>8276.50</td>\n",
       "      <td>1624.25</td>\n",
       "    </tr>\n",
       "    <tr>\n",
       "      <th>max</th>\n",
       "      <td>496.00</td>\n",
       "      <td>7630848.00</td>\n",
       "      <td>442010.00</td>\n",
       "      <td>537212.00</td>\n",
       "      <td>29899.00</td>\n",
       "    </tr>\n",
       "  </tbody>\n",
       "</table>\n",
       "</div>"
      ],
      "text/plain": [
       "         Rank       Cores  Rmax (TFlop/s)  Rpeak (TFlop/s)  Power (kW)\n",
       "count   34.00       34.00           34.00            34.00       18.00\n",
       "mean   173.47   321986.00        17461.85         22535.26     2696.89\n",
       "std    154.56  1296275.91        75140.45         91185.08     6836.62\n",
       "min      1.00     1664.00         1326.00          2028.00       65.00\n",
       "25%     49.25    37286.00         1807.25          2875.50      580.75\n",
       "50%    102.00    62724.00         3119.50          5045.50      818.50\n",
       "75%    291.50   119448.00         5731.00          8276.50     1624.25\n",
       "max    496.00  7630848.00       442010.00        537212.00    29899.00"
      ]
     },
     "execution_count": 197,
     "metadata": {},
     "output_type": "execute_result"
    }
   ],
   "source": [
    "japansummarystats=japan.describe()\n",
    "japansummarystats=japansummarystats.round(2)\n",
    "japansummarystats"
   ]
  },
  {
   "cell_type": "code",
   "execution_count": 198,
   "metadata": {
    "scrolled": true
   },
   "outputs": [
    {
     "data": {
      "text/html": [
       "<div>\n",
       "<style scoped>\n",
       "    .dataframe tbody tr th:only-of-type {\n",
       "        vertical-align: middle;\n",
       "    }\n",
       "\n",
       "    .dataframe tbody tr th {\n",
       "        vertical-align: top;\n",
       "    }\n",
       "\n",
       "    .dataframe thead th {\n",
       "        text-align: right;\n",
       "    }\n",
       "</style>\n",
       "<table border=\"1\" class=\"dataframe\">\n",
       "  <thead>\n",
       "    <tr style=\"text-align: right;\">\n",
       "      <th></th>\n",
       "      <th>Rank</th>\n",
       "      <th>Cores</th>\n",
       "      <th>Rmax (TFlop/s)</th>\n",
       "      <th>Rpeak (TFlop/s)</th>\n",
       "      <th>Power (kW)</th>\n",
       "    </tr>\n",
       "  </thead>\n",
       "  <tbody>\n",
       "    <tr>\n",
       "      <th>count</th>\n",
       "      <td>113.00</td>\n",
       "      <td>113.00</td>\n",
       "      <td>113.00</td>\n",
       "      <td>113.00</td>\n",
       "      <td>113.00</td>\n",
       "    </tr>\n",
       "    <tr>\n",
       "      <th>mean</th>\n",
       "      <td>235.14</td>\n",
       "      <td>136048.07</td>\n",
       "      <td>5917.76</td>\n",
       "      <td>8339.44</td>\n",
       "      <td>2803.95</td>\n",
       "    </tr>\n",
       "    <tr>\n",
       "      <th>std</th>\n",
       "      <td>147.06</td>\n",
       "      <td>285704.94</td>\n",
       "      <td>17350.44</td>\n",
       "      <td>23432.96</td>\n",
       "      <td>2019.35</td>\n",
       "    </tr>\n",
       "    <tr>\n",
       "      <th>min</th>\n",
       "      <td>2.00</td>\n",
       "      <td>19840.00</td>\n",
       "      <td>1362.00</td>\n",
       "      <td>1531.00</td>\n",
       "      <td>90.00</td>\n",
       "    </tr>\n",
       "    <tr>\n",
       "      <th>25%</th>\n",
       "      <td>90.00</td>\n",
       "      <td>57600.00</td>\n",
       "      <td>1649.00</td>\n",
       "      <td>2120.00</td>\n",
       "      <td>2803.95</td>\n",
       "    </tr>\n",
       "    <tr>\n",
       "      <th>50%</th>\n",
       "      <td>277.00</td>\n",
       "      <td>57600.00</td>\n",
       "      <td>1841.00</td>\n",
       "      <td>2602.00</td>\n",
       "      <td>2803.95</td>\n",
       "    </tr>\n",
       "    <tr>\n",
       "      <th>75%</th>\n",
       "      <td>361.00</td>\n",
       "      <td>95472.00</td>\n",
       "      <td>3319.00</td>\n",
       "      <td>4897.00</td>\n",
       "      <td>2803.95</td>\n",
       "    </tr>\n",
       "    <tr>\n",
       "      <th>max</th>\n",
       "      <td>486.00</td>\n",
       "      <td>2414592.00</td>\n",
       "      <td>148600.00</td>\n",
       "      <td>200795.00</td>\n",
       "      <td>13620.00</td>\n",
       "    </tr>\n",
       "  </tbody>\n",
       "</table>\n",
       "</div>"
      ],
      "text/plain": [
       "         Rank       Cores  Rmax (TFlop/s)  Rpeak (TFlop/s)  Power (kW)\n",
       "count  113.00      113.00          113.00           113.00      113.00\n",
       "mean   235.14   136048.07         5917.76          8339.44     2803.95\n",
       "std    147.06   285704.94        17350.44         23432.96     2019.35\n",
       "min      2.00    19840.00         1362.00          1531.00       90.00\n",
       "25%     90.00    57600.00         1649.00          2120.00     2803.95\n",
       "50%    277.00    57600.00         1841.00          2602.00     2803.95\n",
       "75%    361.00    95472.00         3319.00          4897.00     2803.95\n",
       "max    486.00  2414592.00       148600.00        200795.00    13620.00"
      ]
     },
     "execution_count": 198,
     "metadata": {},
     "output_type": "execute_result"
    }
   ],
   "source": [
    "japansummarystats\n",
    "chinasummarystats\n",
    "usasummarystats"
   ]
  },
  {
   "cell_type": "code",
   "execution_count": 246,
   "metadata": {},
   "outputs": [
    {
     "data": {
      "text/html": [
       "<div>\n",
       "<style scoped>\n",
       "    .dataframe tbody tr th:only-of-type {\n",
       "        vertical-align: middle;\n",
       "    }\n",
       "\n",
       "    .dataframe tbody tr th {\n",
       "        vertical-align: top;\n",
       "    }\n",
       "\n",
       "    .dataframe thead th {\n",
       "        text-align: right;\n",
       "    }\n",
       "</style>\n",
       "<table border=\"1\" class=\"dataframe\">\n",
       "  <thead>\n",
       "    <tr style=\"text-align: right;\">\n",
       "      <th></th>\n",
       "      <th>Rank</th>\n",
       "      <th>Cores</th>\n",
       "      <th>Rmax (TFlop/s)</th>\n",
       "      <th>Rpeak (TFlop/s)</th>\n",
       "      <th>Power (kW)</th>\n",
       "    </tr>\n",
       "  </thead>\n",
       "  <tbody>\n",
       "    <tr>\n",
       "      <th>count</th>\n",
       "      <td>214.00</td>\n",
       "      <td>214.00</td>\n",
       "      <td>214.00</td>\n",
       "      <td>214.00</td>\n",
       "      <td>59.00</td>\n",
       "    </tr>\n",
       "    <tr>\n",
       "      <th>mean</th>\n",
       "      <td>287.52</td>\n",
       "      <td>143477.83</td>\n",
       "      <td>2647.86</td>\n",
       "      <td>5755.95</td>\n",
       "      <td>1296.36</td>\n",
       "    </tr>\n",
       "    <tr>\n",
       "      <th>std</th>\n",
       "      <td>121.54</td>\n",
       "      <td>811721.76</td>\n",
       "      <td>7432.95</td>\n",
       "      <td>12419.48</td>\n",
       "      <td>3021.33</td>\n",
       "    </tr>\n",
       "    <tr>\n",
       "      <th>min</th>\n",
       "      <td>4.00</td>\n",
       "      <td>24000.00</td>\n",
       "      <td>1317.00</td>\n",
       "      <td>1920.00</td>\n",
       "      <td>130.00</td>\n",
       "    </tr>\n",
       "    <tr>\n",
       "      <th>25%</th>\n",
       "      <td>195.50</td>\n",
       "      <td>40320.00</td>\n",
       "      <td>1632.25</td>\n",
       "      <td>3030.00</td>\n",
       "      <td>450.00</td>\n",
       "    </tr>\n",
       "    <tr>\n",
       "      <th>50%</th>\n",
       "      <td>263.50</td>\n",
       "      <td>48920.00</td>\n",
       "      <td>1910.00</td>\n",
       "      <td>3914.50</td>\n",
       "      <td>630.00</td>\n",
       "    </tr>\n",
       "    <tr>\n",
       "      <th>75%</th>\n",
       "      <td>427.00</td>\n",
       "      <td>67200.00</td>\n",
       "      <td>2183.50</td>\n",
       "      <td>4634.50</td>\n",
       "      <td>1050.00</td>\n",
       "    </tr>\n",
       "    <tr>\n",
       "      <th>max</th>\n",
       "      <td>500.00</td>\n",
       "      <td>10649600.00</td>\n",
       "      <td>93015.00</td>\n",
       "      <td>125436.00</td>\n",
       "      <td>18482.00</td>\n",
       "    </tr>\n",
       "  </tbody>\n",
       "</table>\n",
       "</div>"
      ],
      "text/plain": [
       "         Rank        Cores  Rmax (TFlop/s)  Rpeak (TFlop/s)  Power (kW)\n",
       "count  214.00       214.00          214.00           214.00       59.00\n",
       "mean   287.52    143477.83         2647.86          5755.95     1296.36\n",
       "std    121.54    811721.76         7432.95         12419.48     3021.33\n",
       "min      4.00     24000.00         1317.00          1920.00      130.00\n",
       "25%    195.50     40320.00         1632.25          3030.00      450.00\n",
       "50%    263.50     48920.00         1910.00          3914.50      630.00\n",
       "75%    427.00     67200.00         2183.50          4634.50     1050.00\n",
       "max    500.00  10649600.00        93015.00        125436.00    18482.00"
      ]
     },
     "execution_count": 246,
     "metadata": {},
     "output_type": "execute_result"
    }
   ],
   "source": [
    "usasummarystats.iloc[1,0]\n",
    "chinasummarystats"
   ]
  },
  {
   "cell_type": "code",
   "execution_count": 50,
   "metadata": {},
   "outputs": [
    {
     "data": {
      "text/html": [
       "<div>\n",
       "<style scoped>\n",
       "    .dataframe tbody tr th:only-of-type {\n",
       "        vertical-align: middle;\n",
       "    }\n",
       "\n",
       "    .dataframe tbody tr th {\n",
       "        vertical-align: top;\n",
       "    }\n",
       "\n",
       "    .dataframe thead th {\n",
       "        text-align: right;\n",
       "    }\n",
       "</style>\n",
       "<table border=\"1\" class=\"dataframe\">\n",
       "  <thead>\n",
       "    <tr style=\"text-align: right;\">\n",
       "      <th></th>\n",
       "      <th>RankCount</th>\n",
       "      <th>Country</th>\n",
       "    </tr>\n",
       "  </thead>\n",
       "  <tbody>\n",
       "    <tr>\n",
       "      <th>0</th>\n",
       "      <td>113.0</td>\n",
       "      <td>USA</td>\n",
       "    </tr>\n",
       "    <tr>\n",
       "      <th>1</th>\n",
       "      <td>34.0</td>\n",
       "      <td>Japan</td>\n",
       "    </tr>\n",
       "    <tr>\n",
       "      <th>2</th>\n",
       "      <td>214.0</td>\n",
       "      <td>China</td>\n",
       "    </tr>\n",
       "  </tbody>\n",
       "</table>\n",
       "</div>"
      ],
      "text/plain": [
       "   RankCount Country\n",
       "0      113.0     USA\n",
       "1       34.0   Japan\n",
       "2      214.0   China"
      ]
     },
     "execution_count": 50,
     "metadata": {},
     "output_type": "execute_result"
    }
   ],
   "source": [
    "data = [[usasummarystats.iloc[0,0],'USA'], [japansummarystats.iloc[0,0],'Japan'], [chinasummarystats.iloc[0,0],'China']]\n",
    "  \n",
    "# Create the pandas DataFrame\n",
    "rankdf = pd.DataFrame(data, columns = ['RankCount','Country'])\n",
    "  \n",
    "# print dataframe.\n",
    "rankdf"
   ]
  },
  {
   "cell_type": "code",
   "execution_count": 51,
   "metadata": {},
   "outputs": [
    {
     "data": {
      "text/plain": [
       "Text(0.5, 1.0, 'Count Of Ranks In Each Country')"
      ]
     },
     "execution_count": 51,
     "metadata": {},
     "output_type": "execute_result"
    },
    {
     "data": {
      "image/png": "[encoded data removed]",
      "text/plain": [
       "<Figure size 432x288 with 1 Axes>"
      ]
     },
     "metadata": {
      "needs_background": "light"
     },
     "output_type": "display_data"
    }
   ],
   "source": [
    "import matplotlib as plt\n",
    "from matplotlib import pyplot\n",
    "pyplot.bar(rankdf['Country'], rankdf[\"RankCount\"])\n",
    "plt.pyplot.xlabel(\"Country\")\n",
    "plt.pyplot.ylabel(\"Count of Ranks\")\n",
    "plt.pyplot.title(\"Count Of Ranks In Each Country\")"
   ]
  },
  {
   "cell_type": "code",
   "execution_count": 52,
   "metadata": {},
   "outputs": [
    {
     "data": {
      "text/html": [
       "<div>\n",
       "<style scoped>\n",
       "    .dataframe tbody tr th:only-of-type {\n",
       "        vertical-align: middle;\n",
       "    }\n",
       "\n",
       "    .dataframe tbody tr th {\n",
       "        vertical-align: top;\n",
       "    }\n",
       "\n",
       "    .dataframe thead th {\n",
       "        text-align: right;\n",
       "    }\n",
       "</style>\n",
       "<table border=\"1\" class=\"dataframe\">\n",
       "  <thead>\n",
       "    <tr style=\"text-align: right;\">\n",
       "      <th></th>\n",
       "      <th>Rank</th>\n",
       "      <th>System</th>\n",
       "      <th>Cores</th>\n",
       "      <th>Rmax (TFlop/s)</th>\n",
       "      <th>Rpeak (TFlop/s)</th>\n",
       "      <th>Power (kW)</th>\n",
       "    </tr>\n",
       "  </thead>\n",
       "  <tbody>\n",
       "    <tr>\n",
       "      <th>0</th>\n",
       "      <td>2</td>\n",
       "      <td>Summit - IBM Power System AC922, IBM POWER9 22...</td>\n",
       "      <td>2414592</td>\n",
       "      <td>148600</td>\n",
       "      <td>200795</td>\n",
       "      <td>10096.00</td>\n",
       "    </tr>\n",
       "    <tr>\n",
       "      <th>1</th>\n",
       "      <td>3</td>\n",
       "      <td>Sierra - IBM Power System AC922, IBM POWER9 22...</td>\n",
       "      <td>1572480</td>\n",
       "      <td>94640</td>\n",
       "      <td>125712</td>\n",
       "      <td>7438.00</td>\n",
       "    </tr>\n",
       "    <tr>\n",
       "      <th>2</th>\n",
       "      <td>5</td>\n",
       "      <td>Selene - NVIDIA DGX A100, AMD EPYC 7742 64C 2....</td>\n",
       "      <td>555520</td>\n",
       "      <td>63460</td>\n",
       "      <td>79215</td>\n",
       "      <td>2646.00</td>\n",
       "    </tr>\n",
       "    <tr>\n",
       "      <th>3</th>\n",
       "      <td>9</td>\n",
       "      <td>Frontera - Dell C6420, Xeon Platinum 8280 28C ...</td>\n",
       "      <td>448448</td>\n",
       "      <td>23516</td>\n",
       "      <td>38746</td>\n",
       "      <td>2803.95</td>\n",
       "    </tr>\n",
       "    <tr>\n",
       "      <th>4</th>\n",
       "      <td>13</td>\n",
       "      <td>Trinity - Cray XC40, Xeon E5-2698v3 16C 2.3GHz...</td>\n",
       "      <td>979072</td>\n",
       "      <td>20159</td>\n",
       "      <td>41461</td>\n",
       "      <td>7578.00</td>\n",
       "    </tr>\n",
       "  </tbody>\n",
       "</table>\n",
       "</div>"
      ],
      "text/plain": [
       "   Rank                                             System    Cores  \\\n",
       "0     2  Summit - IBM Power System AC922, IBM POWER9 22...  2414592   \n",
       "1     3  Sierra - IBM Power System AC922, IBM POWER9 22...  1572480   \n",
       "2     5  Selene - NVIDIA DGX A100, AMD EPYC 7742 64C 2....   555520   \n",
       "3     9  Frontera - Dell C6420, Xeon Platinum 8280 28C ...   448448   \n",
       "4    13  Trinity - Cray XC40, Xeon E5-2698v3 16C 2.3GHz...   979072   \n",
       "\n",
       "   Rmax (TFlop/s)  Rpeak (TFlop/s)  Power (kW)  \n",
       "0          148600           200795    10096.00  \n",
       "1           94640           125712     7438.00  \n",
       "2           63460            79215     2646.00  \n",
       "3           23516            38746     2803.95  \n",
       "4           20159            41461     7578.00  "
      ]
     },
     "execution_count": 52,
     "metadata": {},
     "output_type": "execute_result"
    }
   ],
   "source": [
    "\n",
    "usa.head()\n"
   ]
  },
  {
   "cell_type": "code",
   "execution_count": null,
   "metadata": {},
   "outputs": [],
   "source": [
    "###########################"
   ]
  },
  {
   "cell_type": "code",
   "execution_count": 17,
   "metadata": {},
   "outputs": [
    {
     "name": "stdout",
     "output_type": "stream",
     "text": [
      "<select class=\"form-control\" id=\"id_procgen\" name=\"procgen\" title=\"\">\n",
      " <option value=\"All\">\n",
      "  All\n",
      " </option>\n",
      " <option value=\"1319\">\n",
      "  7300-series \"Tigerton\"\n",
      " </option>\n",
      " <option value=\"1206\">\n",
      "  AMD\n",
      " </option>\n",
      " <option value=\"1386\">\n",
      "  AMD Naples\n",
      " </option>\n",
      " <option value=\"1383\">\n",
      "  AMD Rome\n",
      " </option>\n",
      " <option value=\"1231\">\n",
      "  Alpha\n",
      " </option>\n",
      " <option value=\"1235\">\n",
      "  Alpha 21164\n",
      " </option>\n",
      " <option value=\"1207\">\n",
      "  Athlon\n",
      " </option>\n",
      " <option value=\"1229\">\n",
      "  BQC\n",
      " </option>\n",
      " <option value=\"1199\">\n",
      "  Convex\n",
      " </option>\n",
      " <option value=\"1309\">\n",
      "  Core 2 Duo (T5xxx)\n",
      " </option>\n",
      " <option value=\"1311\">\n",
      "  Core 2 Duo (T6xxx)\n",
      " </option>\n",
      " <option value=\"1310\">\n",
      "  Core 2 Duo (T7xxx)\n",
      " </option>\n",
      " <option value=\"1308\">\n",
      "  Core 2 Extreme\n",
      " </option>\n",
      " <option value=\"1338\">\n",
      "  Core i3\n",
      " </option>\n",
      " <option value=\"1339\">\n",
      "  Core i5\n",
      " </option>\n",
      " <option value=\"1196\">\n",
      "  Cray\n",
      " </option>\n",
      " <option value=\"1197\">\n",
      "  Cray X1\n",
      " </option>\n",
      " <option value=\"1198\">\n",
      "  Cray X1E\n",
      " </option>\n",
      " <option value=\"1233\">\n",
      "  EV4\n",
      " </option>\n",
      " <option value=\"1234\">\n",
      "  EV45\n",
      " </option>\n",
      " <option value=\"1236\">\n",
      "  EV56\n",
      " </option>\n",
      " <option value=\"1237\">\n",
      "  EV6\n",
      " </option>\n",
      " <option value=\"1238\">\n",
      "  EV67\n",
      " </option>\n",
      " <option value=\"1232\">\n",
      "  EV68\n",
      " </option>\n",
      " <option value=\"1239\">\n",
      "  EV7\n",
      " </option>\n",
      " <option value=\"1200\">\n",
      "  Fujitsu\n",
      " </option>\n",
      " <option value=\"1385\">\n",
      "  Fujitsu A64FX\n",
      " </option>\n",
      " <option value=\"1343\">\n",
      "  GRAPE-DR processor\n",
      " </option>\n",
      " <option value=\"1253\">\n",
      "  HARP-1E\n",
      " </option>\n",
      " <option value=\"1240\">\n",
      "  HP\n",
      " </option>\n",
      " <option value=\"1201\">\n",
      "  Hitachi\n",
      " </option>\n",
      " <option value=\"1195\">\n",
      "  Hitachi SR8000\n",
      " </option>\n",
      " <option value=\"1379\">\n",
      "  Hygon Dhyana\n",
      " </option>\n",
      " <option value=\"1377\">\n",
      "  IBM POWER9\n",
      " </option>\n",
      " <option value=\"1376\">\n",
      "  IBM Power8+\n",
      " </option>\n",
      " <option value=\"1194\">\n",
      "  IBM3090\n",
      " </option>\n",
      " <option value=\"1255\">\n",
      "  Intel\n",
      " </option>\n",
      " <option value=\"1331\">\n",
      "  Intel 80860\n",
      " </option>\n",
      " <option value=\"1365\">\n",
      "  Intel Xeon E3 (Haswell)\n",
      " </option>\n",
      " <option value=\"1370\">\n",
      "  Intel Xeon E5 (Broadwell)\n",
      " </option>\n",
      " <option value=\"1364\">\n",
      "  Intel Xeon E5 (Haswell)\n",
      " </option>\n",
      " <option value=\"1361\">\n",
      "  Intel Xeon E5 (IvyBridge)\n",
      " </option>\n",
      " <option value=\"1345\">\n",
      "  Intel Xeon E5 (SandyBridge)\n",
      " </option>\n",
      " <option value=\"1374\">\n",
      "  Intel Xeon E7 (Broadwell)\n",
      " </option>\n",
      " <option value=\"1371\">\n",
      "  Intel Xeon E7 (Haswell-Ex)\n",
      " </option>\n",
      " <option value=\"1369\">\n",
      "  Intel Xeon E7 (IvyBridge)\n",
      " </option>\n",
      " <option value=\"1368\">\n",
      "  Intel Xeon Phi\n",
      " </option>\n",
      " <option value=\"1297\">\n",
      "  Itanium\n",
      " </option>\n",
      " <option value=\"1296\">\n",
      "  Itanium 2\n",
      " </option>\n",
      " <option value=\"1302\">\n",
      "  Itanium 2 Fanwood\n",
      " </option>\n",
      " <option value=\"1300\">\n",
      "  Itanium 2 Madison 9M\n",
      " </option>\n",
      " <option value=\"1299\">\n",
      "  Itanium 2 Montecito\n",
      " </option>\n",
      " <option value=\"1301\">\n",
      "  Itanium 2 Montvale\n",
      " </option>\n",
      " <option value=\"1208\">\n",
      "  K7 \"Argon\"\n",
      " </option>\n",
      " <option value=\"1209\">\n",
      "  K75 \"Pluto/Orion\"\n",
      " </option>\n",
      " <option value=\"1204\">\n",
      "  KSR\n",
      " </option>\n",
      " <option value=\"1261\">\n",
      "  Low Voltage Pentium Xeon\n",
      " </option>\n",
      " <option value=\"1262\">\n",
      "  MIPS\n",
      " </option>\n",
      " <option value=\"1380\">\n",
      "  Marvell ThunderX2\n",
      " </option>\n",
      " <option value=\"1342\">\n",
      "  Maspar\n",
      " </option>\n",
      " <option value=\"1202\">\n",
      "  NEC\n",
      " </option>\n",
      " <option value=\"1332\">\n",
      "  Opteron\n",
      " </option>\n",
      " <option value=\"1363\">\n",
      "  Opteron 4100-series \"Lisbon\"\n",
      " </option>\n",
      " <option value=\"1354\">\n",
      "  Opteron 6100-series \"Magny-Cours\"\n",
      " </option>\n",
      " <option value=\"1346\">\n",
      "  Opteron 6200 Series \"Interlagos\"\n",
      " </option>\n",
      " <option value=\"1362\">\n",
      "  Opteron 6300 Series \"Abu Dhabi\"\n",
      " </option>\n",
      " <option value=\"1366\">\n",
      "  Opteron 6300-series \"Abu Dhabi\"\n",
      " </option>\n",
      " <option value=\"1357\">\n",
      "  Opteron 8300-series \"Barcelona\"\n",
      " </option>\n",
      " <option value=\"1356\">\n",
      "  Opteron 8300-series \"Shanghai\"\n",
      " </option>\n",
      " <option value=\"1355\">\n",
      "  Opteron 8400-series \"Istanbul\"\n",
      " </option>\n",
      " <option value=\"1333\">\n",
      "  Opteron Dual Core\n",
      " </option>\n",
      " <option value=\"1334\">\n",
      "  Opteron Quad Core\n",
      " </option>\n",
      " <option value=\"1335\">\n",
      "  Opteron Six Core\n",
      " </option>\n",
      " <option value=\"1241\">\n",
      "  PA-7100\n",
      " </option>\n",
      " <option value=\"1244\">\n",
      "  PA-7100LC\n",
      " </option>\n",
      " <option value=\"1242\">\n",
      "  PA-7150\n",
      " </option>\n",
      " <option value=\"1243\">\n",
      "  PA-7200\n",
      " </option>\n",
      " <option value=\"1245\">\n",
      "  PA-7300LC\n",
      " </option>\n",
      " <option value=\"1246\">\n",
      "  PA-8000\n",
      " </option>\n",
      " <option value=\"1247\">\n",
      "  PA-8200\n",
      " </option>\n",
      " <option value=\"1248\">\n",
      "  PA-8500\n",
      " </option>\n",
      " <option value=\"1249\">\n",
      "  PA-8600\n",
      " </option>\n",
      " <option value=\"1250\">\n",
      "  PA-8700\n",
      " </option>\n",
      " <option value=\"1254\">\n",
      "  PA-8700+\n",
      " </option>\n",
      " <option value=\"1251\">\n",
      "  PA-8800\n",
      " </option>\n",
      " <option value=\"1252\">\n",
      "  PA-8900\n",
      " </option>\n",
      " <option value=\"1216\">\n",
      "  POWER1\n",
      " </option>\n",
      " <option value=\"1217\">\n",
      "  POWER2\n",
      " </option>\n",
      " <option value=\"1219\">\n",
      "  POWER2 SC\n",
      " </option>\n",
      " <option value=\"1218\">\n",
      "  POWER3\n",
      " </option>\n",
      " <option value=\"1212\">\n",
      "  POWER4\n",
      " </option>\n",
      " <option value=\"1213\">\n",
      "  POWER4+\n",
      " </option>\n",
      " <option value=\"1214\">\n",
      "  POWER5\n",
      " </option>\n",
      " <option value=\"1225\">\n",
      "  POWER5+\n",
      " </option>\n",
      " <option value=\"1227\">\n",
      "  POWER6\n",
      " </option>\n",
      " <option value=\"1230\">\n",
      "  POWER7\n",
      " </option>\n",
      " <option value=\"1257\">\n",
      "  Pentium 2\n",
      " </option>\n",
      " <option value=\"1258\">\n",
      "  Pentium 3\n",
      " </option>\n",
      " <option value=\"1259\">\n",
      "  Pentium 4\n",
      " </option>\n",
      " <option value=\"1256\">\n",
      "  Pentium 4 Xeon\n",
      " </option>\n",
      " <option value=\"1304\">\n",
      "  Pentium D (8xx Series)\n",
      " </option>\n",
      " <option value=\"1305\">\n",
      "  Pentium D (9xx Series)\n",
      " </option>\n",
      " <option value=\"1306\">\n",
      "  Pentium Extreme Edition (8xx)\n",
      " </option>\n",
      " <option value=\"1307\">\n",
      "  Pentium Extreme Edition (9xx)\n",
      " </option>\n",
      " <option value=\"1260\">\n",
      "  Pentium Pro\n",
      " </option>\n",
      " <option value=\"1211\">\n",
      "  Power\n",
      " </option>\n",
      " <option value=\"1347\">\n",
      "  Power BQC\n",
      " </option>\n",
      " <option value=\"1294\">\n",
      "  PowerPC\n",
      " </option>\n",
      " <option value=\"1215\">\n",
      "  PowerPC 440\n",
      " </option>\n",
      " <option value=\"1226\">\n",
      "  PowerPC 450\n",
      " </option>\n",
      " <option value=\"1220\">\n",
      "  PowerPC 601\n",
      " </option>\n",
      " <option value=\"1221\">\n",
      "  PowerPC 603\n",
      " </option>\n",
      " <option value=\"1222\">\n",
      "  PowerPC 604e\n",
      " </option>\n",
      " <option value=\"1224\">\n",
      "  PowerPC 970\n",
      " </option>\n",
      " <option value=\"1228\">\n",
      "  PowerXCell 8i\n",
      " </option>\n",
      " <option value=\"1272\">\n",
      "  R10000\n",
      " </option>\n",
      " <option value=\"1273\">\n",
      "  R12000\n",
      " </option>\n",
      " <option value=\"1274\">\n",
      "  R14000\n",
      " </option>\n",
      " <option value=\"1277\">\n",
      "  R14000A\n",
      " </option>\n",
      " <option value=\"1275\">\n",
      "  R16000\n",
      " </option>\n",
      " <option value=\"1263\">\n",
      "  R2000\n",
      " </option>\n",
      " <option value=\"1264\">\n",
      "  R3000\n",
      " </option>\n",
      " <option value=\"1265\">\n",
      "  R4000\n",
      " </option>\n",
      " <option value=\"1266\">\n",
      "  R4200\n",
      " </option>\n",
      " <option value=\"1267\">\n",
      "  R4300\n",
      " </option>\n",
      " <option value=\"1268\">\n",
      "  R4400\n",
      " </option>\n",
      " <option value=\"1276\">\n",
      "  R4400SC\n",
      " </option>\n",
      " <option value=\"1269\">\n",
      "  R4600\n",
      " </option>\n",
      " <option value=\"1270\">\n",
      "  R5000\n",
      " </option>\n",
      " <option value=\"1271\">\n",
      "  R8000\n",
      " </option>\n",
      " <option value=\"1223\">\n",
      "  RS64 III\n",
      " </option>\n",
      " <option value=\"1340\">\n",
      "  S1070\n",
      " </option>\n",
      " <option value=\"1358\">\n",
      "  SPARC IU\n",
      " </option>\n",
      " <option value=\"1290\">\n",
      "  SPARC64 IV\n",
      " </option>\n",
      " <option value=\"1360\">\n",
      "  SPARC64 IXfx\n",
      " </option>\n",
      " <option value=\"1288\">\n",
      "  SPARC64 V\n",
      " </option>\n",
      " <option value=\"1292\">\n",
      "  SPARC64 VII\n",
      " </option>\n",
      " <option value=\"1293\">\n",
      "  SPARC64 VIIIfx\n",
      " </option>\n",
      " <option value=\"1367\">\n",
      "  SPARC64 XIfx\n",
      " </option>\n",
      " <option value=\"1344\">\n",
      "  ShenWei\n",
      " </option>\n",
      " <option value=\"1278\">\n",
      "  Sparc\n",
      " </option>\n",
      " <option value=\"1372\">\n",
      "  Sunway\n",
      " </option>\n",
      " <option value=\"1279\">\n",
      "  SuperSPARC I\n",
      " </option>\n",
      " <option value=\"1280\">\n",
      "  SuperSPARC II\n",
      " </option>\n",
      " <option value=\"1341\">\n",
      "  TMC CM2\n",
      " </option>\n",
      " <option value=\"1210\">\n",
      "  Thunderbird\n",
      " </option>\n",
      " <option value=\"1295\">\n",
      "  Transputer T8\n",
      " </option>\n",
      " <option value=\"1291\">\n",
      "  UltraSPARC I\n",
      " </option>\n",
      " <option value=\"1281\">\n",
      "  UltraSPARC II\n",
      " </option>\n",
      " <option value=\"1285\">\n",
      "  UltraSPARC III\n",
      " </option>\n",
      " <option value=\"1289\">\n",
      "  UltraSPARC III Cu\n",
      " </option>\n",
      " <option value=\"1286\">\n",
      "  UltraSPARC IIIi\n",
      " </option>\n",
      " <option value=\"1283\">\n",
      "  UltraSPARC IIe\n",
      " </option>\n",
      " <option value=\"1282\">\n",
      "  UltraSPARC IIi\n",
      " </option>\n",
      " <option value=\"1284\">\n",
      "  UltraSPARC IIi+\n",
      " </option>\n",
      " <option value=\"1287\">\n",
      "  UltraSPARC IV\n",
      " </option>\n",
      " <option value=\"1387\">\n",
      "  Vector Engine\n",
      " </option>\n",
      " <option value=\"1318\">\n",
      "  Xeon 3100-series \"Wolfdale\"\n",
      " </option>\n",
      " <option value=\"1320\">\n",
      "  Xeon 3200-series \"Kentsfield\"\n",
      " </option>\n",
      " <option value=\"1312\">\n",
      "  Xeon 50xx (Dempsy)\n",
      " </option>\n",
      " <option value=\"1313\">\n",
      "  Xeon 5100-series \"Woodcrest\"\n",
      " </option>\n",
      " <option value=\"1348\">\n",
      "  Xeon 5200-series \"Wolfdale-DP\"\n",
      " </option>\n",
      " <option value=\"1314\">\n",
      "  Xeon 5300-series \"Clovertown\"\n",
      " </option>\n",
      " <option value=\"1315\">\n",
      "  Xeon 5400-series \"Harpertown\"\n",
      " </option>\n",
      " <option value=\"1349\">\n",
      "  Xeon 5500-series (Nehalem-EP)\n",
      " </option>\n",
      " <option value=\"1351\">\n",
      "  Xeon 5500-series (Nehalem-EX)\n",
      " </option>\n",
      " <option value=\"1350\">\n",
      "  Xeon 5600-series (Westmere-EP)\n",
      " </option>\n",
      " <option value=\"1327\">\n",
      "  Xeon 75xx (Nehalem-EX)\n",
      " </option>\n",
      " <option value=\"1323\">\n",
      "  Xeon E55xx (Nehalem-EP)\n",
      " </option>\n",
      " <option value=\"1329\">\n",
      "  Xeon E56xx (Westmere-EP)\n",
      " </option>\n",
      " <option value=\"1359\">\n",
      "  Xeon E7 (Westmere-EX)\n",
      " </option>\n",
      " <option value=\"1330\">\n",
      "  Xeon E7-48xx (Westmere-EX)\n",
      " </option>\n",
      " <option value=\"1352\">\n",
      "  Xeon E7-x8xx-series (Westmere-EX)\n",
      " </option>\n",
      " <option value=\"1303\">\n",
      "  Xeon EM64T\n",
      " </option>\n",
      " <option value=\"1375\">\n",
      "  Xeon Gold\n",
      " </option>\n",
      " <option value=\"1381\">\n",
      "  Xeon Gold 62xx (Cascade Lake)\n",
      " </option>\n",
      " <option value=\"1324\">\n",
      "  Xeon L55xx (Nehalem-EP)\n",
      " </option>\n",
      " <option value=\"1326\">\n",
      "  Xeon L56xx (Westmere-EP)\n",
      " </option>\n",
      " <option value=\"1373\">\n",
      "  Xeon Platinum\n",
      " </option>\n",
      " <option value=\"1382\">\n",
      "  Xeon Platinum 82xx (Cascade Lake)\n",
      " </option>\n",
      " <option value=\"1384\">\n",
      "  Xeon Platinum 92xx (Cascade Lake)\n",
      " </option>\n",
      " <option value=\"1378\">\n",
      "  Xeon Silver\n",
      " </option>\n",
      " <option value=\"1322\">\n",
      "  Xeon X55xx (Nehalem-EP)\n",
      " </option>\n",
      " <option value=\"1325\">\n",
      "  Xeon X56xx (Westmere-EP)\n",
      " </option>\n",
      " <option value=\"1328\">\n",
      "  Xeon X56xx (Westmere-EP)\n",
      " </option>\n",
      " <option value=\"1205\">\n",
      "  nCube\n",
      " </option>\n",
      "</select>\n"
     ]
    }
   ],
   "source": [
    "from bs4 import BeautifulSoup as bs\n",
    "import requests\n",
    "import csv\n",
    "URL='https://top500.org/statistics/sublist/'\n",
    "page=requests.get(URL)\n",
    "page.status_code\n",
    "\n",
    "soup=bs(page.content,'html')\n",
    "soup\n",
    "Processors=soup.find(id='id_procgen')\n",
    "print(Processors.prettify())"
   ]
  },
  {
   "cell_type": "code",
   "execution_count": 21,
   "metadata": {},
   "outputs": [
    {
     "data": {
      "text/plain": [
       "['7300-series \"Tigerton\"',\n",
       " 'AMD',\n",
       " 'AMD Naples',\n",
       " 'AMD Rome',\n",
       " 'Alpha',\n",
       " 'Alpha 21164',\n",
       " 'Athlon',\n",
       " 'BQC',\n",
       " 'Convex',\n",
       " 'Core 2 Duo (T5xxx)',\n",
       " 'Core 2 Duo (T6xxx)',\n",
       " 'Core 2 Duo (T7xxx)',\n",
       " 'Core 2 Extreme',\n",
       " 'Core i3',\n",
       " 'Core i5',\n",
       " 'Cray',\n",
       " 'Cray X1',\n",
       " 'Cray X1E',\n",
       " 'EV4',\n",
       " 'EV45',\n",
       " 'EV56',\n",
       " 'EV6',\n",
       " 'EV67',\n",
       " 'EV68',\n",
       " 'EV7',\n",
       " 'Fujitsu',\n",
       " 'Fujitsu A64FX',\n",
       " 'GRAPE-DR processor',\n",
       " 'HARP-1E',\n",
       " 'HP',\n",
       " 'Hitachi',\n",
       " 'Hitachi SR8000',\n",
       " 'Hygon Dhyana',\n",
       " 'IBM POWER9',\n",
       " 'IBM Power8+',\n",
       " 'IBM3090',\n",
       " 'Intel',\n",
       " 'Intel 80860',\n",
       " 'Intel Xeon E3 (Haswell)',\n",
       " 'Intel Xeon E5 (Broadwell)',\n",
       " 'Intel Xeon E5 (Haswell)',\n",
       " 'Intel Xeon E5 (IvyBridge)',\n",
       " 'Intel Xeon E5 (SandyBridge)',\n",
       " 'Intel Xeon E7 (Broadwell)',\n",
       " 'Intel Xeon E7 (Haswell-Ex)',\n",
       " 'Intel Xeon E7 (IvyBridge)',\n",
       " 'Intel Xeon Phi',\n",
       " 'Itanium',\n",
       " 'Itanium 2',\n",
       " 'Itanium 2 Fanwood',\n",
       " 'Itanium 2 Madison 9M',\n",
       " 'Itanium 2 Montecito',\n",
       " 'Itanium 2 Montvale',\n",
       " 'K7 \"Argon\"',\n",
       " 'K75 \"Pluto/Orion\"',\n",
       " 'KSR',\n",
       " 'Low Voltage Pentium Xeon',\n",
       " 'MIPS',\n",
       " 'Marvell ThunderX2',\n",
       " 'Maspar',\n",
       " 'NEC',\n",
       " 'Opteron',\n",
       " 'Opteron 4100-series \"Lisbon\"',\n",
       " 'Opteron 6100-series \"Magny-Cours\" ',\n",
       " 'Opteron 6200 Series \"Interlagos\"',\n",
       " 'Opteron 6300 Series \"Abu Dhabi\"',\n",
       " 'Opteron 6300-series \"Abu Dhabi\"',\n",
       " 'Opteron 8300-series \"Barcelona\"',\n",
       " 'Opteron 8300-series \"Shanghai\"',\n",
       " 'Opteron 8400-series \"Istanbul\"',\n",
       " 'Opteron Dual Core',\n",
       " 'Opteron Quad Core',\n",
       " 'Opteron Six Core',\n",
       " 'PA-7100',\n",
       " 'PA-7100LC',\n",
       " 'PA-7150',\n",
       " 'PA-7200',\n",
       " 'PA-7300LC',\n",
       " 'PA-8000',\n",
       " 'PA-8200',\n",
       " 'PA-8500',\n",
       " 'PA-8600',\n",
       " 'PA-8700',\n",
       " 'PA-8700+',\n",
       " 'PA-8800',\n",
       " 'PA-8900',\n",
       " 'POWER1',\n",
       " 'POWER2',\n",
       " 'POWER2 SC',\n",
       " 'POWER3',\n",
       " 'POWER4',\n",
       " 'POWER4+',\n",
       " 'POWER5',\n",
       " 'POWER5+',\n",
       " 'POWER6',\n",
       " 'POWER7',\n",
       " 'Pentium 2',\n",
       " 'Pentium 3',\n",
       " 'Pentium 4',\n",
       " 'Pentium 4 Xeon',\n",
       " 'Pentium D (8xx Series)',\n",
       " 'Pentium D (9xx Series)',\n",
       " 'Pentium Extreme Edition (8xx)',\n",
       " 'Pentium Extreme Edition (9xx)',\n",
       " 'Pentium Pro',\n",
       " 'Power',\n",
       " 'Power BQC',\n",
       " 'PowerPC',\n",
       " 'PowerPC 440',\n",
       " 'PowerPC 450',\n",
       " 'PowerPC 601',\n",
       " 'PowerPC 603',\n",
       " 'PowerPC 604e',\n",
       " 'PowerPC 970',\n",
       " 'PowerXCell 8i',\n",
       " 'R10000',\n",
       " 'R12000',\n",
       " 'R14000',\n",
       " 'R14000A',\n",
       " 'R16000',\n",
       " 'R2000',\n",
       " 'R3000',\n",
       " 'R4000',\n",
       " 'R4200',\n",
       " 'R4300',\n",
       " 'R4400',\n",
       " 'R4400SC',\n",
       " 'R4600',\n",
       " 'R5000',\n",
       " 'R8000',\n",
       " 'RS64 III',\n",
       " 'S1070',\n",
       " 'SPARC IU',\n",
       " 'SPARC64 IV',\n",
       " 'SPARC64 IXfx',\n",
       " 'SPARC64 V',\n",
       " 'SPARC64 VII',\n",
       " 'SPARC64 VIIIfx',\n",
       " 'SPARC64 XIfx',\n",
       " 'ShenWei',\n",
       " 'Sparc',\n",
       " 'Sunway',\n",
       " 'SuperSPARC I',\n",
       " 'SuperSPARC II',\n",
       " 'TMC CM2',\n",
       " 'Thunderbird',\n",
       " 'Transputer T8',\n",
       " 'UltraSPARC I',\n",
       " 'UltraSPARC II',\n",
       " 'UltraSPARC III',\n",
       " 'UltraSPARC III Cu',\n",
       " 'UltraSPARC IIIi',\n",
       " 'UltraSPARC IIe',\n",
       " 'UltraSPARC IIi',\n",
       " 'UltraSPARC IIi+',\n",
       " 'UltraSPARC IV',\n",
       " 'Vector Engine',\n",
       " 'Xeon 3100-series \"Wolfdale\"',\n",
       " 'Xeon 3200-series \"Kentsfield\"',\n",
       " 'Xeon 50xx (Dempsy)',\n",
       " 'Xeon 5100-series \"Woodcrest\"',\n",
       " 'Xeon 5200-series \"Wolfdale-DP\"',\n",
       " 'Xeon 5300-series \"Clovertown\"',\n",
       " 'Xeon 5400-series \"Harpertown\"',\n",
       " 'Xeon 5500-series (Nehalem-EP)',\n",
       " 'Xeon 5500-series (Nehalem-EX)',\n",
       " 'Xeon 5600-series (Westmere-EP)',\n",
       " 'Xeon 75xx (Nehalem-EX)',\n",
       " 'Xeon E55xx (Nehalem-EP)',\n",
       " 'Xeon E56xx (Westmere-EP)',\n",
       " 'Xeon E7 (Westmere-EX)',\n",
       " 'Xeon E7-48xx (Westmere-EX)',\n",
       " 'Xeon E7-x8xx-series (Westmere-EX)',\n",
       " 'Xeon EM64T',\n",
       " 'Xeon Gold',\n",
       " 'Xeon Gold 62xx (Cascade Lake)',\n",
       " 'Xeon L55xx (Nehalem-EP)',\n",
       " 'Xeon L56xx (Westmere-EP)',\n",
       " 'Xeon Platinum',\n",
       " 'Xeon Platinum 82xx (Cascade Lake)',\n",
       " 'Xeon Platinum 92xx (Cascade Lake)',\n",
       " 'Xeon Silver',\n",
       " 'Xeon X55xx (Nehalem-EP)',\n",
       " 'Xeon X56xx (Westmere-EP)',\n",
       " 'Xeon X56xx (Westmere-EP)',\n",
       " 'nCube']"
      ]
     },
     "execution_count": 21,
     "metadata": {},
     "output_type": "execute_result"
    }
   ],
   "source": [
    "items = soup.select('[name=procgen] option[value]')\n",
    "values = [item.get('value') for item in items]\n",
    "textValues = [item.text for item in items]\n",
    "textValues=textValues[1:]\n",
    "textValues"
   ]
  },
  {
   "cell_type": "code",
   "execution_count": 252,
   "metadata": {},
   "outputs": [
    {
     "data": {
      "text/plain": [
       " Xeon Gold 6148 20C 2.4GHz         7\n",
       " A64FX 48C 2.2GHz                  3\n",
       " Xeon Platinum 8160  24C 2.1GHz    2\n",
       " Intel Xeon Phi 7250 68C 1.4GHz    2\n",
       " Xeon Gold 6248 20C 2.5GHz         1\n",
       "Name: System, dtype: int64"
      ]
     },
     "execution_count": 252,
     "metadata": {},
     "output_type": "execute_result"
    }
   ],
   "source": [
    "JapanProcessors = pd.DataFrame(japan['System'].str.rstrip(',').str.split(',').str[1])\n",
    "JapanProcessors\n",
    "JapanProcessors['System'].value_counts().head()"
   ]
  },
  {
   "cell_type": "code",
   "execution_count": 253,
   "metadata": {},
   "outputs": [
    {
     "data": {
      "text/plain": [
       " Xeon E5-2673v4 20C 2.3GHz        44\n",
       " Xeon Platinum 8168 24C 2.7GHz     4\n",
       " Xeon E5-2695v4 18C 2.1GHz         4\n",
       " Xeon Platinum 8268 24C 2.9GHz     4\n",
       " Xeon Gold 6148 20C 2.4GHz         4\n",
       "Name: System, dtype: int64"
      ]
     },
     "execution_count": 253,
     "metadata": {},
     "output_type": "execute_result"
    }
   ],
   "source": [
    "USAProcessors = pd.DataFrame(usa['System'].str.rstrip(',').str.split(',').str[1])\n",
    "USAProcessors\n",
    "USAProcessors['System'].value_counts().head()"
   ]
  },
  {
   "cell_type": "code",
   "execution_count": 254,
   "metadata": {},
   "outputs": [
    {
     "data": {
      "text/plain": [
       " Xeon Gold 6133 20C 2.5GHz    34\n",
       " Xeon Gold 6130 16C 2.1GHz    18\n",
       " Xeon Gold 6148 20C 2.4GHz    15\n",
       " Xeon Gold 5118 12C 2.3GHz    13\n",
       " Xeon E5-2680v4 14C 2.4GHz    10\n",
       "Name: System, dtype: int64"
      ]
     },
     "execution_count": 254,
     "metadata": {},
     "output_type": "execute_result"
    }
   ],
   "source": [
    "ChinaProcessors = pd.DataFrame(china['System'].str.rstrip(',').str.split(',').str[1])\n",
    "ChinaProcessors\n",
    "ChinaProcessors['System'].value_counts().head()"
   ]
  },
  {
   "cell_type": "code",
   "execution_count": 178,
   "metadata": {
    "scrolled": false
   },
   "outputs": [
    {
     "name": "stdout",
     "output_type": "stream",
     "text": [
      "0 7300-series \"Tigerton\"           ----------------- 0\n",
      "1 AMD           ----------------- 7\n",
      "2 AMD Naples           ----------------- 0\n",
      "3 AMD Rome           ----------------- 0\n",
      "4 Alpha           ----------------- 0\n",
      "5 Alpha 21164           ----------------- 0\n",
      "6 Athlon           ----------------- 0\n",
      "7 BQC           ----------------- 0\n",
      "8 Convex           ----------------- 0\n",
      "9 Core 2 Duo (T5xxx)           ----------------- 0\n",
      "10 Core 2 Duo (T6xxx)           ----------------- 0\n",
      "11 Core 2 Duo (T7xxx)           ----------------- 0\n",
      "12 Core 2 Extreme           ----------------- 0\n",
      "13 Core i3           ----------------- 0\n",
      "14 Core i5           ----------------- 0\n",
      "15 Cray           ----------------- 14\n",
      "16 Cray X1           ----------------- 0\n",
      "17 Cray X1E           ----------------- 0\n",
      "18 EV4           ----------------- 0\n",
      "19 EV45           ----------------- 0\n",
      "20 EV56           ----------------- 0\n",
      "21 EV6           ----------------- 0\n",
      "22 EV67           ----------------- 0\n",
      "23 EV68           ----------------- 0\n",
      "24 EV7           ----------------- 0\n",
      "25 Fujitsu           ----------------- 0\n",
      "26 Fujitsu A64FX           ----------------- 0\n",
      "27 GRAPE-DR processor           ----------------- 0\n",
      "28 HARP-1E           ----------------- 0\n",
      "29 HP           ----------------- 37\n",
      "30 Hitachi           ----------------- 0\n",
      "31 Hitachi SR8000           ----------------- 0\n",
      "32 Hygon Dhyana           ----------------- 0\n",
      "33 IBM POWER9           ----------------- 6\n",
      "34 IBM Power8+           ----------------- 0\n",
      "35 IBM3090           ----------------- 0\n",
      "36 Intel           ----------------- 24\n",
      "37 Intel 80860           ----------------- 0\n",
      "38 Intel Xeon E3 (Haswell)           ----------------- 0\n",
      "39 Intel Xeon E5 (Broadwell)           ----------------- 0\n",
      "40 Intel Xeon E5 (Haswell)           ----------------- 0\n",
      "41 Intel Xeon E5 (IvyBridge)           ----------------- 0\n",
      "42 Intel Xeon E5 (SandyBridge)           ----------------- 0\n",
      "43 Intel Xeon E7 (Broadwell)           ----------------- 0\n",
      "44 Intel Xeon E7 (Haswell-Ex)           ----------------- 0\n",
      "45 Intel Xeon E7 (IvyBridge)           ----------------- 0\n",
      "46 Intel Xeon Phi           ----------------- 6\n",
      "47 Itanium           ----------------- 0\n",
      "48 Itanium 2           ----------------- 0\n",
      "49 Itanium 2 Fanwood           ----------------- 0\n",
      "50 Itanium 2 Madison 9M           ----------------- 0\n",
      "51 Itanium 2 Montecito           ----------------- 0\n",
      "52 Itanium 2 Montvale           ----------------- 0\n",
      "53 K7 \"Argon\"           ----------------- 0\n",
      "54 K75 \"Pluto/Orion\"           ----------------- 0\n",
      "55 KSR           ----------------- 0\n",
      "56 Low Voltage Pentium Xeon           ----------------- 0\n",
      "57 MIPS           ----------------- 0\n",
      "58 Marvell ThunderX2           ----------------- 1\n",
      "59 Maspar           ----------------- 0\n",
      "60 NEC           ----------------- 0\n",
      "61 Opteron           ----------------- 0\n",
      "62 Opteron 4100-series \"Lisbon\"           ----------------- 0\n",
      "63 Opteron 6100-series \"Magny-Cours\"            ----------------- 0\n",
      "64 Opteron 6200 Series \"Interlagos\"           ----------------- 0\n",
      "65 Opteron 6300 Series \"Abu Dhabi\"           ----------------- 0\n",
      "66 Opteron 6300-series \"Abu Dhabi\"           ----------------- 0\n",
      "67 Opteron 8300-series \"Barcelona\"           ----------------- 0\n",
      "68 Opteron 8300-series \"Shanghai\"           ----------------- 0\n",
      "69 Opteron 8400-series \"Istanbul\"           ----------------- 0\n",
      "70 Opteron Dual Core           ----------------- 0\n",
      "71 Opteron Quad Core           ----------------- 0\n",
      "72 Opteron Six Core           ----------------- 0\n",
      "73 PA-7100           ----------------- 0\n",
      "74 PA-7100LC           ----------------- 0\n",
      "75 PA-7150           ----------------- 0\n",
      "76 PA-7200           ----------------- 0\n",
      "77 PA-7300LC           ----------------- 0\n",
      "78 PA-8000           ----------------- 0\n",
      "79 PA-8200           ----------------- 0\n",
      "80 PA-8500           ----------------- 0\n",
      "81 PA-8600           ----------------- 0\n",
      "82 PA-8700           ----------------- 0\n",
      "83 PA-8700+           ----------------- 0\n",
      "84 PA-8800           ----------------- 0\n",
      "85 PA-8900           ----------------- 0\n",
      "86 POWER1           ----------------- 0\n",
      "87 POWER2           ----------------- 0\n",
      "88 POWER2 SC           ----------------- 0\n",
      "89 POWER3           ----------------- 0\n",
      "90 POWER4           ----------------- 0\n",
      "91 POWER4+           ----------------- 0\n",
      "92 POWER5           ----------------- 0\n",
      "93 POWER5+           ----------------- 0\n",
      "94 POWER6           ----------------- 0\n",
      "95 POWER7           ----------------- 1\n",
      "96 Pentium 2           ----------------- 0\n",
      "97 Pentium 3           ----------------- 0\n",
      "98 Pentium 4           ----------------- 0\n",
      "99 Pentium 4 Xeon           ----------------- 0\n",
      "100 Pentium D (8xx Series)           ----------------- 0\n",
      "101 Pentium D (9xx Series)           ----------------- 0\n",
      "102 Pentium Extreme Edition (8xx)           ----------------- 0\n",
      "103 Pentium Extreme Edition (9xx)           ----------------- 0\n",
      "104 Pentium Pro           ----------------- 0\n",
      "105 Power           ----------------- 12\n",
      "106 Power BQC           ----------------- 0\n",
      "107 PowerPC           ----------------- 0\n",
      "108 PowerPC 440           ----------------- 0\n",
      "109 PowerPC 450           ----------------- 0\n",
      "110 PowerPC 601           ----------------- 0\n",
      "111 PowerPC 603           ----------------- 0\n",
      "112 PowerPC 604e           ----------------- 0\n",
      "113 PowerPC 970           ----------------- 0\n",
      "114 PowerXCell 8i           ----------------- 0\n",
      "115 R10000           ----------------- 0\n",
      "116 R12000           ----------------- 0\n",
      "117 R14000           ----------------- 0\n",
      "118 R14000A           ----------------- 0\n",
      "119 R16000           ----------------- 0\n",
      "120 R2000           ----------------- 0\n",
      "121 R3000           ----------------- 0\n",
      "122 R4000           ----------------- 0\n",
      "123 R4200           ----------------- 0\n",
      "124 R4300           ----------------- 0\n",
      "125 R4400           ----------------- 0\n",
      "126 R4400SC           ----------------- 0\n",
      "127 R4600           ----------------- 0\n",
      "128 R5000           ----------------- 0\n",
      "129 R8000           ----------------- 0\n",
      "130 RS64 III           ----------------- 0\n",
      "131 S1070           ----------------- 0\n",
      "132 SPARC IU           ----------------- 0\n",
      "133 SPARC64 IV           ----------------- 0\n",
      "134 SPARC64 IXfx           ----------------- 0\n",
      "135 SPARC64 V           ----------------- 0\n",
      "136 SPARC64 VII           ----------------- 0\n",
      "137 SPARC64 VIIIfx           ----------------- 0\n",
      "138 SPARC64 XIfx           ----------------- 0\n",
      "139 ShenWei           ----------------- 0\n",
      "140 Sparc           ----------------- 0\n",
      "141 Sunway           ----------------- 0\n",
      "142 SuperSPARC I           ----------------- 0\n",
      "143 SuperSPARC II           ----------------- 0\n",
      "144 TMC CM2           ----------------- 0\n",
      "145 Thunderbird           ----------------- 0\n",
      "146 Transputer T8           ----------------- 0\n",
      "147 UltraSPARC I           ----------------- 0\n",
      "148 UltraSPARC II           ----------------- 0\n",
      "149 UltraSPARC III           ----------------- 0\n",
      "150 UltraSPARC III Cu           ----------------- 0\n",
      "151 UltraSPARC IIIi           ----------------- 0\n",
      "152 UltraSPARC IIe           ----------------- 0\n",
      "153 UltraSPARC IIi           ----------------- 0\n",
      "154 UltraSPARC IIi+           ----------------- 0\n",
      "155 UltraSPARC IV           ----------------- 0\n",
      "156 Vector Engine           ----------------- 0\n",
      "157 Xeon 3100-series \"Wolfdale\"           ----------------- 0\n",
      "158 Xeon 3200-series \"Kentsfield\"           ----------------- 0\n",
      "159 Xeon 50xx (Dempsy)           ----------------- 0\n",
      "160 Xeon 5100-series \"Woodcrest\"           ----------------- 0\n",
      "161 Xeon 5200-series \"Wolfdale-DP\"           ----------------- 0\n",
      "162 Xeon 5300-series \"Clovertown\"           ----------------- 0\n",
      "163 Xeon 5400-series \"Harpertown\"           ----------------- 0\n",
      "164 Xeon 5500-series (Nehalem-EP)           ----------------- 0\n",
      "165 Xeon 5500-series (Nehalem-EX)           ----------------- 0\n",
      "166 Xeon 5600-series (Westmere-EP)           ----------------- 0\n",
      "167 Xeon 75xx (Nehalem-EX)           ----------------- 0\n",
      "168 Xeon E55xx (Nehalem-EP)           ----------------- 0\n",
      "169 Xeon E56xx (Westmere-EP)           ----------------- 0\n",
      "170 Xeon E7 (Westmere-EX)           ----------------- 0\n",
      "171 Xeon E7-48xx (Westmere-EX)           ----------------- 0\n",
      "172 Xeon E7-x8xx-series (Westmere-EX)           ----------------- 0\n",
      "173 Xeon EM64T           ----------------- 0\n",
      "174 Xeon Gold           ----------------- 12\n",
      "175 Xeon Gold 62xx (Cascade Lake)           ----------------- 0\n",
      "176 Xeon L55xx (Nehalem-EP)           ----------------- 0\n",
      "177 Xeon L56xx (Westmere-EP)           ----------------- 0\n",
      "178 Xeon Platinum           ----------------- 12\n",
      "179 Xeon Platinum 82xx (Cascade Lake)           ----------------- 0\n",
      "180 Xeon Platinum 92xx (Cascade Lake)           ----------------- 0\n",
      "181 Xeon Silver           ----------------- 0\n",
      "182 Xeon X55xx (Nehalem-EP)           ----------------- 0\n",
      "183 Xeon X56xx (Westmere-EP)           ----------------- 0\n",
      "184 Xeon X56xx (Westmere-EP)           ----------------- 0\n",
      "185 nCube           ----------------- 0\n",
      "**********************************************************************************************************************\n",
      "0 7300-series \"Tigerton\"           ----------------- 0\n",
      "1 AMD           ----------------- 1\n",
      "2 AMD Naples           ----------------- 0\n",
      "3 AMD Rome           ----------------- 0\n",
      "4 Alpha           ----------------- 0\n",
      "5 Alpha 21164           ----------------- 0\n",
      "6 Athlon           ----------------- 0\n",
      "7 BQC           ----------------- 0\n",
      "8 Convex           ----------------- 0\n",
      "9 Core 2 Duo (T5xxx)           ----------------- 0\n",
      "10 Core 2 Duo (T6xxx)           ----------------- 0\n",
      "11 Core 2 Duo (T7xxx)           ----------------- 0\n",
      "12 Core 2 Extreme           ----------------- 0\n",
      "13 Core i3           ----------------- 0\n",
      "14 Core i5           ----------------- 0\n",
      "15 Cray           ----------------- 5\n",
      "16 Cray X1           ----------------- 0\n",
      "17 Cray X1E           ----------------- 0\n",
      "18 EV4           ----------------- 0\n",
      "19 EV45           ----------------- 0\n",
      "20 EV56           ----------------- 0\n",
      "21 EV6           ----------------- 0\n",
      "22 EV67           ----------------- 0\n",
      "23 EV68           ----------------- 0\n",
      "24 EV7           ----------------- 0\n",
      "25 Fujitsu           ----------------- 14\n",
      "26 Fujitsu A64FX           ----------------- 1\n",
      "27 GRAPE-DR processor           ----------------- 0\n",
      "28 HARP-1E           ----------------- 0\n",
      "29 HP           ----------------- 14\n",
      "30 Hitachi           ----------------- 2\n",
      "31 Hitachi SR8000           ----------------- 0\n",
      "32 Hygon Dhyana           ----------------- 0\n",
      "33 IBM POWER9           ----------------- 0\n",
      "34 IBM Power8+           ----------------- 0\n",
      "35 IBM3090           ----------------- 0\n",
      "36 Intel           ----------------- 8\n",
      "37 Intel 80860           ----------------- 0\n",
      "38 Intel Xeon E3 (Haswell)           ----------------- 0\n",
      "39 Intel Xeon E5 (Broadwell)           ----------------- 0\n",
      "40 Intel Xeon E5 (Haswell)           ----------------- 0\n",
      "41 Intel Xeon E5 (IvyBridge)           ----------------- 0\n",
      "42 Intel Xeon E5 (SandyBridge)           ----------------- 0\n",
      "43 Intel Xeon E7 (Broadwell)           ----------------- 0\n",
      "44 Intel Xeon E7 (Haswell-Ex)           ----------------- 0\n",
      "45 Intel Xeon E7 (IvyBridge)           ----------------- 0\n",
      "46 Intel Xeon Phi           ----------------- 2\n",
      "47 Itanium           ----------------- 0\n",
      "48 Itanium 2           ----------------- 0\n",
      "49 Itanium 2 Fanwood           ----------------- 0\n",
      "50 Itanium 2 Madison 9M           ----------------- 0\n",
      "51 Itanium 2 Montecito           ----------------- 0\n",
      "52 Itanium 2 Montvale           ----------------- 0\n",
      "53 K7 \"Argon\"           ----------------- 0\n",
      "54 K75 \"Pluto/Orion\"           ----------------- 0\n",
      "55 KSR           ----------------- 0\n",
      "56 Low Voltage Pentium Xeon           ----------------- 0\n",
      "57 MIPS           ----------------- 0\n",
      "58 Marvell ThunderX2           ----------------- 0\n",
      "59 Maspar           ----------------- 0\n",
      "60 NEC           ----------------- 3\n",
      "61 Opteron           ----------------- 0\n",
      "62 Opteron 4100-series \"Lisbon\"           ----------------- 0\n",
      "63 Opteron 6100-series \"Magny-Cours\"            ----------------- 0\n",
      "64 Opteron 6200 Series \"Interlagos\"           ----------------- 0\n",
      "65 Opteron 6300 Series \"Abu Dhabi\"           ----------------- 0\n",
      "66 Opteron 6300-series \"Abu Dhabi\"           ----------------- 0\n",
      "67 Opteron 8300-series \"Barcelona\"           ----------------- 0\n",
      "68 Opteron 8300-series \"Shanghai\"           ----------------- 0\n",
      "69 Opteron 8400-series \"Istanbul\"           ----------------- 0\n",
      "70 Opteron Dual Core           ----------------- 0\n",
      "71 Opteron Quad Core           ----------------- 0\n",
      "72 Opteron Six Core           ----------------- 0\n",
      "73 PA-7100           ----------------- 0\n",
      "74 PA-7100LC           ----------------- 0\n",
      "75 PA-7150           ----------------- 0\n",
      "76 PA-7200           ----------------- 0\n",
      "77 PA-7300LC           ----------------- 0\n",
      "78 PA-8000           ----------------- 0\n",
      "79 PA-8200           ----------------- 0\n",
      "80 PA-8500           ----------------- 0\n",
      "81 PA-8600           ----------------- 0\n",
      "82 PA-8700           ----------------- 0\n",
      "83 PA-8700+           ----------------- 0\n",
      "84 PA-8800           ----------------- 0\n",
      "85 PA-8900           ----------------- 0\n",
      "86 POWER1           ----------------- 0\n",
      "87 POWER2           ----------------- 0\n",
      "88 POWER2 SC           ----------------- 0\n",
      "89 POWER3           ----------------- 0\n",
      "90 POWER4           ----------------- 0\n",
      "91 POWER4+           ----------------- 0\n",
      "92 POWER5           ----------------- 0\n",
      "93 POWER5+           ----------------- 0\n",
      "94 POWER6           ----------------- 0\n",
      "95 POWER7           ----------------- 0\n",
      "96 Pentium 2           ----------------- 0\n",
      "97 Pentium 3           ----------------- 0\n",
      "98 Pentium 4           ----------------- 0\n",
      "99 Pentium 4 Xeon           ----------------- 0\n",
      "100 Pentium D (8xx Series)           ----------------- 0\n",
      "101 Pentium D (9xx Series)           ----------------- 0\n",
      "102 Pentium Extreme Edition (8xx)           ----------------- 0\n",
      "103 Pentium Extreme Edition (9xx)           ----------------- 0\n",
      "104 Pentium Pro           ----------------- 0\n",
      "105 Power           ----------------- 2\n",
      "106 Power BQC           ----------------- 0\n",
      "107 PowerPC           ----------------- 0\n",
      "108 PowerPC 440           ----------------- 0\n",
      "109 PowerPC 450           ----------------- 0\n",
      "110 PowerPC 601           ----------------- 0\n",
      "111 PowerPC 603           ----------------- 0\n",
      "112 PowerPC 604e           ----------------- 0\n",
      "113 PowerPC 970           ----------------- 0\n",
      "114 PowerXCell 8i           ----------------- 0\n",
      "115 R10000           ----------------- 0\n",
      "116 R12000           ----------------- 0\n",
      "117 R14000           ----------------- 0\n",
      "118 R14000A           ----------------- 0\n",
      "119 R16000           ----------------- 0\n",
      "120 R2000           ----------------- 0\n",
      "121 R3000           ----------------- 0\n",
      "122 R4000           ----------------- 0\n",
      "123 R4200           ----------------- 0\n",
      "124 R4300           ----------------- 0\n",
      "125 R4400           ----------------- 0\n",
      "126 R4400SC           ----------------- 0\n",
      "127 R4600           ----------------- 0\n",
      "128 R5000           ----------------- 0\n",
      "129 R8000           ----------------- 0\n",
      "130 RS64 III           ----------------- 0\n",
      "131 S1070           ----------------- 0\n",
      "132 SPARC IU           ----------------- 0\n",
      "133 SPARC64 IV           ----------------- 0\n",
      "134 SPARC64 IXfx           ----------------- 0\n",
      "135 SPARC64 V           ----------------- 0\n",
      "136 SPARC64 VII           ----------------- 0\n",
      "137 SPARC64 VIIIfx           ----------------- 0\n",
      "138 SPARC64 XIfx           ----------------- 1\n",
      "139 ShenWei           ----------------- 0\n",
      "140 Sparc           ----------------- 0\n",
      "141 Sunway           ----------------- 0\n",
      "142 SuperSPARC I           ----------------- 0\n",
      "143 SuperSPARC II           ----------------- 0\n",
      "144 TMC CM2           ----------------- 0\n",
      "145 Thunderbird           ----------------- 0\n",
      "146 Transputer T8           ----------------- 0\n",
      "147 UltraSPARC I           ----------------- 0\n",
      "148 UltraSPARC II           ----------------- 0\n",
      "149 UltraSPARC III           ----------------- 0\n",
      "150 UltraSPARC III Cu           ----------------- 0\n",
      "151 UltraSPARC IIIi           ----------------- 0\n",
      "152 UltraSPARC IIe           ----------------- 0\n",
      "153 UltraSPARC IIi           ----------------- 0\n",
      "154 UltraSPARC IIi+           ----------------- 0\n",
      "155 UltraSPARC IV           ----------------- 0\n",
      "156 Vector Engine           ----------------- 1\n",
      "157 Xeon 3100-series \"Wolfdale\"           ----------------- 0\n",
      "158 Xeon 3200-series \"Kentsfield\"           ----------------- 0\n",
      "159 Xeon 50xx (Dempsy)           ----------------- 0\n",
      "160 Xeon 5100-series \"Woodcrest\"           ----------------- 0\n",
      "161 Xeon 5200-series \"Wolfdale-DP\"           ----------------- 0\n",
      "162 Xeon 5300-series \"Clovertown\"           ----------------- 0\n",
      "163 Xeon 5400-series \"Harpertown\"           ----------------- 0\n",
      "164 Xeon 5500-series (Nehalem-EP)           ----------------- 0\n",
      "165 Xeon 5500-series (Nehalem-EX)           ----------------- 0\n",
      "166 Xeon 5600-series (Westmere-EP)           ----------------- 0\n",
      "167 Xeon 75xx (Nehalem-EX)           ----------------- 0\n",
      "168 Xeon E55xx (Nehalem-EP)           ----------------- 0\n",
      "169 Xeon E56xx (Westmere-EP)           ----------------- 0\n",
      "170 Xeon E7 (Westmere-EX)           ----------------- 0\n",
      "171 Xeon E7-48xx (Westmere-EX)           ----------------- 0\n",
      "172 Xeon E7-x8xx-series (Westmere-EX)           ----------------- 0\n",
      "173 Xeon EM64T           ----------------- 0\n",
      "174 Xeon Gold           ----------------- 16\n",
      "175 Xeon Gold 62xx (Cascade Lake)           ----------------- 0\n",
      "176 Xeon L55xx (Nehalem-EP)           ----------------- 0\n",
      "177 Xeon L56xx (Westmere-EP)           ----------------- 0\n",
      "178 Xeon Platinum           ----------------- 5\n",
      "179 Xeon Platinum 82xx (Cascade Lake)           ----------------- 0\n",
      "180 Xeon Platinum 92xx (Cascade Lake)           ----------------- 0\n",
      "181 Xeon Silver           ----------------- 0\n",
      "182 Xeon X55xx (Nehalem-EP)           ----------------- 0\n",
      "183 Xeon X56xx (Westmere-EP)           ----------------- 0\n",
      "184 Xeon X56xx (Westmere-EP)           ----------------- 0\n",
      "185 nCube           ----------------- 0\n",
      "**********************************************************************************************************************\n",
      "0 7300-series \"Tigerton\"           ----------------- 0\n",
      "1 AMD           ----------------- 1\n",
      "2 AMD Naples           ----------------- 0\n",
      "3 AMD Rome           ----------------- 0\n",
      "4 Alpha           ----------------- 0\n",
      "5 Alpha 21164           ----------------- 0\n",
      "6 Athlon           ----------------- 0\n",
      "7 BQC           ----------------- 0\n",
      "8 Convex           ----------------- 0\n",
      "9 Core 2 Duo (T5xxx)           ----------------- 0\n",
      "10 Core 2 Duo (T6xxx)           ----------------- 0\n",
      "11 Core 2 Duo (T7xxx)           ----------------- 0\n",
      "12 Core 2 Extreme           ----------------- 0\n",
      "13 Core i3           ----------------- 0\n",
      "14 Core i5           ----------------- 0\n",
      "15 Cray           ----------------- 0\n",
      "16 Cray X1           ----------------- 0\n",
      "17 Cray X1E           ----------------- 0\n",
      "18 EV4           ----------------- 0\n",
      "19 EV45           ----------------- 0\n",
      "20 EV56           ----------------- 0\n",
      "21 EV6           ----------------- 0\n",
      "22 EV67           ----------------- 0\n",
      "23 EV68           ----------------- 0\n",
      "24 EV7           ----------------- 0\n",
      "25 Fujitsu           ----------------- 0\n",
      "26 Fujitsu A64FX           ----------------- 0\n",
      "27 GRAPE-DR processor           ----------------- 0\n",
      "28 HARP-1E           ----------------- 0\n",
      "29 HP           ----------------- 5\n",
      "30 Hitachi           ----------------- 0\n",
      "31 Hitachi SR8000           ----------------- 0\n",
      "32 Hygon Dhyana           ----------------- 1\n",
      "33 IBM POWER9           ----------------- 0\n",
      "34 IBM Power8+           ----------------- 0\n",
      "35 IBM3090           ----------------- 0\n",
      "36 Intel           ----------------- 6\n",
      "37 Intel 80860           ----------------- 0\n",
      "38 Intel Xeon E3 (Haswell)           ----------------- 0\n",
      "39 Intel Xeon E5 (Broadwell)           ----------------- 0\n",
      "40 Intel Xeon E5 (Haswell)           ----------------- 0\n",
      "41 Intel Xeon E5 (IvyBridge)           ----------------- 0\n",
      "42 Intel Xeon E5 (SandyBridge)           ----------------- 0\n",
      "43 Intel Xeon E7 (Broadwell)           ----------------- 0\n",
      "44 Intel Xeon E7 (Haswell-Ex)           ----------------- 0\n",
      "45 Intel Xeon E7 (IvyBridge)           ----------------- 0\n",
      "46 Intel Xeon Phi           ----------------- 1\n",
      "47 Itanium           ----------------- 0\n",
      "48 Itanium 2           ----------------- 0\n",
      "49 Itanium 2 Fanwood           ----------------- 0\n",
      "50 Itanium 2 Madison 9M           ----------------- 0\n",
      "51 Itanium 2 Montecito           ----------------- 0\n",
      "52 Itanium 2 Montvale           ----------------- 0\n",
      "53 K7 \"Argon\"           ----------------- 0\n",
      "54 K75 \"Pluto/Orion\"           ----------------- 0\n",
      "55 KSR           ----------------- 0\n",
      "56 Low Voltage Pentium Xeon           ----------------- 0\n",
      "57 MIPS           ----------------- 0\n",
      "58 Marvell ThunderX2           ----------------- 0\n",
      "59 Maspar           ----------------- 0\n",
      "60 NEC           ----------------- 0\n",
      "61 Opteron           ----------------- 0\n",
      "62 Opteron 4100-series \"Lisbon\"           ----------------- 0\n",
      "63 Opteron 6100-series \"Magny-Cours\"            ----------------- 0\n",
      "64 Opteron 6200 Series \"Interlagos\"           ----------------- 0\n",
      "65 Opteron 6300 Series \"Abu Dhabi\"           ----------------- 0\n",
      "66 Opteron 6300-series \"Abu Dhabi\"           ----------------- 0\n",
      "67 Opteron 8300-series \"Barcelona\"           ----------------- 0\n",
      "68 Opteron 8300-series \"Shanghai\"           ----------------- 0\n",
      "69 Opteron 8400-series \"Istanbul\"           ----------------- 0\n",
      "70 Opteron Dual Core           ----------------- 0\n",
      "71 Opteron Quad Core           ----------------- 0\n",
      "72 Opteron Six Core           ----------------- 0\n",
      "73 PA-7100           ----------------- 0\n",
      "74 PA-7100LC           ----------------- 0\n",
      "75 PA-7150           ----------------- 0\n",
      "76 PA-7200           ----------------- 0\n",
      "77 PA-7300LC           ----------------- 0\n",
      "78 PA-8000           ----------------- 0\n",
      "79 PA-8200           ----------------- 0\n",
      "80 PA-8500           ----------------- 0\n",
      "81 PA-8600           ----------------- 0\n",
      "82 PA-8700           ----------------- 0\n",
      "83 PA-8700+           ----------------- 0\n",
      "84 PA-8800           ----------------- 0\n",
      "85 PA-8900           ----------------- 0\n",
      "86 POWER1           ----------------- 0\n",
      "87 POWER2           ----------------- 0\n",
      "88 POWER2 SC           ----------------- 0\n",
      "89 POWER3           ----------------- 0\n",
      "90 POWER4           ----------------- 0\n",
      "91 POWER4+           ----------------- 0\n",
      "92 POWER5           ----------------- 0\n",
      "93 POWER5+           ----------------- 0\n",
      "94 POWER6           ----------------- 0\n",
      "95 POWER7           ----------------- 0\n",
      "96 Pentium 2           ----------------- 0\n",
      "97 Pentium 3           ----------------- 0\n",
      "98 Pentium 4           ----------------- 0\n",
      "99 Pentium 4 Xeon           ----------------- 0\n",
      "100 Pentium D (8xx Series)           ----------------- 0\n",
      "101 Pentium D (9xx Series)           ----------------- 0\n",
      "102 Pentium Extreme Edition (8xx)           ----------------- 0\n",
      "103 Pentium Extreme Edition (9xx)           ----------------- 0\n",
      "104 Pentium Pro           ----------------- 0\n",
      "105 Power           ----------------- 0\n",
      "106 Power BQC           ----------------- 0\n",
      "107 PowerPC           ----------------- 0\n",
      "108 PowerPC 440           ----------------- 0\n",
      "109 PowerPC 450           ----------------- 0\n",
      "110 PowerPC 601           ----------------- 0\n",
      "111 PowerPC 603           ----------------- 0\n",
      "112 PowerPC 604e           ----------------- 0\n",
      "113 PowerPC 970           ----------------- 0\n",
      "114 PowerXCell 8i           ----------------- 0\n",
      "115 R10000           ----------------- 0\n",
      "116 R12000           ----------------- 0\n",
      "117 R14000           ----------------- 0\n",
      "118 R14000A           ----------------- 0\n",
      "119 R16000           ----------------- 0\n",
      "120 R2000           ----------------- 0\n",
      "121 R3000           ----------------- 0\n",
      "122 R4000           ----------------- 0\n",
      "123 R4200           ----------------- 0\n",
      "124 R4300           ----------------- 0\n",
      "125 R4400           ----------------- 0\n",
      "126 R4400SC           ----------------- 0\n",
      "127 R4600           ----------------- 0\n",
      "128 R5000           ----------------- 0\n",
      "129 R8000           ----------------- 0\n",
      "130 RS64 III           ----------------- 0\n",
      "131 S1070           ----------------- 0\n",
      "132 SPARC IU           ----------------- 0\n",
      "133 SPARC64 IV           ----------------- 0\n",
      "134 SPARC64 IXfx           ----------------- 0\n",
      "135 SPARC64 V           ----------------- 0\n",
      "136 SPARC64 VII           ----------------- 0\n",
      "137 SPARC64 VIIIfx           ----------------- 0\n",
      "138 SPARC64 XIfx           ----------------- 0\n",
      "139 ShenWei           ----------------- 0\n",
      "140 Sparc           ----------------- 0\n",
      "141 Sunway           ----------------- 1\n",
      "142 SuperSPARC I           ----------------- 0\n",
      "143 SuperSPARC II           ----------------- 0\n",
      "144 TMC CM2           ----------------- 0\n",
      "145 Thunderbird           ----------------- 0\n",
      "146 Transputer T8           ----------------- 0\n",
      "147 UltraSPARC I           ----------------- 0\n",
      "148 UltraSPARC II           ----------------- 0\n",
      "149 UltraSPARC III           ----------------- 0\n",
      "150 UltraSPARC III Cu           ----------------- 0\n",
      "151 UltraSPARC IIIi           ----------------- 0\n",
      "152 UltraSPARC IIe           ----------------- 0\n",
      "153 UltraSPARC IIi           ----------------- 0\n",
      "154 UltraSPARC IIi+           ----------------- 0\n",
      "155 UltraSPARC IV           ----------------- 0\n",
      "156 Vector Engine           ----------------- 0\n",
      "157 Xeon 3100-series \"Wolfdale\"           ----------------- 0\n",
      "158 Xeon 3200-series \"Kentsfield\"           ----------------- 0\n",
      "159 Xeon 50xx (Dempsy)           ----------------- 0\n",
      "160 Xeon 5100-series \"Woodcrest\"           ----------------- 0\n",
      "161 Xeon 5200-series \"Wolfdale-DP\"           ----------------- 0\n",
      "162 Xeon 5300-series \"Clovertown\"           ----------------- 0\n",
      "163 Xeon 5400-series \"Harpertown\"           ----------------- 0\n",
      "164 Xeon 5500-series (Nehalem-EP)           ----------------- 0\n",
      "165 Xeon 5500-series (Nehalem-EX)           ----------------- 0\n",
      "166 Xeon 5600-series (Westmere-EP)           ----------------- 0\n",
      "167 Xeon 75xx (Nehalem-EX)           ----------------- 0\n",
      "168 Xeon E55xx (Nehalem-EP)           ----------------- 0\n",
      "169 Xeon E56xx (Westmere-EP)           ----------------- 0\n",
      "170 Xeon E7 (Westmere-EX)           ----------------- 0\n",
      "171 Xeon E7-48xx (Westmere-EX)           ----------------- 0\n",
      "172 Xeon E7-x8xx-series (Westmere-EX)           ----------------- 0\n",
      "173 Xeon EM64T           ----------------- 0\n",
      "174 Xeon Gold           ----------------- 158\n",
      "175 Xeon Gold 62xx (Cascade Lake)           ----------------- 0\n",
      "176 Xeon L55xx (Nehalem-EP)           ----------------- 0\n",
      "177 Xeon L56xx (Westmere-EP)           ----------------- 0\n",
      "178 Xeon Platinum           ----------------- 15\n",
      "179 Xeon Platinum 82xx (Cascade Lake)           ----------------- 0\n",
      "180 Xeon Platinum 92xx (Cascade Lake)           ----------------- 0\n",
      "181 Xeon Silver           ----------------- 4\n",
      "182 Xeon X55xx (Nehalem-EP)           ----------------- 0\n",
      "183 Xeon X56xx (Westmere-EP)           ----------------- 0\n",
      "184 Xeon X56xx (Westmere-EP)           ----------------- 0\n",
      "185 nCube           ----------------- 0\n"
     ]
    }
   ],
   "source": [
    "for i in range(0,len(textValues)):\n",
    "    #print(textValues[i])\n",
    "    #s=[]\n",
    "    processor=dfusa[\"System\"].str.find(textValues[i])\n",
    "    df=dfusa[processor[0:]!= -1].shape[0]\n",
    "    print(i,textValues[i]+\"          \",\"-----------------\",df)\n",
    "    \n",
    "#for i in range(0,len(df)):\n",
    "       ## print(i,textValues[i]+\"          \",\"-----------------\",df)\n",
    "    #dfpro=dfusa[processor[0:]!= -1]\n",
    "    #print((dfusa[processor[0:]!= -1].shape[0]!=0)==True)\n",
    "   #,s print(i,textValues[i]+\"          \",\"-----------------\",df)\n",
    "    \n",
    "#dfpro.head() \n",
    "    #dfpro=dfusa[processor[0:]!= -1].apply(str)\n",
    "    #print(dfpro.head())\n",
    "#dfjapan\n",
    "\n",
    "#country=df[\"System\"].str.find('United States')\n",
    "#dfusa=df[country[0:]!= -1]\n",
    "#print(dfusa.head())\n",
    "#df = df.value_counts().rename_axis('unique_values').to_frame('counts')\n",
    "#print (df)\n",
    "\n",
    "#s = pd.Series(df.all,name=\"vals\")\n",
    "#[processor].count()\n",
    "\n",
    "\n",
    "#jpro=pd.DataFrame(dfjapan['System'].str.rstrip(', ').str.split(', ').str[1])\n",
    "#jpro['System'].value_counts().nlargest(1)\n",
    "#jpro\n",
    "print(\"**********************************************************************************************************************\")\n",
    "\n",
    "\n",
    "for i in range(0,len(textValues)):\n",
    "    #print(textValues[i])\n",
    "    #s=[]\n",
    "    processor=dfjapan[\"System\"].str.find(textValues[i])\n",
    "    df=dfjapan[processor[0:]!= -1].shape[0]\n",
    "    print(i,textValues[i]+\"          \",\"-----------------\",df)\n",
    "print(\"**********************************************************************************************************************\")\n",
    "\n",
    "\n",
    "for i in range(0,len(textValues)):\n",
    "    #print(textValues[i])\n",
    "    #s=[]\n",
    "    processor=dfchina[\"System\"].str.find(textValues[i])\n",
    "    df=dfchina[processor[0:]!= -1].shape[0]\n",
    "    print(i,textValues[i]+\"          \",\"-----------------\",df)\n",
    "    "
   ]
  },
  {
   "cell_type": "code",
   "execution_count": 173,
   "metadata": {},
   "outputs": [
    {
     "data": {
      "text/html": [
       "<div>\n",
       "<style scoped>\n",
       "    .dataframe tbody tr th:only-of-type {\n",
       "        vertical-align: middle;\n",
       "    }\n",
       "\n",
       "    .dataframe tbody tr th {\n",
       "        vertical-align: top;\n",
       "    }\n",
       "\n",
       "    .dataframe thead th {\n",
       "        text-align: right;\n",
       "    }\n",
       "</style>\n",
       "<table border=\"1\" class=\"dataframe\">\n",
       "  <thead>\n",
       "    <tr style=\"text-align: right;\">\n",
       "      <th></th>\n",
       "      <th>textValues</th>\n",
       "    </tr>\n",
       "  </thead>\n",
       "  <tbody>\n",
       "    <tr>\n",
       "      <th>1</th>\n",
       "      <td>AMD</td>\n",
       "    </tr>\n",
       "    <tr>\n",
       "      <th>2</th>\n",
       "      <td>AMD Naples</td>\n",
       "    </tr>\n",
       "    <tr>\n",
       "      <th>3</th>\n",
       "      <td>AMD Rome</td>\n",
       "    </tr>\n",
       "    <tr>\n",
       "      <th>4</th>\n",
       "      <td>Alpha</td>\n",
       "    </tr>\n",
       "    <tr>\n",
       "      <th>5</th>\n",
       "      <td>Alpha 21164</td>\n",
       "    </tr>\n",
       "    <tr>\n",
       "      <th>6</th>\n",
       "      <td>Athlon</td>\n",
       "    </tr>\n",
       "    <tr>\n",
       "      <th>7</th>\n",
       "      <td>BQC</td>\n",
       "    </tr>\n",
       "    <tr>\n",
       "      <th>8</th>\n",
       "      <td>Convex</td>\n",
       "    </tr>\n",
       "    <tr>\n",
       "      <th>9</th>\n",
       "      <td>Core 2 Duo (T5xxx)</td>\n",
       "    </tr>\n",
       "    <tr>\n",
       "      <th>10</th>\n",
       "      <td>Core 2 Duo (T6xxx)</td>\n",
       "    </tr>\n",
       "  </tbody>\n",
       "</table>\n",
       "</div>"
      ],
      "text/plain": [
       "            textValues\n",
       "1                  AMD\n",
       "2           AMD Naples\n",
       "3             AMD Rome\n",
       "4                Alpha\n",
       "5          Alpha 21164\n",
       "6               Athlon\n",
       "7                  BQC\n",
       "8               Convex\n",
       "9   Core 2 Duo (T5xxx)\n",
       "10  Core 2 Duo (T6xxx)"
      ]
     },
     "execution_count": 173,
     "metadata": {},
     "output_type": "execute_result"
    }
   ],
   "source": [
    "import pandas as pd\n",
    "data_dict={\"textValues\":textValues}\n",
    "df=pd.DataFrame.from_dict(data_dict)\n",
    "df=df[1:]\n",
    "df.head(10)"
   ]
  },
  {
   "cell_type": "code",
   "execution_count": 80,
   "metadata": {},
   "outputs": [
    {
     "data": {
      "text/plain": [
       "NA    214\n",
       "Name: matched_str, dtype: int64"
      ]
     },
     "execution_count": 80,
     "metadata": {},
     "output_type": "execute_result"
    }
   ],
   "source": [
    "#df.textValues.contains(china.System).value_counts()\n",
    "pattern = ','.join(textValues)\n",
    "\n",
    "pattern\n",
    "\n",
    "\n",
    "china.System.str.contains(pattern).value_counts()\n",
    "china[\"System\"].str.find(pattern).value_counts()\n",
    "\n",
    "china[china['System'].isin(textValues)]   \n",
    "s=china\n",
    "s.head()\n",
    "\n",
    "\n",
    "import re\n",
    "def pattern_searcher(search_str:str, search_list:str):\n",
    "\n",
    "    search_obj = re.search(search_list, search_str)\n",
    "    if search_obj :\n",
    "        return_str = search_str[search_obj.start(): search_obj.end()]\n",
    "    else:\n",
    "        return_str = 'NA'\n",
    "    return return_str\n",
    "s['matched_str'] = s['System'].apply(lambda x: pattern_searcher(search_str=x, search_list=pattern))\n",
    "s['matched_str'].value_counts()"
   ]
  },
  {
   "cell_type": "code",
   "execution_count": null,
   "metadata": {},
   "outputs": [],
   "source": [
    "country=China[\"System\"].str.find('United States')\n",
    "dfusa=df[country[0:]!= -1]\n",
    "print(dfusa.head())"
   ]
  },
  {
   "cell_type": "code",
   "execution_count": 53,
   "metadata": {},
   "outputs": [],
   "source": [
    "########################"
   ]
  },
  {
   "cell_type": "code",
   "execution_count": 55,
   "metadata": {},
   "outputs": [
    {
     "data": {
      "text/html": [
       "<div>\n",
       "<style scoped>\n",
       "    .dataframe tbody tr th:only-of-type {\n",
       "        vertical-align: middle;\n",
       "    }\n",
       "\n",
       "    .dataframe tbody tr th {\n",
       "        vertical-align: top;\n",
       "    }\n",
       "\n",
       "    .dataframe thead th {\n",
       "        text-align: right;\n",
       "    }\n",
       "</style>\n",
       "<table border=\"1\" class=\"dataframe\">\n",
       "  <thead>\n",
       "    <tr style=\"text-align: right;\">\n",
       "      <th></th>\n",
       "      <th>RankMean</th>\n",
       "      <th>Country</th>\n",
       "    </tr>\n",
       "  </thead>\n",
       "  <tbody>\n",
       "    <tr>\n",
       "      <th>0</th>\n",
       "      <td>235.14</td>\n",
       "      <td>USA</td>\n",
       "    </tr>\n",
       "    <tr>\n",
       "      <th>1</th>\n",
       "      <td>173.47</td>\n",
       "      <td>Japan</td>\n",
       "    </tr>\n",
       "    <tr>\n",
       "      <th>2</th>\n",
       "      <td>287.52</td>\n",
       "      <td>China</td>\n",
       "    </tr>\n",
       "  </tbody>\n",
       "</table>\n",
       "</div>"
      ],
      "text/plain": [
       "   RankMean Country\n",
       "0    235.14     USA\n",
       "1    173.47   Japan\n",
       "2    287.52   China"
      ]
     },
     "execution_count": 55,
     "metadata": {},
     "output_type": "execute_result"
    }
   ],
   "source": [
    "data = [[usasummarystats.iloc[1,0],'USA'], [japansummarystats.iloc[1,0],'Japan'], [chinasummarystats.iloc[1,0],'China']]\n",
    "  \n",
    "# Create the pandas DataFrame\n",
    "rankdf = pd.DataFrame(data, columns = ['RankMean','Country'])\n",
    "  \n",
    "# print dataframe.\n",
    "rankdf"
   ]
  },
  {
   "cell_type": "code",
   "execution_count": 56,
   "metadata": {},
   "outputs": [
    {
     "data": {
      "text/plain": [
       "Text(0.5, 1.0, 'Mean Of Ranks In Each Country')"
      ]
     },
     "execution_count": 56,
     "metadata": {},
     "output_type": "execute_result"
    },
    {
     "data": {
      "image/png": "[encoded data removed]",
      "text/plain": [
       "<Figure size 432x288 with 1 Axes>"
      ]
     },
     "metadata": {
      "needs_background": "light"
     },
     "output_type": "display_data"
    }
   ],
   "source": [
    "import matplotlib as plt\n",
    "from matplotlib import pyplot\n",
    "pyplot.bar(rankdf['Country'], rankdf[\"RankMean\"])\n",
    "plt.pyplot.xlabel(\"Country\")\n",
    "plt.pyplot.ylabel(\"Mean of Ranks\")\n",
    "plt.pyplot.title(\"Mean Of Ranks In Each Country\")"
   ]
  },
  {
   "cell_type": "code",
   "execution_count": 57,
   "metadata": {},
   "outputs": [
    {
     "data": {
      "text/html": [
       "<div>\n",
       "<style scoped>\n",
       "    .dataframe tbody tr th:only-of-type {\n",
       "        vertical-align: middle;\n",
       "    }\n",
       "\n",
       "    .dataframe tbody tr th {\n",
       "        vertical-align: top;\n",
       "    }\n",
       "\n",
       "    .dataframe thead th {\n",
       "        text-align: right;\n",
       "    }\n",
       "</style>\n",
       "<table border=\"1\" class=\"dataframe\">\n",
       "  <thead>\n",
       "    <tr style=\"text-align: right;\">\n",
       "      <th></th>\n",
       "      <th>Rank_Std</th>\n",
       "      <th>Country</th>\n",
       "    </tr>\n",
       "  </thead>\n",
       "  <tbody>\n",
       "    <tr>\n",
       "      <th>0</th>\n",
       "      <td>147.06</td>\n",
       "      <td>USA</td>\n",
       "    </tr>\n",
       "    <tr>\n",
       "      <th>1</th>\n",
       "      <td>154.56</td>\n",
       "      <td>Japan</td>\n",
       "    </tr>\n",
       "    <tr>\n",
       "      <th>2</th>\n",
       "      <td>121.54</td>\n",
       "      <td>China</td>\n",
       "    </tr>\n",
       "  </tbody>\n",
       "</table>\n",
       "</div>"
      ],
      "text/plain": [
       "   Rank_Std Country\n",
       "0    147.06     USA\n",
       "1    154.56   Japan\n",
       "2    121.54   China"
      ]
     },
     "execution_count": 57,
     "metadata": {},
     "output_type": "execute_result"
    }
   ],
   "source": [
    "data = [[usasummarystats.iloc[2,0],'USA'], [japansummarystats.iloc[2,0],'Japan'], [chinasummarystats.iloc[2,0],'China']]\n",
    "  \n",
    "# Create the pandas DataFrame\n",
    "rankdf = pd.DataFrame(data, columns = ['Rank_Std','Country'])\n",
    "  \n",
    "# print dataframe.\n",
    "rankdf"
   ]
  },
  {
   "cell_type": "code",
   "execution_count": 58,
   "metadata": {},
   "outputs": [
    {
     "data": {
      "text/plain": [
       "Text(0.5, 1.0, 'Standard Deviation Of Ranks In Each Country')"
      ]
     },
     "execution_count": 58,
     "metadata": {},
     "output_type": "execute_result"
    },
    {
     "data": {
      "image/png": "[encoded data removed]",
      "text/plain": [
       "<Figure size 432x288 with 1 Axes>"
      ]
     },
     "metadata": {
      "needs_background": "light"
     },
     "output_type": "display_data"
    }
   ],
   "source": [
    "import matplotlib as plt\n",
    "from matplotlib import pyplot\n",
    "pyplot.bar(rankdf['Country'], rankdf[\"Rank_Std\"])\n",
    "plt.pyplot.xlabel(\"Country\")\n",
    "plt.pyplot.ylabel(\"Std of Ranks\")\n",
    "plt.pyplot.title(\"Standard Deviation Of Ranks In Each Country\")\n",
    "\n"
   ]
  },
  {
   "cell_type": "code",
   "execution_count": 61,
   "metadata": {},
   "outputs": [
    {
     "data": {
      "text/html": [
       "<div>\n",
       "<style scoped>\n",
       "    .dataframe tbody tr th:only-of-type {\n",
       "        vertical-align: middle;\n",
       "    }\n",
       "\n",
       "    .dataframe tbody tr th {\n",
       "        vertical-align: top;\n",
       "    }\n",
       "\n",
       "    .dataframe thead th {\n",
       "        text-align: right;\n",
       "    }\n",
       "</style>\n",
       "<table border=\"1\" class=\"dataframe\">\n",
       "  <thead>\n",
       "    <tr style=\"text-align: right;\">\n",
       "      <th></th>\n",
       "      <th>Rank_min</th>\n",
       "      <th>Country</th>\n",
       "    </tr>\n",
       "  </thead>\n",
       "  <tbody>\n",
       "    <tr>\n",
       "      <th>0</th>\n",
       "      <td>2.0</td>\n",
       "      <td>USA</td>\n",
       "    </tr>\n",
       "    <tr>\n",
       "      <th>1</th>\n",
       "      <td>1.0</td>\n",
       "      <td>Japan</td>\n",
       "    </tr>\n",
       "    <tr>\n",
       "      <th>2</th>\n",
       "      <td>4.0</td>\n",
       "      <td>China</td>\n",
       "    </tr>\n",
       "  </tbody>\n",
       "</table>\n",
       "</div>"
      ],
      "text/plain": [
       "   Rank_min Country\n",
       "0       2.0     USA\n",
       "1       1.0   Japan\n",
       "2       4.0   China"
      ]
     },
     "execution_count": 61,
     "metadata": {},
     "output_type": "execute_result"
    },
    {
     "data": {
      "image/png": "[encoded data removed]",
      "text/plain": [
       "<Figure size 432x288 with 1 Axes>"
      ]
     },
     "metadata": {
      "needs_background": "light"
     },
     "output_type": "display_data"
    }
   ],
   "source": [
    " data = [[usasummarystats.iloc[3,0],'USA'], [japansummarystats.iloc[3,0],'Japan'], [chinasummarystats.iloc[3,0],'China']]\n",
    "  \n",
    "# Create the pandas DataFrame\n",
    "rankdf = pd.DataFrame(data, columns = ['Rank_min','Country'])\n",
    "  \n",
    "# print dataframe.\n",
    "rankdf\n",
    "\n",
    "import matplotlib as plt\n",
    "from matplotlib import pyplot\n",
    "pyplot.bar(rankdf['Country'], rankdf[\"Rank_min\"])\n",
    "plt.pyplot.xlabel(\"Country\")\n",
    "plt.pyplot.ylabel(\"Min of Ranks\")\n",
    "plt.pyplot.title(\"Minimum Of Ranks In Each Country\")\n"
   ]
  },
  {
   "cell_type": "code",
   "execution_count": 65,
   "metadata": {},
   "outputs": [
    {
     "data": {
      "text/plain": [
       "Text(0.5, 1.0, 'Q1 Of Ranks In Each Country')"
      ]
     },
     "execution_count": 65,
     "metadata": {},
     "output_type": "execute_result"
    },
    {
     "data": {
      "image/png": "[encoded data removed]",
      "text/plain": [
       "<Figure size 432x288 with 1 Axes>"
      ]
     },
     "metadata": {
      "needs_background": "light"
     },
     "output_type": "display_data"
    }
   ],
   "source": [
    " data = [[usasummarystats.iloc[4,0],'USA'], [japansummarystats.iloc[4,0],'Japan'], [chinasummarystats.iloc[4,0],'China']]\n",
    "  \n",
    "# Create the pandas DataFrame\n",
    "rankdf = pd.DataFrame(data, columns = ['Rank_Q1','Country'])\n",
    "  \n",
    "# print dataframe.\n",
    "rankdf\n",
    "\n",
    "import matplotlib as plt\n",
    "from matplotlib import pyplot\n",
    "pyplot.bar(rankdf['Country'], rankdf[\"Rank_Q1\"])\n",
    "plt.pyplot.xlabel(\"Country\")\n",
    "plt.pyplot.ylabel(\"Q1 of Ranks\")\n",
    "plt.pyplot.title(\"Q1 Of Ranks In Each Country\")\n",
    "\n",
    "\n"
   ]
  },
  {
   "cell_type": "code",
   "execution_count": 64,
   "metadata": {},
   "outputs": [
    {
     "data": {
      "text/plain": [
       "Text(0.5, 1.0, 'Q2 Of Ranks In Each Country')"
      ]
     },
     "execution_count": 64,
     "metadata": {},
     "output_type": "execute_result"
    },
    {
     "data": {
      "image/png": "[encoded data removed]",
      "text/plain": [
       "<Figure size 432x288 with 1 Axes>"
      ]
     },
     "metadata": {
      "needs_background": "light"
     },
     "output_type": "display_data"
    }
   ],
   "source": [
    " data = [[usasummarystats.iloc[5,0],'USA'], [japansummarystats.iloc[5,0],'Japan'], [chinasummarystats.iloc[5,0],'China']]\n",
    "  \n",
    "# Create the pandas DataFrame\n",
    "rankdf = pd.DataFrame(data, columns = ['Rank_Q2','Country'])\n",
    "  \n",
    "# print dataframe.\n",
    "rankdf\n",
    "\n",
    "import matplotlib as plt\n",
    "from matplotlib import pyplot\n",
    "pyplot.bar(rankdf['Country'], rankdf[\"Rank_Q2\"])\n",
    "plt.pyplot.xlabel(\"Country\")\n",
    "plt.pyplot.ylabel(\"Q2 of Ranks\")\n",
    "plt.pyplot.title(\"Q2 Of Ranks In Each Country\")"
   ]
  },
  {
   "cell_type": "code",
   "execution_count": 66,
   "metadata": {},
   "outputs": [
    {
     "data": {
      "text/plain": [
       "Text(0.5, 1.0, 'Q3 Of Ranks In Each Country')"
      ]
     },
     "execution_count": 66,
     "metadata": {},
     "output_type": "execute_result"
    },
    {
     "data": {
      "image/png": "[encoded data removed]",
      "text/plain": [
       "<Figure size 432x288 with 1 Axes>"
      ]
     },
     "metadata": {
      "needs_background": "light"
     },
     "output_type": "display_data"
    }
   ],
   "source": [
    " data = [[usasummarystats.iloc[6,0],'USA'], [japansummarystats.iloc[6,0],'Japan'], [chinasummarystats.iloc[6,0],'China']]\n",
    "  \n",
    "# Create the pandas DataFrame\n",
    "rankdf = pd.DataFrame(data, columns = ['Rank_Q3','Country'])\n",
    "  \n",
    "# print dataframe.\n",
    "rankdf\n",
    "\n",
    "import matplotlib as plt\n",
    "from matplotlib import pyplot\n",
    "pyplot.bar(rankdf['Country'], rankdf[\"Rank_Q3\"])\n",
    "plt.pyplot.xlabel(\"Country\")\n",
    "plt.pyplot.ylabel(\"Q3 of Ranks\")\n",
    "plt.pyplot.title(\"Q3 Of Ranks In Each Country\")"
   ]
  },
  {
   "cell_type": "code",
   "execution_count": 69,
   "metadata": {},
   "outputs": [
    {
     "data": {
      "text/plain": [
       "Text(0.5, 1.0, 'Maximum Of Ranks In Each Country')"
      ]
     },
     "execution_count": 69,
     "metadata": {},
     "output_type": "execute_result"
    },
    {
     "data": {
      "image/png": "[encoded data removed]",
      "text/plain": [
       "<Figure size 432x288 with 1 Axes>"
      ]
     },
     "metadata": {
      "needs_background": "light"
     },
     "output_type": "display_data"
    }
   ],
   "source": [
    " data = [[usasummarystats.iloc[7,0],'USA'], [japansummarystats.iloc[7,0],'Japan'], [chinasummarystats.iloc[7,0],'China']]\n",
    "  \n",
    "# Create the pandas DataFrame\n",
    "rankdf = pd.DataFrame(data, columns = ['Rank_max','Country'])\n",
    "  \n",
    "# print dataframe.\n",
    "rankdf\n",
    "\n",
    "import matplotlib as plt\n",
    "from matplotlib import pyplot\n",
    "pyplot.bar(rankdf['Country'], rankdf[\"Rank_max\"])\n",
    "plt.pyplot.xlabel(\"Country\")\n",
    "plt.pyplot.ylabel(\"Max of Ranks\")\n",
    "plt.pyplot.title(\"Maximum Of Ranks In Each Country\")"
   ]
  },
  {
   "cell_type": "code",
   "execution_count": 71,
   "metadata": {},
   "outputs": [
    {
     "data": {
      "text/plain": [
       "Text(0.5, 1.0, 'Count Of Cores In Each Country')"
      ]
     },
     "execution_count": 71,
     "metadata": {},
     "output_type": "execute_result"
    },
    {
     "data": {
      "image/png": "[encoded data removed]",
      "text/plain": [
       "<Figure size 432x288 with 1 Axes>"
      ]
     },
     "metadata": {
      "needs_background": "light"
     },
     "output_type": "display_data"
    }
   ],
   "source": [
    " data = [[usasummarystats.iloc[0,1],'USA'], [japansummarystats.iloc[0,1],'Japan'], [chinasummarystats.iloc[0,1],'China']]\n",
    "  \n",
    "# Create the pandas DataFrame\n",
    "rankdf = pd.DataFrame(data, columns = ['Cores_Count','Country'])\n",
    "  \n",
    "# print dataframe.\n",
    "rankdf\n",
    "\n",
    "import matplotlib as plt\n",
    "from matplotlib import pyplot\n",
    "pyplot.bar(rankdf['Country'], rankdf[\"Cores_Count\"])\n",
    "plt.pyplot.xlabel(\"Country\")\n",
    "plt.pyplot.ylabel(\"Count of Cores\")\n",
    "plt.pyplot.title(\"Count Of Cores In Each Country\")"
   ]
  },
  {
   "cell_type": "code",
   "execution_count": 73,
   "metadata": {},
   "outputs": [
    {
     "data": {
      "text/plain": [
       "Text(0.5, 1.0, 'Mean Of Cores In Each Country')"
      ]
     },
     "execution_count": 73,
     "metadata": {},
     "output_type": "execute_result"
    },
    {
     "data": {
      "image/png": "[encoded data removed]",
      "text/plain": [
       "<Figure size 432x288 with 1 Axes>"
      ]
     },
     "metadata": {
      "needs_background": "light"
     },
     "output_type": "display_data"
    }
   ],
   "source": [
    " data = [[usasummarystats.iloc[1,1],'USA'], [japansummarystats.iloc[1,1],'Japan'], [chinasummarystats.iloc[1,1],'China']]\n",
    "  \n",
    "# Create the pandas DataFrame\n",
    "rankdf = pd.DataFrame(data, columns = ['Cores_Mean','Country'])\n",
    "  \n",
    "# print dataframe.\n",
    "rankdf\n",
    "\n",
    "import matplotlib as plt\n",
    "from matplotlib import pyplot\n",
    "pyplot.bar(rankdf['Country'], rankdf[\"Cores_Mean\"])\n",
    "plt.pyplot.xlabel(\"Country\")\n",
    "plt.pyplot.ylabel(\"Mean of Cores\")\n",
    "plt.pyplot.title(\"Mean Of Cores In Each Country\")"
   ]
  },
  {
   "cell_type": "code",
   "execution_count": 76,
   "metadata": {},
   "outputs": [
    {
     "data": {
      "text/plain": [
       "Text(0.5, 1.0, 'Standard Deviation Of Cores In Each Country')"
      ]
     },
     "execution_count": 76,
     "metadata": {},
     "output_type": "execute_result"
    },
    {
     "data": {
      "image/png": "[encoded data removed]",
      "text/plain": [
       "<Figure size 432x288 with 1 Axes>"
      ]
     },
     "metadata": {
      "needs_background": "light"
     },
     "output_type": "display_data"
    }
   ],
   "source": [
    "data = [[usasummarystats.iloc[2,1],'USA'], [japansummarystats.iloc[2,1],'Japan'], [chinasummarystats.iloc[2,1],'China']]\n",
    "  \n",
    "# Create the pandas DataFrame\n",
    "rankdf = pd.DataFrame(data, columns = ['Cores_Std','Country'])\n",
    "  \n",
    "# print dataframe.\n",
    "rankdf\n",
    "\n",
    "import matplotlib as plt\n",
    "from matplotlib import pyplot\n",
    "pyplot.bar(rankdf['Country'], rankdf[\"Cores_Std\"])\n",
    "plt.pyplot.xlabel(\"Country\")\n",
    "plt.pyplot.ylabel(\"Std of Cores\")\n",
    "plt.pyplot.title(\"Standard Deviation Of Cores In Each Country\")"
   ]
  },
  {
   "cell_type": "code",
   "execution_count": 78,
   "metadata": {},
   "outputs": [
    {
     "data": {
      "text/plain": [
       "Text(0.5, 1.0, 'Minimum Of Cores In Each Country')"
      ]
     },
     "execution_count": 78,
     "metadata": {},
     "output_type": "execute_result"
    },
    {
     "data": {
      "image/png": "[encoded data removed]",
      "text/plain": [
       "<Figure size 432x288 with 1 Axes>"
      ]
     },
     "metadata": {
      "needs_background": "light"
     },
     "output_type": "display_data"
    }
   ],
   "source": [
    "data = [[usasummarystats.iloc[3,1],'USA'], [japansummarystats.iloc[3,1],'Japan'], [chinasummarystats.iloc[3,1],'China']]\n",
    "  \n",
    "# Create the pandas DataFrame\n",
    "rankdf = pd.DataFrame(data, columns = ['Cores_Min','Country'])\n",
    "  \n",
    "# print dataframe.\n",
    "rankdf\n",
    "\n",
    "import matplotlib as plt\n",
    "from matplotlib import pyplot\n",
    "pyplot.bar(rankdf['Country'], rankdf[\"Cores_Min\"])\n",
    "plt.pyplot.xlabel(\"Country\")\n",
    "plt.pyplot.ylabel(\"Min of Cores\")\n",
    "plt.pyplot.title(\"Minimum Of Cores In Each Country\")"
   ]
  },
  {
   "cell_type": "code",
   "execution_count": 79,
   "metadata": {},
   "outputs": [
    {
     "data": {
      "text/plain": [
       "Text(0.5, 1.0, 'Q1 Of Cores In Each Country')"
      ]
     },
     "execution_count": 79,
     "metadata": {},
     "output_type": "execute_result"
    },
    {
     "data": {
      "image/png": "[encoded data removed]",
      "text/plain": [
       "<Figure size 432x288 with 1 Axes>"
      ]
     },
     "metadata": {
      "needs_background": "light"
     },
     "output_type": "display_data"
    }
   ],
   "source": [
    "data = [[usasummarystats.iloc[4,1],'USA'], [japansummarystats.iloc[4,1],'Japan'], [chinasummarystats.iloc[4,1],'China']]\n",
    "  \n",
    "# Create the pandas DataFrame\n",
    "rankdf = pd.DataFrame(data, columns = ['Cores_Q1','Country'])\n",
    "  \n",
    "# print dataframe.\n",
    "rankdf\n",
    "\n",
    "import matplotlib as plt\n",
    "from matplotlib import pyplot\n",
    "pyplot.bar(rankdf['Country'], rankdf[\"Cores_Q1\"])\n",
    "plt.pyplot.xlabel(\"Country\")\n",
    "plt.pyplot.ylabel(\"Q1 of Cores\")\n",
    "plt.pyplot.title(\"Q1 Of Cores In Each Country\")"
   ]
  },
  {
   "cell_type": "code",
   "execution_count": 80,
   "metadata": {},
   "outputs": [
    {
     "data": {
      "text/plain": [
       "Text(0.5, 1.0, 'Q2 Of Cores In Each Country')"
      ]
     },
     "execution_count": 80,
     "metadata": {},
     "output_type": "execute_result"
    },
    {
     "data": {
      "image/png": "[encoded data removed]",
      "text/plain": [
       "<Figure size 432x288 with 1 Axes>"
      ]
     },
     "metadata": {
      "needs_background": "light"
     },
     "output_type": "display_data"
    }
   ],
   "source": [
    "data = [[usasummarystats.iloc[5,1],'USA'], [japansummarystats.iloc[5,1],'Japan'], [chinasummarystats.iloc[5,1],'China']]\n",
    "  \n",
    "# Create the pandas DataFrame\n",
    "rankdf = pd.DataFrame(data, columns = ['Cores_Q2','Country'])\n",
    "  \n",
    "# print dataframe.\n",
    "rankdf\n",
    "\n",
    "import matplotlib as plt\n",
    "from matplotlib import pyplot\n",
    "pyplot.bar(rankdf['Country'], rankdf[\"Cores_Q2\"])\n",
    "plt.pyplot.xlabel(\"Country\")\n",
    "plt.pyplot.ylabel(\"Q2 of Cores\")\n",
    "plt.pyplot.title(\"Q2 Of Cores In Each Country\")"
   ]
  },
  {
   "cell_type": "code",
   "execution_count": 81,
   "metadata": {},
   "outputs": [
    {
     "data": {
      "text/plain": [
       "Text(0.5, 1.0, 'Q3 Of Cores In Each Country')"
      ]
     },
     "execution_count": 81,
     "metadata": {},
     "output_type": "execute_result"
    },
    {
     "data": {
      "image/png": "[encoded data removed]",
      "text/plain": [
       "<Figure size 432x288 with 1 Axes>"
      ]
     },
     "metadata": {
      "needs_background": "light"
     },
     "output_type": "display_data"
    }
   ],
   "source": [
    "data = [[usasummarystats.iloc[6,1],'USA'], [japansummarystats.iloc[6,1],'Japan'], [chinasummarystats.iloc[6,1],'China']]\n",
    "  \n",
    "# Create the pandas DataFrame\n",
    "rankdf = pd.DataFrame(data, columns = ['Cores_Q3','Country'])\n",
    "  \n",
    "# print dataframe.\n",
    "rankdf\n",
    "\n",
    "import matplotlib as plt\n",
    "from matplotlib import pyplot\n",
    "pyplot.bar(rankdf['Country'], rankdf[\"Cores_Q3\"])\n",
    "plt.pyplot.xlabel(\"Country\")\n",
    "plt.pyplot.ylabel(\"Q3 of Cores\")\n",
    "plt.pyplot.title(\"Q3 Of Cores In Each Country\")"
   ]
  },
  {
   "cell_type": "code",
   "execution_count": 82,
   "metadata": {},
   "outputs": [
    {
     "data": {
      "text/plain": [
       "Text(0.5, 1.0, 'Maximum Of Cores In Each Country')"
      ]
     },
     "execution_count": 82,
     "metadata": {},
     "output_type": "execute_result"
    },
    {
     "data": {
      "image/png": "[encoded data removed]",
      "text/plain": [
       "<Figure size 432x288 with 1 Axes>"
      ]
     },
     "metadata": {
      "needs_background": "light"
     },
     "output_type": "display_data"
    }
   ],
   "source": [
    "data = [[usasummarystats.iloc[7,1],'USA'], [japansummarystats.iloc[7,1],'Japan'], [chinasummarystats.iloc[7,1],'China']]\n",
    "  \n",
    "# Create the pandas DataFrame\n",
    "rankdf = pd.DataFrame(data, columns = ['Cores_Max','Country'])\n",
    "  \n",
    "# print dataframe.\n",
    "rankdf\n",
    "\n",
    "import matplotlib as plt\n",
    "from matplotlib import pyplot\n",
    "pyplot.bar(rankdf['Country'], rankdf[\"Cores_Max\"])\n",
    "plt.pyplot.xlabel(\"Country\")\n",
    "plt.pyplot.ylabel(\"Max of Cores\")\n",
    "plt.pyplot.title(\"Maximum Of Cores In Each Country\")"
   ]
  },
  {
   "cell_type": "code",
   "execution_count": 84,
   "metadata": {},
   "outputs": [
    {
     "data": {
      "text/plain": [
       "Text(0.5, 1.0, 'Count Of Rpeak In Each Country')"
      ]
     },
     "execution_count": 84,
     "metadata": {},
     "output_type": "execute_result"
    },
    {
     "data": {
      "image/png": "[encoded data removed]",
      "text/plain": [
       "<Figure size 432x288 with 1 Axes>"
      ]
     },
     "metadata": {
      "needs_background": "light"
     },
     "output_type": "display_data"
    }
   ],
   "source": [
    "data = [[usasummarystats.iloc[0,3],'USA'], [japansummarystats.iloc[0,3],'Japan'], [chinasummarystats.iloc[0,3],'China']]\n",
    "  \n",
    "# Create the pandas DataFrame\n",
    "rankdf = pd.DataFrame(data, columns = ['Rpeak_Count','Country'])\n",
    "  \n",
    "# print dataframe.\n",
    "rankdf\n",
    "\n",
    "import matplotlib as plt\n",
    "from matplotlib import pyplot\n",
    "pyplot.bar(rankdf['Country'], rankdf[\"Rpeak_Count\"])\n",
    "plt.pyplot.xlabel(\"Country\")\n",
    "plt.pyplot.ylabel(\"Count of Rpeak\")\n",
    "plt.pyplot.title(\"Count Of Rpeak In Each Country\")"
   ]
  },
  {
   "cell_type": "code",
   "execution_count": 85,
   "metadata": {},
   "outputs": [
    {
     "data": {
      "text/plain": [
       "Text(0.5, 1.0, 'Mean Of Rpeak In Each Country')"
      ]
     },
     "execution_count": 85,
     "metadata": {},
     "output_type": "execute_result"
    },
    {
     "data": {
      "image/png": "[encoded data removed]",
      "text/plain": [
       "<Figure size 432x288 with 1 Axes>"
      ]
     },
     "metadata": {
      "needs_background": "light"
     },
     "output_type": "display_data"
    }
   ],
   "source": [
    "data = [[usasummarystats.iloc[1,3],'USA'], [japansummarystats.iloc[1,3],'Japan'], [chinasummarystats.iloc[1,3],'China']]\n",
    "  \n",
    "# Create the pandas DataFrame\n",
    "rankdf = pd.DataFrame(data, columns = ['Rpeak_Mean','Country'])\n",
    "  \n",
    "# print dataframe.\n",
    "rankdf\n",
    "\n",
    "import matplotlib as plt\n",
    "from matplotlib import pyplot\n",
    "pyplot.bar(rankdf['Country'], rankdf[\"Rpeak_Mean\"])\n",
    "plt.pyplot.xlabel(\"Country\")\n",
    "plt.pyplot.ylabel(\"Mean of Rpeak\")\n",
    "plt.pyplot.title(\"Mean Of Rpeak In Each Country\")"
   ]
  },
  {
   "cell_type": "code",
   "execution_count": 87,
   "metadata": {},
   "outputs": [
    {
     "data": {
      "text/plain": [
       "Text(0.5, 1.0, 'Standard Deviation Of Rpeak In Each Country')"
      ]
     },
     "execution_count": 87,
     "metadata": {},
     "output_type": "execute_result"
    },
    {
     "data": {
      "image/png": "[encoded data removed]",
      "text/plain": [
       "<Figure size 432x288 with 1 Axes>"
      ]
     },
     "metadata": {
      "needs_background": "light"
     },
     "output_type": "display_data"
    }
   ],
   "source": [
    "data = [[usasummarystats.iloc[2,3],'USA'], [japansummarystats.iloc[2,3],'Japan'], [chinasummarystats.iloc[2,3],'China']]\n",
    "  \n",
    "# Create the pandas DataFrame\n",
    "rankdf = pd.DataFrame(data, columns = ['Rpeak_Std','Country'])\n",
    "  \n",
    "# print dataframe.\n",
    "rankdf\n",
    "\n",
    "import matplotlib as plt\n",
    "from matplotlib import pyplot\n",
    "pyplot.bar(rankdf['Country'], rankdf[\"Rpeak_Std\"])\n",
    "plt.pyplot.xlabel(\"Country\")\n",
    "plt.pyplot.ylabel(\"Std of Rpeak\")\n",
    "plt.pyplot.title(\"Standard Deviation Of Rpeak In Each Country\")"
   ]
  },
  {
   "cell_type": "code",
   "execution_count": 88,
   "metadata": {},
   "outputs": [
    {
     "data": {
      "text/plain": [
       "Text(0.5, 1.0, 'Mininum Of Rpeak In Each Country')"
      ]
     },
     "execution_count": 88,
     "metadata": {},
     "output_type": "execute_result"
    },
    {
     "data": {
      "image/png": "[encoded data removed]",
      "text/plain": [
       "<Figure size 432x288 with 1 Axes>"
      ]
     },
     "metadata": {
      "needs_background": "light"
     },
     "output_type": "display_data"
    }
   ],
   "source": [
    "data = [[usasummarystats.iloc[3,3],'USA'], [japansummarystats.iloc[3,3],'Japan'], [chinasummarystats.iloc[3,3],'China']]\n",
    "  \n",
    "# Create the pandas DataFrame\n",
    "rankdf = pd.DataFrame(data, columns = ['Rpeak_Min','Country'])\n",
    "  \n",
    "# print dataframe.\n",
    "rankdf\n",
    "\n",
    "import matplotlib as plt\n",
    "from matplotlib import pyplot\n",
    "pyplot.bar(rankdf['Country'], rankdf[\"Rpeak_Min\"])\n",
    "plt.pyplot.xlabel(\"Country\")\n",
    "plt.pyplot.ylabel(\"Min of Rpeak\")\n",
    "plt.pyplot.title(\"Mininum Of Rpeak In Each Country\")"
   ]
  },
  {
   "cell_type": "code",
   "execution_count": 90,
   "metadata": {},
   "outputs": [
    {
     "data": {
      "text/plain": [
       "Text(0.5, 1.0, 'Q1 Of Rpeak In Each Country')"
      ]
     },
     "execution_count": 90,
     "metadata": {},
     "output_type": "execute_result"
    },
    {
     "data": {
      "image/png": "[encoded data removed]",
      "text/plain": [
       "<Figure size 432x288 with 1 Axes>"
      ]
     },
     "metadata": {
      "needs_background": "light"
     },
     "output_type": "display_data"
    }
   ],
   "source": [
    "data = [[usasummarystats.iloc[4,3],'USA'], [japansummarystats.iloc[4,3],'Japan'], [chinasummarystats.iloc[4,3],'China']]\n",
    "  \n",
    "# Create the pandas DataFrame\n",
    "rankdf = pd.DataFrame(data, columns = ['Rpeak_Q1','Country'])\n",
    "  \n",
    "# print dataframe.\n",
    "rankdf\n",
    "\n",
    "import matplotlib as plt\n",
    "from matplotlib import pyplot\n",
    "pyplot.bar(rankdf['Country'], rankdf[\"Rpeak_Q1\"])\n",
    "plt.pyplot.xlabel(\"Country\")\n",
    "plt.pyplot.ylabel(\"Q1 of Rpeak\")\n",
    "plt.pyplot.title(\"Q1 Of Rpeak In Each Country\")"
   ]
  },
  {
   "cell_type": "code",
   "execution_count": 91,
   "metadata": {},
   "outputs": [
    {
     "data": {
      "text/plain": [
       "Text(0.5, 1.0, 'Q2 Of Rpeak In Each Country')"
      ]
     },
     "execution_count": 91,
     "metadata": {},
     "output_type": "execute_result"
    },
    {
     "data": {
      "image/png": "[encoded data removed]",
      "text/plain": [
       "<Figure size 432x288 with 1 Axes>"
      ]
     },
     "metadata": {
      "needs_background": "light"
     },
     "output_type": "display_data"
    }
   ],
   "source": [
    "data = [[usasummarystats.iloc[5,3],'USA'], [japansummarystats.iloc[5,3],'Japan'], [chinasummarystats.iloc[5,3],'China']]\n",
    "  \n",
    "# Create the pandas DataFrame\n",
    "rankdf = pd.DataFrame(data, columns = ['Rpeak_Q2','Country'])\n",
    "  \n",
    "# print dataframe.\n",
    "rankdf\n",
    "\n",
    "import matplotlib as plt\n",
    "from matplotlib import pyplot\n",
    "pyplot.bar(rankdf['Country'], rankdf[\"Rpeak_Q2\"])\n",
    "plt.pyplot.xlabel(\"Country\")\n",
    "plt.pyplot.ylabel(\"Q2 of Rpeak\")\n",
    "plt.pyplot.title(\"Q2 Of Rpeak In Each Country\")"
   ]
  },
  {
   "cell_type": "code",
   "execution_count": 92,
   "metadata": {},
   "outputs": [
    {
     "data": {
      "text/plain": [
       "Text(0.5, 1.0, 'Q3 Of Rpeak In Each Country')"
      ]
     },
     "execution_count": 92,
     "metadata": {},
     "output_type": "execute_result"
    },
    {
     "data": {
      "image/png": "[encoded data removed]",
      "text/plain": [
       "<Figure size 432x288 with 1 Axes>"
      ]
     },
     "metadata": {
      "needs_background": "light"
     },
     "output_type": "display_data"
    }
   ],
   "source": [
    "data = [[usasummarystats.iloc[6,3],'USA'], [japansummarystats.iloc[6,3],'Japan'], [chinasummarystats.iloc[6,3],'China']]\n",
    "  \n",
    "# Create the pandas DataFrame\n",
    "rankdf = pd.DataFrame(data, columns = ['Rpeak_Q3','Country'])\n",
    "  \n",
    "# print dataframe.\n",
    "rankdf\n",
    "\n",
    "import matplotlib as plt\n",
    "from matplotlib import pyplot\n",
    "pyplot.bar(rankdf['Country'], rankdf[\"Rpeak_Q3\"])\n",
    "plt.pyplot.xlabel(\"Country\")\n",
    "plt.pyplot.ylabel(\"Q3 of Rpeak\")\n",
    "plt.pyplot.title(\"Q3 Of Rpeak In Each Country\")"
   ]
  },
  {
   "cell_type": "code",
   "execution_count": 93,
   "metadata": {},
   "outputs": [
    {
     "data": {
      "text/plain": [
       "Text(0.5, 1.0, 'Maximum Of Rpeak In Each Country')"
      ]
     },
     "execution_count": 93,
     "metadata": {},
     "output_type": "execute_result"
    },
    {
     "data": {
      "image/png": "[encoded data removed]",
      "text/plain": [
       "<Figure size 432x288 with 1 Axes>"
      ]
     },
     "metadata": {
      "needs_background": "light"
     },
     "output_type": "display_data"
    }
   ],
   "source": [
    "data = [[usasummarystats.iloc[7,3],'USA'], [japansummarystats.iloc[7,3],'Japan'], [chinasummarystats.iloc[7,3],'China']]\n",
    "  \n",
    "# Create the pandas DataFrame\n",
    "rankdf = pd.DataFrame(data, columns = ['Rpeak_Max','Country'])\n",
    "  \n",
    "# print dataframe.\n",
    "rankdf\n",
    "\n",
    "import matplotlib as plt\n",
    "from matplotlib import pyplot\n",
    "pyplot.bar(rankdf['Country'], rankdf[\"Rpeak_Max\"])\n",
    "plt.pyplot.xlabel(\"Country\")\n",
    "plt.pyplot.ylabel(\"Max of Rpeak\")\n",
    "plt.pyplot.title(\"Maximum Of Rpeak In Each Country\")"
   ]
  },
  {
   "cell_type": "code",
   "execution_count": 94,
   "metadata": {},
   "outputs": [
    {
     "data": {
      "text/plain": [
       "Text(0.5, 1.0, 'Count Of Power In Each Country')"
      ]
     },
     "execution_count": 94,
     "metadata": {},
     "output_type": "execute_result"
    },
    {
     "data": {
      "image/png": "[encoded data removed]",
      "text/plain": [
       "<Figure size 432x288 with 1 Axes>"
      ]
     },
     "metadata": {
      "needs_background": "light"
     },
     "output_type": "display_data"
    }
   ],
   "source": [
    "data = [[usasummarystats.iloc[0,4],'USA'], [japansummarystats.iloc[0,4],'Japan'], [chinasummarystats.iloc[0,4],'China']]\n",
    "  \n",
    "# Create the pandas DataFrame\n",
    "rankdf = pd.DataFrame(data, columns = ['Power_Count','Country'])\n",
    "  \n",
    "# print dataframe.\n",
    "rankdf\n",
    "\n",
    "import matplotlib as plt\n",
    "from matplotlib import pyplot\n",
    "pyplot.bar(rankdf['Country'], rankdf[\"Power_Count\"])\n",
    "plt.pyplot.xlabel(\"Country\")\n",
    "plt.pyplot.ylabel(\"Count of Power\")\n",
    "plt.pyplot.title(\"Count Of Power In Each Country\")"
   ]
  },
  {
   "cell_type": "code",
   "execution_count": 95,
   "metadata": {},
   "outputs": [
    {
     "data": {
      "text/plain": [
       "Text(0.5, 1.0, 'Mean Of Power In Each Country')"
      ]
     },
     "execution_count": 95,
     "metadata": {},
     "output_type": "execute_result"
    },
    {
     "data": {
      "image/png": "[encoded data removed]",
      "text/plain": [
       "<Figure size 432x288 with 1 Axes>"
      ]
     },
     "metadata": {
      "needs_background": "light"
     },
     "output_type": "display_data"
    }
   ],
   "source": [
    "data = [[usasummarystats.iloc[1,4],'USA'], [japansummarystats.iloc[1,4],'Japan'], [chinasummarystats.iloc[1,4],'China']]\n",
    "  \n",
    "# Create the pandas DataFrame\n",
    "rankdf = pd.DataFrame(data, columns = ['Power_Mean','Country'])\n",
    "  \n",
    "# print dataframe.\n",
    "rankdf\n",
    "\n",
    "import matplotlib as plt\n",
    "from matplotlib import pyplot\n",
    "pyplot.bar(rankdf['Country'], rankdf[\"Power_Mean\"])\n",
    "plt.pyplot.xlabel(\"Country\")\n",
    "plt.pyplot.ylabel(\"Mean of Power\")\n",
    "plt.pyplot.title(\"Mean Of Power In Each Country\")"
   ]
  },
  {
   "cell_type": "code",
   "execution_count": 96,
   "metadata": {},
   "outputs": [
    {
     "data": {
      "text/plain": [
       "Text(0.5, 1.0, 'Standard Deviation Of Power In Each Country')"
      ]
     },
     "execution_count": 96,
     "metadata": {},
     "output_type": "execute_result"
    },
    {
     "data": {
      "image/png": "[encoded data removed]",
      "text/plain": [
       "<Figure size 432x288 with 1 Axes>"
      ]
     },
     "metadata": {
      "needs_background": "light"
     },
     "output_type": "display_data"
    }
   ],
   "source": [
    "data = [[usasummarystats.iloc[2,4],'USA'], [japansummarystats.iloc[2,4],'Japan'], [chinasummarystats.iloc[2,4],'China']]\n",
    "  \n",
    "# Create the pandas DataFrame\n",
    "rankdf = pd.DataFrame(data, columns = ['Power_Std','Country'])\n",
    "  \n",
    "# print dataframe.\n",
    "rankdf\n",
    "\n",
    "import matplotlib as plt\n",
    "from matplotlib import pyplot\n",
    "pyplot.bar(rankdf['Country'], rankdf[\"Power_Std\"])\n",
    "plt.pyplot.xlabel(\"Country\")\n",
    "plt.pyplot.ylabel(\"Std of Power\")\n",
    "plt.pyplot.title(\"Standard Deviation Of Power In Each Country\")"
   ]
  },
  {
   "cell_type": "code",
   "execution_count": 97,
   "metadata": {},
   "outputs": [
    {
     "data": {
      "text/plain": [
       "Text(0.5, 1.0, 'Minimum Of Power In Each Country')"
      ]
     },
     "execution_count": 97,
     "metadata": {},
     "output_type": "execute_result"
    },
    {
     "data": {
      "image/png": "[encoded data removed]",
      "text/plain": [
       "<Figure size 432x288 with 1 Axes>"
      ]
     },
     "metadata": {
      "needs_background": "light"
     },
     "output_type": "display_data"
    }
   ],
   "source": [
    "data = [[usasummarystats.iloc[3,4],'USA'], [japansummarystats.iloc[3,4],'Japan'], [chinasummarystats.iloc[3,4],'China']]\n",
    "  \n",
    "# Create the pandas DataFrame\n",
    "rankdf = pd.DataFrame(data, columns = ['Power_Min','Country'])\n",
    "  \n",
    "# print dataframe.\n",
    "rankdf\n",
    "\n",
    "import matplotlib as plt\n",
    "from matplotlib import pyplot\n",
    "pyplot.bar(rankdf['Country'], rankdf[\"Power_Min\"])\n",
    "plt.pyplot.xlabel(\"Country\")\n",
    "plt.pyplot.ylabel(\"Min of Power\")\n",
    "plt.pyplot.title(\"Minimum Of Power In Each Country\")"
   ]
  },
  {
   "cell_type": "code",
   "execution_count": 98,
   "metadata": {},
   "outputs": [
    {
     "data": {
      "text/plain": [
       "Text(0.5, 1.0, 'Q1 Of Power In Each Country')"
      ]
     },
     "execution_count": 98,
     "metadata": {},
     "output_type": "execute_result"
    },
    {
     "data": {
      "image/png": "[encoded data removed]",
      "text/plain": [
       "<Figure size 432x288 with 1 Axes>"
      ]
     },
     "metadata": {
      "needs_background": "light"
     },
     "output_type": "display_data"
    }
   ],
   "source": [
    "data = [[usasummarystats.iloc[4,4],'USA'], [japansummarystats.iloc[4,4],'Japan'], [chinasummarystats.iloc[4,4],'China']]\n",
    "  \n",
    "# Create the pandas DataFrame\n",
    "rankdf = pd.DataFrame(data, columns = ['Power_Q1','Country'])\n",
    "  \n",
    "# print dataframe.\n",
    "rankdf\n",
    "\n",
    "import matplotlib as plt\n",
    "from matplotlib import pyplot\n",
    "pyplot.bar(rankdf['Country'], rankdf[\"Power_Q1\"])\n",
    "plt.pyplot.xlabel(\"Country\")\n",
    "plt.pyplot.ylabel(\"Q1 of Power\")\n",
    "plt.pyplot.title(\"Q1 Of Power In Each Country\")"
   ]
  },
  {
   "cell_type": "code",
   "execution_count": 100,
   "metadata": {},
   "outputs": [
    {
     "data": {
      "text/plain": [
       "Text(0.5, 1.0, 'Q2 Of Power In Each Country')"
      ]
     },
     "execution_count": 100,
     "metadata": {},
     "output_type": "execute_result"
    },
    {
     "data": {
      "image/png": "[encoded data removed]",
      "text/plain": [
       "<Figure size 432x288 with 1 Axes>"
      ]
     },
     "metadata": {
      "needs_background": "light"
     },
     "output_type": "display_data"
    }
   ],
   "source": [
    "data = [[usasummarystats.iloc[5,4],'USA'], [japansummarystats.iloc[5,4],'Japan'], [chinasummarystats.iloc[5,4],'China']]\n",
    "  \n",
    "# Create the pandas DataFrame\n",
    "rankdf = pd.DataFrame(data, columns = ['Power_Q2','Country'])\n",
    "  \n",
    "# print dataframe.\n",
    "rankdf\n",
    "\n",
    "import matplotlib as plt\n",
    "from matplotlib import pyplot\n",
    "pyplot.bar(rankdf['Country'], rankdf[\"Power_Q2\"])\n",
    "plt.pyplot.xlabel(\"Country\")\n",
    "plt.pyplot.ylabel(\"Q2 of Power\")\n",
    "plt.pyplot.title(\"Q2 Of Power In Each Country\")"
   ]
  },
  {
   "cell_type": "code",
   "execution_count": 101,
   "metadata": {},
   "outputs": [
    {
     "data": {
      "text/plain": [
       "Text(0.5, 1.0, 'Q3 Of Power In Each Country')"
      ]
     },
     "execution_count": 101,
     "metadata": {},
     "output_type": "execute_result"
    },
    {
     "data": {
      "image/png": "[encoded data removed]",
      "text/plain": [
       "<Figure size 432x288 with 1 Axes>"
      ]
     },
     "metadata": {
      "needs_background": "light"
     },
     "output_type": "display_data"
    }
   ],
   "source": [
    "data = [[usasummarystats.iloc[6,4],'USA'], [japansummarystats.iloc[6,4],'Japan'], [chinasummarystats.iloc[6,4],'China']]\n",
    "  \n",
    "# Create the pandas DataFrame\n",
    "rankdf = pd.DataFrame(data, columns = ['Power_Q3','Country'])\n",
    "  \n",
    "# print dataframe.\n",
    "rankdf\n",
    "\n",
    "import matplotlib as plt\n",
    "from matplotlib import pyplot\n",
    "pyplot.bar(rankdf['Country'], rankdf[\"Power_Q3\"])\n",
    "plt.pyplot.xlabel(\"Country\")\n",
    "plt.pyplot.ylabel(\"Q3 of Power\")\n",
    "plt.pyplot.title(\"Q3 Of Power In Each Country\")"
   ]
  },
  {
   "cell_type": "code",
   "execution_count": 102,
   "metadata": {},
   "outputs": [
    {
     "data": {
      "text/plain": [
       "Text(0.5, 1.0, 'Max Of Power In Each Country')"
      ]
     },
     "execution_count": 102,
     "metadata": {},
     "output_type": "execute_result"
    },
    {
     "data": {
      "image/png": "[encoded data removed]",
      "text/plain": [
       "<Figure size 432x288 with 1 Axes>"
      ]
     },
     "metadata": {
      "needs_background": "light"
     },
     "output_type": "display_data"
    }
   ],
   "source": [
    "data = [[usasummarystats.iloc[7,4],'USA'], [japansummarystats.iloc[7,4],'Japan'], [chinasummarystats.iloc[7,4],'China']]\n",
    "  \n",
    "# Create the pandas DataFrame\n",
    "rankdf = pd.DataFrame(data, columns = ['Power_Max','Country'])\n",
    "  \n",
    "# print dataframe.\n",
    "rankdf\n",
    "\n",
    "import matplotlib as plt\n",
    "from matplotlib import pyplot\n",
    "pyplot.bar(rankdf['Country'], rankdf[\"Power_Max\"])\n",
    "plt.pyplot.xlabel(\"Country\")\n",
    "plt.pyplot.ylabel(\"Max of Power\")\n",
    "plt.pyplot.title(\"Max Of Power In Each Country\")"
   ]
  },
  {
   "cell_type": "code",
   "execution_count": 199,
   "metadata": {},
   "outputs": [
    {
     "data": {
      "text/html": [
       "<div>\n",
       "<style scoped>\n",
       "    .dataframe tbody tr th:only-of-type {\n",
       "        vertical-align: middle;\n",
       "    }\n",
       "\n",
       "    .dataframe tbody tr th {\n",
       "        vertical-align: top;\n",
       "    }\n",
       "\n",
       "    .dataframe thead th {\n",
       "        text-align: right;\n",
       "    }\n",
       "</style>\n",
       "<table border=\"1\" class=\"dataframe\">\n",
       "  <thead>\n",
       "    <tr style=\"text-align: right;\">\n",
       "      <th></th>\n",
       "      <th>Rank</th>\n",
       "      <th>Cores</th>\n",
       "      <th>Rmax (TFlop/s)</th>\n",
       "      <th>Rpeak (TFlop/s)</th>\n",
       "      <th>Power (kW)</th>\n",
       "    </tr>\n",
       "  </thead>\n",
       "  <tbody>\n",
       "    <tr>\n",
       "      <th>count</th>\n",
       "      <td>113.00</td>\n",
       "      <td>113.00</td>\n",
       "      <td>113.00</td>\n",
       "      <td>113.00</td>\n",
       "      <td>113.00</td>\n",
       "    </tr>\n",
       "    <tr>\n",
       "      <th>mean</th>\n",
       "      <td>235.14</td>\n",
       "      <td>136048.07</td>\n",
       "      <td>5917.76</td>\n",
       "      <td>8339.44</td>\n",
       "      <td>2803.95</td>\n",
       "    </tr>\n",
       "    <tr>\n",
       "      <th>std</th>\n",
       "      <td>147.06</td>\n",
       "      <td>285704.94</td>\n",
       "      <td>17350.44</td>\n",
       "      <td>23432.96</td>\n",
       "      <td>2019.35</td>\n",
       "    </tr>\n",
       "    <tr>\n",
       "      <th>min</th>\n",
       "      <td>2.00</td>\n",
       "      <td>19840.00</td>\n",
       "      <td>1362.00</td>\n",
       "      <td>1531.00</td>\n",
       "      <td>90.00</td>\n",
       "    </tr>\n",
       "    <tr>\n",
       "      <th>25%</th>\n",
       "      <td>90.00</td>\n",
       "      <td>57600.00</td>\n",
       "      <td>1649.00</td>\n",
       "      <td>2120.00</td>\n",
       "      <td>2803.95</td>\n",
       "    </tr>\n",
       "    <tr>\n",
       "      <th>50%</th>\n",
       "      <td>277.00</td>\n",
       "      <td>57600.00</td>\n",
       "      <td>1841.00</td>\n",
       "      <td>2602.00</td>\n",
       "      <td>2803.95</td>\n",
       "    </tr>\n",
       "    <tr>\n",
       "      <th>75%</th>\n",
       "      <td>361.00</td>\n",
       "      <td>95472.00</td>\n",
       "      <td>3319.00</td>\n",
       "      <td>4897.00</td>\n",
       "      <td>2803.95</td>\n",
       "    </tr>\n",
       "    <tr>\n",
       "      <th>max</th>\n",
       "      <td>486.00</td>\n",
       "      <td>2414592.00</td>\n",
       "      <td>148600.00</td>\n",
       "      <td>200795.00</td>\n",
       "      <td>13620.00</td>\n",
       "    </tr>\n",
       "  </tbody>\n",
       "</table>\n",
       "</div>"
      ],
      "text/plain": [
       "         Rank       Cores  Rmax (TFlop/s)  Rpeak (TFlop/s)  Power (kW)\n",
       "count  113.00      113.00          113.00           113.00      113.00\n",
       "mean   235.14   136048.07         5917.76          8339.44     2803.95\n",
       "std    147.06   285704.94        17350.44         23432.96     2019.35\n",
       "min      2.00    19840.00         1362.00          1531.00       90.00\n",
       "25%     90.00    57600.00         1649.00          2120.00     2803.95\n",
       "50%    277.00    57600.00         1841.00          2602.00     2803.95\n",
       "75%    361.00    95472.00         3319.00          4897.00     2803.95\n",
       "max    486.00  2414592.00       148600.00        200795.00    13620.00"
      ]
     },
     "execution_count": 199,
     "metadata": {},
     "output_type": "execute_result"
    }
   ],
   "source": [
    "#df.boxplot(by ='size', column =['tip'], grid = False)\n",
    "usasummarystats"
   ]
  },
  {
   "cell_type": "code",
   "execution_count": 204,
   "metadata": {},
   "outputs": [
    {
     "name": "stdout",
     "output_type": "stream",
     "text": [
      "<class 'pandas.core.frame.DataFrame'>\n",
      "Index: 8 entries, count to max\n",
      "Data columns (total 5 columns):\n",
      " #   Column           Non-Null Count  Dtype  \n",
      "---  ------           --------------  -----  \n",
      " 0   Rank             8 non-null      float64\n",
      " 1   Cores            8 non-null      float64\n",
      " 2   Rmax (TFlop/s)   8 non-null      float64\n",
      " 3   Rpeak (TFlop/s)  8 non-null      float64\n",
      " 4   Power (kW)       8 non-null      float64\n",
      "dtypes: float64(5)\n",
      "memory usage: 384.0+ bytes\n"
     ]
    },
    {
     "data": {
      "image/png": "[encoded data removed]",
      "text/plain": [
       "<Figure size 432x288 with 1 Axes>"
      ]
     },
     "metadata": {
      "needs_background": "light"
     },
     "output_type": "display_data"
    }
   ],
   "source": [
    "usasummarystats.boxplot('Rank', grid = False)\n",
    "usasummarystats.info()"
   ]
  },
  {
   "cell_type": "code",
   "execution_count": 219,
   "metadata": {},
   "outputs": [
    {
     "data": {
      "image/png": "[encoded data removed]",
      "text/plain": [
       "<Figure size 432x288 with 1 Axes>"
      ]
     },
     "metadata": {
      "needs_background": "light"
     },
     "output_type": "display_data"
    }
   ],
   "source": [
    "df = pd.DataFrame(usasummarystats, columns=['Rank', 'Cores',  'Rpeak (TFlop/s)', 'Power (kW)'])\n",
    "ax = df.plot(kind='box')\n",
    "ax.set_xlabel('Summary Stats for USA')\n",
    "ax.set_ylabel('')\n",
    "plt.ylim(0,300000)\n",
    "plt.show()"
   ]
  },
  {
   "cell_type": "code",
   "execution_count": 247,
   "metadata": {},
   "outputs": [
    {
     "data": {
      "image/png": "[encoded data removed]",
      "text/plain": [
       "<Figure size 432x288 with 1 Axes>"
      ]
     },
     "metadata": {
      "needs_background": "light"
     },
     "output_type": "display_data"
    },
    {
     "data": {
      "image/png": "[encoded data removed]",
      "text/plain": [
       "<Figure size 432x288 with 1 Axes>"
      ]
     },
     "metadata": {
      "needs_background": "light"
     },
     "output_type": "display_data"
    }
   ],
   "source": [
    "df = pd.DataFrame(chinasummarystats, columns=['Rank', 'Cores',  'Rpeak (TFlop/s)', 'Power (kW)'])\n",
    "ax = df.plot(kind='box')\n",
    "ax.set_xlabel('Summary Stats for China')\n",
    "ax.set_ylabel('')\n",
    "plt.ylim(0,340000)\n",
    "plt.show()\n",
    "\n",
    "df = pd.DataFrame(japansummarystats, columns=['Rank', 'Cores',  'Rpeak (TFlop/s)', 'Power (kW)'])\n",
    "ax = df.plot(kind='box')\n",
    "ax.set_xlabel('Summary Stats for Japan')\n",
    "ax.set_ylabel('')\n",
    "plt.ylim(0,1300000)\n",
    "plt.show()"
   ]
  },
  {
   "cell_type": "code",
   "execution_count": null,
   "metadata": {},
   "outputs": [],
   "source": []
  }
 ],
 "metadata": {
  "kernelspec": {
   "display_name": "Python 3 (ipykernel)",
   "language": "python",
   "name": "python3"
  },
  "language_info": {
   "codemirror_mode": {
    "name": "ipython",
    "version": 3
   },
   "file_extension": ".py",
   "mimetype": "text/x-python",
   "name": "python",
   "nbconvert_exporter": "python",
   "pygments_lexer": "ipython3",
   "version": "3.8.5"
  }
 },
 "nbformat": 4,
 "nbformat_minor": 4
}
